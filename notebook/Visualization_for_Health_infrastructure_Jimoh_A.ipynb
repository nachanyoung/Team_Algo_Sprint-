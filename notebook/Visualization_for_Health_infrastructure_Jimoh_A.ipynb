{
 "cells": [
  {
   "cell_type": "markdown",
   "metadata": {
    "id": "N1YGK_lwagb4"
   },
   "source": [
    "## Importing Libraries and Loading Data"
   ]
  },
  {
   "cell_type": "code",
   "execution_count": 1,
   "metadata": {
    "id": "Sh1ZAn6EbfWB"
   },
   "outputs": [],
   "source": [
    "import pandas as pd\n",
    "import matplotlib.pyplot as plt\n",
    "import seaborn as sns\n",
    "\n",
    "#the data is in a CSV file\n",
    "\n",
    "data = pd.read_csv('./health_infrastructure.csv')"
   ]
  },
  {
   "cell_type": "code",
   "execution_count": 2,
   "metadata": {
    "colab": {
     "base_uri": "https://localhost:8080/",
     "height": 243
    },
    "id": "EAe-Vdcbd0Fz",
    "outputId": "b4b5d336-3a6e-4125-9bcc-a6c75aa56dc0"
   },
   "outputs": [
    {
     "data": {
      "text/html": [
       "<div>\n",
       "<style scoped>\n",
       "    .dataframe tbody tr th:only-of-type {\n",
       "        vertical-align: middle;\n",
       "    }\n",
       "\n",
       "    .dataframe tbody tr th {\n",
       "        vertical-align: top;\n",
       "    }\n",
       "\n",
       "    .dataframe thead th {\n",
       "        text-align: right;\n",
       "    }\n",
       "</style>\n",
       "<table border=\"1\" class=\"dataframe\">\n",
       "  <thead>\n",
       "    <tr style=\"text-align: right;\">\n",
       "      <th></th>\n",
       "      <th>Country</th>\n",
       "      <th>Year</th>\n",
       "      <th>Hospital_density</th>\n",
       "      <th>gdp</th>\n",
       "      <th>Communicable_disease</th>\n",
       "      <th>Hospital_Expenditure</th>\n",
       "      <th>Total_Health_Expenditure</th>\n",
       "      <th>Injury Count</th>\n",
       "      <th>life_expectancy</th>\n",
       "      <th>Mortality</th>\n",
       "      <th>Population</th>\n",
       "    </tr>\n",
       "  </thead>\n",
       "  <tbody>\n",
       "    <tr>\n",
       "      <th>0</th>\n",
       "      <td>Australia</td>\n",
       "      <td>2000</td>\n",
       "      <td>6.648</td>\n",
       "      <td>4.158450e+11</td>\n",
       "      <td>35.6</td>\n",
       "      <td>2.987</td>\n",
       "      <td>7.594</td>\n",
       "      <td>138.30</td>\n",
       "      <td>79.2</td>\n",
       "      <td>676.8</td>\n",
       "      <td>19028802.0</td>\n",
       "    </tr>\n",
       "    <tr>\n",
       "      <th>1</th>\n",
       "      <td>Australia</td>\n",
       "      <td>2001</td>\n",
       "      <td>6.656</td>\n",
       "      <td>3.793580e+11</td>\n",
       "      <td>53.3</td>\n",
       "      <td>3.024</td>\n",
       "      <td>7.678</td>\n",
       "      <td>141.76</td>\n",
       "      <td>79.6</td>\n",
       "      <td>667.5</td>\n",
       "      <td>19274701.0</td>\n",
       "    </tr>\n",
       "    <tr>\n",
       "      <th>2</th>\n",
       "      <td>Australia</td>\n",
       "      <td>2002</td>\n",
       "      <td>6.586</td>\n",
       "      <td>3.955730e+11</td>\n",
       "      <td>32.2</td>\n",
       "      <td>3.123</td>\n",
       "      <td>7.876</td>\n",
       "      <td>142.60</td>\n",
       "      <td>79.9</td>\n",
       "      <td>682.5</td>\n",
       "      <td>19495210.0</td>\n",
       "    </tr>\n",
       "    <tr>\n",
       "      <th>3</th>\n",
       "      <td>Australia</td>\n",
       "      <td>2003</td>\n",
       "      <td>6.521</td>\n",
       "      <td>4.674980e+11</td>\n",
       "      <td>29.3</td>\n",
       "      <td>3.157</td>\n",
       "      <td>7.881</td>\n",
       "      <td>143.47</td>\n",
       "      <td>80.2</td>\n",
       "      <td>668.3</td>\n",
       "      <td>19720737.0</td>\n",
       "    </tr>\n",
       "    <tr>\n",
       "      <th>4</th>\n",
       "      <td>Australia</td>\n",
       "      <td>2004</td>\n",
       "      <td>6.477</td>\n",
       "      <td>6.143260e+11</td>\n",
       "      <td>46.4</td>\n",
       "      <td>3.250</td>\n",
       "      <td>8.087</td>\n",
       "      <td>144.10</td>\n",
       "      <td>80.5</td>\n",
       "      <td>663.8</td>\n",
       "      <td>19932722.0</td>\n",
       "    </tr>\n",
       "  </tbody>\n",
       "</table>\n",
       "</div>"
      ],
      "text/plain": [
       "     Country  Year  Hospital_density           gdp  Communicable_disease  \\\n",
       "0  Australia  2000             6.648  4.158450e+11                  35.6   \n",
       "1  Australia  2001             6.656  3.793580e+11                  53.3   \n",
       "2  Australia  2002             6.586  3.955730e+11                  32.2   \n",
       "3  Australia  2003             6.521  4.674980e+11                  29.3   \n",
       "4  Australia  2004             6.477  6.143260e+11                  46.4   \n",
       "\n",
       "   Hospital_Expenditure  Total_Health_Expenditure  Injury Count  \\\n",
       "0                 2.987                     7.594        138.30   \n",
       "1                 3.024                     7.678        141.76   \n",
       "2                 3.123                     7.876        142.60   \n",
       "3                 3.157                     7.881        143.47   \n",
       "4                 3.250                     8.087        144.10   \n",
       "\n",
       "   life_expectancy  Mortality  Population  \n",
       "0             79.2      676.8  19028802.0  \n",
       "1             79.6      667.5  19274701.0  \n",
       "2             79.9      682.5  19495210.0  \n",
       "3             80.2      668.3  19720737.0  \n",
       "4             80.5      663.8  19932722.0  "
      ]
     },
     "execution_count": 2,
     "metadata": {},
     "output_type": "execute_result"
    }
   ],
   "source": [
    "data.head()"
   ]
  },
  {
   "cell_type": "markdown",
   "metadata": {
    "id": "d8RLB-F3bPxU"
   },
   "source": [
    "# Correlation Heatmap"
   ]
  },
  {
   "cell_type": "markdown",
   "metadata": {
    "id": "4hvnRrgdmWr6"
   },
   "source": [
    "Correlation Heatmap: This can help identify how different variables are related to one another. For example, you might find that higher GDP correlates with greater hospital density or that higher health expenditure is associated with lower mortality rates. These correlations can suggest where AI-driven resource allocation could be most effective."
   ]
  },
  {
   "cell_type": "code",
   "execution_count": 3,
   "metadata": {
    "colab": {
     "base_uri": "https://localhost:8080/",
     "height": 1000
    },
    "id": "QLmz5U79etC7",
    "outputId": "659ff666-cc45-405b-c71a-a86b8bb975be"
   },
   "outputs": [
    {
     "ename": "ValueError",
     "evalue": "could not convert string to float: 'Australia'",
     "output_type": "error",
     "traceback": [
      "\u001b[1;31m---------------------------------------------------------------------------\u001b[0m",
      "\u001b[1;31mValueError\u001b[0m                                Traceback (most recent call last)",
      "Cell \u001b[1;32mIn[3], line 4\u001b[0m\n\u001b[0;32m      1\u001b[0m \u001b[38;5;66;03m#Visualize the correlation between different numeric features.\u001b[39;00m\n\u001b[0;32m      3\u001b[0m plt\u001b[38;5;241m.\u001b[39mfigure(figsize\u001b[38;5;241m=\u001b[39m(\u001b[38;5;241m12\u001b[39m, \u001b[38;5;241m10\u001b[39m))\n\u001b[1;32m----> 4\u001b[0m correlation \u001b[38;5;241m=\u001b[39m \u001b[43mdata\u001b[49m\u001b[38;5;241;43m.\u001b[39;49m\u001b[43mcorr\u001b[49m\u001b[43m(\u001b[49m\u001b[43m)\u001b[49m\n\u001b[0;32m      5\u001b[0m sns\u001b[38;5;241m.\u001b[39mheatmap(correlation, annot\u001b[38;5;241m=\u001b[39m\u001b[38;5;28;01mTrue\u001b[39;00m, cmap\u001b[38;5;241m=\u001b[39m\u001b[38;5;124m'\u001b[39m\u001b[38;5;124mviridis\u001b[39m\u001b[38;5;124m'\u001b[39m, fmt\u001b[38;5;241m=\u001b[39m\u001b[38;5;124m'\u001b[39m\u001b[38;5;124m.2f\u001b[39m\u001b[38;5;124m'\u001b[39m)\n\u001b[0;32m      6\u001b[0m plt\u001b[38;5;241m.\u001b[39mtitle(\u001b[38;5;124m'\u001b[39m\u001b[38;5;124mCorrelation Heatmap\u001b[39m\u001b[38;5;124m'\u001b[39m)\n",
      "File \u001b[1;32m~\\AppData\\Local\\Programs\\Python\\Python310\\lib\\site-packages\\pandas\\core\\frame.py:10054\u001b[0m, in \u001b[0;36mDataFrame.corr\u001b[1;34m(self, method, min_periods, numeric_only)\u001b[0m\n\u001b[0;32m  10052\u001b[0m cols \u001b[38;5;241m=\u001b[39m data\u001b[38;5;241m.\u001b[39mcolumns\n\u001b[0;32m  10053\u001b[0m idx \u001b[38;5;241m=\u001b[39m cols\u001b[38;5;241m.\u001b[39mcopy()\n\u001b[1;32m> 10054\u001b[0m mat \u001b[38;5;241m=\u001b[39m \u001b[43mdata\u001b[49m\u001b[38;5;241;43m.\u001b[39;49m\u001b[43mto_numpy\u001b[49m\u001b[43m(\u001b[49m\u001b[43mdtype\u001b[49m\u001b[38;5;241;43m=\u001b[39;49m\u001b[38;5;28;43mfloat\u001b[39;49m\u001b[43m,\u001b[49m\u001b[43m \u001b[49m\u001b[43mna_value\u001b[49m\u001b[38;5;241;43m=\u001b[39;49m\u001b[43mnp\u001b[49m\u001b[38;5;241;43m.\u001b[39;49m\u001b[43mnan\u001b[49m\u001b[43m,\u001b[49m\u001b[43m \u001b[49m\u001b[43mcopy\u001b[49m\u001b[38;5;241;43m=\u001b[39;49m\u001b[38;5;28;43;01mFalse\u001b[39;49;00m\u001b[43m)\u001b[49m\n\u001b[0;32m  10056\u001b[0m \u001b[38;5;28;01mif\u001b[39;00m method \u001b[38;5;241m==\u001b[39m \u001b[38;5;124m\"\u001b[39m\u001b[38;5;124mpearson\u001b[39m\u001b[38;5;124m\"\u001b[39m:\n\u001b[0;32m  10057\u001b[0m     correl \u001b[38;5;241m=\u001b[39m libalgos\u001b[38;5;241m.\u001b[39mnancorr(mat, minp\u001b[38;5;241m=\u001b[39mmin_periods)\n",
      "File \u001b[1;32m~\\AppData\\Local\\Programs\\Python\\Python310\\lib\\site-packages\\pandas\\core\\frame.py:1838\u001b[0m, in \u001b[0;36mDataFrame.to_numpy\u001b[1;34m(self, dtype, copy, na_value)\u001b[0m\n\u001b[0;32m   1836\u001b[0m \u001b[38;5;28;01mif\u001b[39;00m dtype \u001b[38;5;129;01mis\u001b[39;00m \u001b[38;5;129;01mnot\u001b[39;00m \u001b[38;5;28;01mNone\u001b[39;00m:\n\u001b[0;32m   1837\u001b[0m     dtype \u001b[38;5;241m=\u001b[39m np\u001b[38;5;241m.\u001b[39mdtype(dtype)\n\u001b[1;32m-> 1838\u001b[0m result \u001b[38;5;241m=\u001b[39m \u001b[38;5;28;43mself\u001b[39;49m\u001b[38;5;241;43m.\u001b[39;49m\u001b[43m_mgr\u001b[49m\u001b[38;5;241;43m.\u001b[39;49m\u001b[43mas_array\u001b[49m\u001b[43m(\u001b[49m\u001b[43mdtype\u001b[49m\u001b[38;5;241;43m=\u001b[39;49m\u001b[43mdtype\u001b[49m\u001b[43m,\u001b[49m\u001b[43m \u001b[49m\u001b[43mcopy\u001b[49m\u001b[38;5;241;43m=\u001b[39;49m\u001b[43mcopy\u001b[49m\u001b[43m,\u001b[49m\u001b[43m \u001b[49m\u001b[43mna_value\u001b[49m\u001b[38;5;241;43m=\u001b[39;49m\u001b[43mna_value\u001b[49m\u001b[43m)\u001b[49m\n\u001b[0;32m   1839\u001b[0m \u001b[38;5;28;01mif\u001b[39;00m result\u001b[38;5;241m.\u001b[39mdtype \u001b[38;5;129;01mis\u001b[39;00m \u001b[38;5;129;01mnot\u001b[39;00m dtype:\n\u001b[0;32m   1840\u001b[0m     result \u001b[38;5;241m=\u001b[39m np\u001b[38;5;241m.\u001b[39marray(result, dtype\u001b[38;5;241m=\u001b[39mdtype, copy\u001b[38;5;241m=\u001b[39m\u001b[38;5;28;01mFalse\u001b[39;00m)\n",
      "File \u001b[1;32m~\\AppData\\Local\\Programs\\Python\\Python310\\lib\\site-packages\\pandas\\core\\internals\\managers.py:1732\u001b[0m, in \u001b[0;36mBlockManager.as_array\u001b[1;34m(self, dtype, copy, na_value)\u001b[0m\n\u001b[0;32m   1730\u001b[0m         arr\u001b[38;5;241m.\u001b[39mflags\u001b[38;5;241m.\u001b[39mwriteable \u001b[38;5;241m=\u001b[39m \u001b[38;5;28;01mFalse\u001b[39;00m\n\u001b[0;32m   1731\u001b[0m \u001b[38;5;28;01melse\u001b[39;00m:\n\u001b[1;32m-> 1732\u001b[0m     arr \u001b[38;5;241m=\u001b[39m \u001b[38;5;28;43mself\u001b[39;49m\u001b[38;5;241;43m.\u001b[39;49m\u001b[43m_interleave\u001b[49m\u001b[43m(\u001b[49m\u001b[43mdtype\u001b[49m\u001b[38;5;241;43m=\u001b[39;49m\u001b[43mdtype\u001b[49m\u001b[43m,\u001b[49m\u001b[43m \u001b[49m\u001b[43mna_value\u001b[49m\u001b[38;5;241;43m=\u001b[39;49m\u001b[43mna_value\u001b[49m\u001b[43m)\u001b[49m\n\u001b[0;32m   1733\u001b[0m     \u001b[38;5;66;03m# The underlying data was copied within _interleave, so no need\u001b[39;00m\n\u001b[0;32m   1734\u001b[0m     \u001b[38;5;66;03m# to further copy if copy=True or setting na_value\u001b[39;00m\n\u001b[0;32m   1736\u001b[0m \u001b[38;5;28;01mif\u001b[39;00m na_value \u001b[38;5;129;01mis\u001b[39;00m \u001b[38;5;129;01mnot\u001b[39;00m lib\u001b[38;5;241m.\u001b[39mno_default:\n",
      "File \u001b[1;32m~\\AppData\\Local\\Programs\\Python\\Python310\\lib\\site-packages\\pandas\\core\\internals\\managers.py:1794\u001b[0m, in \u001b[0;36mBlockManager._interleave\u001b[1;34m(self, dtype, na_value)\u001b[0m\n\u001b[0;32m   1792\u001b[0m     \u001b[38;5;28;01melse\u001b[39;00m:\n\u001b[0;32m   1793\u001b[0m         arr \u001b[38;5;241m=\u001b[39m blk\u001b[38;5;241m.\u001b[39mget_values(dtype)\n\u001b[1;32m-> 1794\u001b[0m     \u001b[43mresult\u001b[49m\u001b[43m[\u001b[49m\u001b[43mrl\u001b[49m\u001b[38;5;241;43m.\u001b[39;49m\u001b[43mindexer\u001b[49m\u001b[43m]\u001b[49m \u001b[38;5;241m=\u001b[39m arr\n\u001b[0;32m   1795\u001b[0m     itemmask[rl\u001b[38;5;241m.\u001b[39mindexer] \u001b[38;5;241m=\u001b[39m \u001b[38;5;241m1\u001b[39m\n\u001b[0;32m   1797\u001b[0m \u001b[38;5;28;01mif\u001b[39;00m \u001b[38;5;129;01mnot\u001b[39;00m itemmask\u001b[38;5;241m.\u001b[39mall():\n",
      "\u001b[1;31mValueError\u001b[0m: could not convert string to float: 'Australia'"
     ]
    },
    {
     "data": {
      "text/plain": [
       "<Figure size 1200x1000 with 0 Axes>"
      ]
     },
     "metadata": {},
     "output_type": "display_data"
    }
   ],
   "source": [
    "#Visualize the correlation between different numeric features.\n",
    "\n",
    "plt.figure(figsize=(12, 10))\n",
    "correlation = data.corr()\n",
    "sns.heatmap(correlation, annot=True, cmap='viridis', fmt='.2f')\n",
    "plt.title('Correlation Heatmap')\n",
    "plt.show()"
   ]
  },
  {
   "cell_type": "markdown",
   "metadata": {
    "id": "fAY3lg4QxYnH"
   },
   "source": [
    "As you can see above, GDP and population are highly correlated while the rest are not as correclated."
   ]
  },
  {
   "cell_type": "markdown",
   "metadata": {
    "id": "vxFyI2ztbym1"
   },
   "source": [
    "# Time Series Plot"
   ]
  },
  {
   "cell_type": "markdown",
   "metadata": {
    "id": "XnFNQzYQmk3g"
   },
   "source": [
    "By plotting features over time, you can observe trends and cyclical patterns. If hospital density is not increasing with time, or if there are significant dips during Covid-19 years, it could indicate areas where AI predictive modeling could aid in future planning."
   ]
  },
  {
   "cell_type": "code",
   "execution_count": null,
   "metadata": {
    "colab": {
     "base_uri": "https://localhost:8080/",
     "height": 487
    },
    "id": "oRFJagJfbTrQ",
    "outputId": "f6b982b7-0b0b-4ef1-e85d-5458fa1b19c2"
   },
   "outputs": [],
   "source": [
    "#Plot a time series data of gdp over the years.\n",
    "\n",
    "plt.figure(figsize=(5, 5))\n",
    "sns.lineplot(x='Year', y='gdp', data=data, marker='o')\n",
    "plt.title('GDP over the Years')\n",
    "plt.show()"
   ]
  },
  {
   "cell_type": "markdown",
   "metadata": {
    "id": "ADWFgHytxrQK"
   },
   "source": [
    "From the above time series, we can see that the gdp increases over time. There was a dip around 2019 to 2020 probably due to the covid 19 pandemic"
   ]
  },
  {
   "cell_type": "code",
   "execution_count": null,
   "metadata": {
    "colab": {
     "base_uri": "https://localhost:8080/",
     "height": 487
    },
    "id": "-pXQUtSxcL5a",
    "outputId": "353df256-50a3-48ea-89e3-bde134a7c908"
   },
   "outputs": [],
   "source": [
    "#Plot a time series data of Total Health Expenditure over the years.\n",
    "\n",
    "plt.figure(figsize=(5, 5))\n",
    "sns.lineplot(x='Year', y='Total_Health_Expenditure', data=data, marker='o')\n",
    "plt.title('Total Health Expenditure over the Years by Country')\n",
    "plt.show()"
   ]
  },
  {
   "cell_type": "markdown",
   "metadata": {
    "id": "rSWMmgjyyCjM"
   },
   "source": [
    "For the above, There is an increase in total health expenditure over time most likely due to the increase in gpd overtime as shown in the previous timeseries. There is also a dip from around 2020 due to the global pandemic."
   ]
  },
  {
   "cell_type": "code",
   "execution_count": null,
   "metadata": {
    "colab": {
     "base_uri": "https://localhost:8080/",
     "height": 487
    },
    "id": "0l8OGA11n4xe",
    "outputId": "3c1eb8e3-d1e6-412b-8cab-a961da31c99e"
   },
   "outputs": [],
   "source": [
    "#Plot a time series data of Population over the years.\n",
    "\n",
    "plt.figure(figsize=(5, 5))\n",
    "sns.lineplot(x='Year', y='Population', data=data, marker='o')\n",
    "plt.title('Population over the Years by Country')\n",
    "plt.show()"
   ]
  },
  {
   "cell_type": "markdown",
   "metadata": {
    "id": "v952lSo-yfUp"
   },
   "source": [
    "For the above, There is clearly a slight increase in population over time for all the coutries."
   ]
  },
  {
   "cell_type": "code",
   "execution_count": null,
   "metadata": {
    "colab": {
     "base_uri": "https://localhost:8080/",
     "height": 487
    },
    "id": "yz-Y9dyFeesX",
    "outputId": "1a32882d-5f0b-4cbe-e5f8-b3039aeacaa1"
   },
   "outputs": [],
   "source": [
    "#Plot a time series data of Hospital Density over the years.\n",
    "\n",
    "plt.figure(figsize=(5, 5))\n",
    "sns.lineplot(x='Year', y='Hospital_density', data=data, marker='o')\n",
    "plt.title('Hospital Density over the Years by Country')\n",
    "plt.show()"
   ]
  },
  {
   "cell_type": "markdown",
   "metadata": {
    "id": "4JFmVWnDyv4f"
   },
   "source": [
    "For the above time series, the hospital density reduce over time most like due to the increase in population as shown in the timeseries diagram before this one. The more the population of an area increase without new development of hospital facilities, the hospital density will reduce."
   ]
  },
  {
   "cell_type": "code",
   "execution_count": null,
   "metadata": {
    "colab": {
     "base_uri": "https://localhost:8080/",
     "height": 487
    },
    "id": "kjnT2YypgFrO",
    "outputId": "5484923b-0993-4238-88ac-f42d88d9c31c"
   },
   "outputs": [],
   "source": [
    "#Plot a time series data of Mortality over the years.\n",
    "\n",
    "plt.figure(figsize=(5, 5))\n",
    "sns.lineplot(x='Year', y='Mortality', data=data, marker='o')\n",
    "plt.title('Mortality over the Years by Country')\n",
    "plt.show()"
   ]
  },
  {
   "cell_type": "markdown",
   "metadata": {
    "id": "GPQ20AT3zS-s"
   },
   "source": [
    "From the above, there is an increase in mortality over time."
   ]
  },
  {
   "cell_type": "code",
   "execution_count": null,
   "metadata": {
    "colab": {
     "base_uri": "https://localhost:8080/",
     "height": 487
    },
    "id": "DN5JwI_TfgXa",
    "outputId": "18c078d2-920d-4045-a542-59659c77a71f"
   },
   "outputs": [],
   "source": [
    "#Plot a time series data of life_expectancy over the years.\n",
    "\n",
    "plt.figure(figsize=(5, 5))\n",
    "sns.lineplot(x='Year', y='life_expectancy', data=data, marker='o')\n",
    "plt.title('life_expectancy over the Years by Country')\n",
    "plt.show()"
   ]
  },
  {
   "cell_type": "markdown",
   "metadata": {
    "id": "pQldKGB0zcw_"
   },
   "source": [
    "For the above, life expectancy overtime generally increase. But it reduced from around 2019 due to the covid 19 pandemic."
   ]
  },
  {
   "cell_type": "code",
   "execution_count": null,
   "metadata": {
    "colab": {
     "base_uri": "https://localhost:8080/",
     "height": 758
    },
    "id": "_a9OO1VWgAIr",
    "outputId": "4c3f0a20-4ae6-43bc-ce2c-54c1dffb5dae"
   },
   "outputs": [],
   "source": [
    "#View GDP for different countries.\n",
    "\n",
    "plt.figure(figsize=(14, 7))\n",
    "sns.barplot(x='Country', y='gdp', data=data, color='b', label='GDP')\n",
    "plt.title('GDP by Country')\n",
    "plt.xticks(rotation=90)\n",
    "plt.legend()\n",
    "plt.show()"
   ]
  },
  {
   "cell_type": "markdown",
   "metadata": {
    "id": "ktzF0iEVz3Sh"
   },
   "source": [
    "As we can see for the above, US and Japan are leading in terms of GPD"
   ]
  },
  {
   "cell_type": "code",
   "execution_count": null,
   "metadata": {
    "colab": {
     "base_uri": "https://localhost:8080/",
     "height": 703
    },
    "id": "niKQmZwnjNtv",
    "outputId": "08894269-b92a-4e17-a49f-af054cc51d86"
   },
   "outputs": [],
   "source": [
    "#View Total_Health_Expenditure for different countries.\n",
    "\n",
    "plt.figure(figsize=(14, 7))\n",
    "sns.barplot(x='Country', y='Total_Health_Expenditure', data=data, color='b', label='GDP')\n",
    "plt.title('View Total_Health_Expenditure for different countries')\n",
    "plt.xticks(rotation=90)\n",
    "plt.legend()\n",
    "plt.show()"
   ]
  },
  {
   "cell_type": "code",
   "execution_count": null,
   "metadata": {
    "colab": {
     "base_uri": "https://localhost:8080/",
     "height": 703
    },
    "id": "GMCMwNmji4PC",
    "outputId": "ec875ceb-f3e2-48c7-d4a8-0e856d241bc6"
   },
   "outputs": [],
   "source": [
    "#View Hospital_density for different countries.\n",
    "\n",
    "plt.figure(figsize=(14, 7))\n",
    "sns.barplot(x='Country', y='Hospital_density', data=data, color='b', label='GDP')\n",
    "plt.title('View Hospital_density for different countries')\n",
    "plt.xticks(rotation=90)\n",
    "plt.legend()\n",
    "plt.show()"
   ]
  },
  {
   "cell_type": "markdown",
   "metadata": {
    "id": "6joHh-no0Ecl"
   },
   "source": [
    "From the above, we can see that even though US, Japan and some other coutries are leading in GDP and Health expenditure, but Colombia has the highest hospital density. This is because of population. The population in a coutry can affect the hopital density because there will be more people for one hospital in populated country compared to a country that's not as populated."
   ]
  },
  {
   "cell_type": "code",
   "execution_count": null,
   "metadata": {
    "colab": {
     "base_uri": "https://localhost:8080/",
     "height": 758
    },
    "id": "SZza6deHi93G",
    "outputId": "e63b09ec-a299-4d8a-966f-128ef74bb96e"
   },
   "outputs": [],
   "source": [
    "#View life_expectancy for different countries.\n",
    "\n",
    "plt.figure(figsize=(14, 7))\n",
    "sns.barplot(x='Country', y='life_expectancy', data=data, color='b', label='GDP')\n",
    "plt.title('View life_expectancy for different countries')\n",
    "plt.xticks(rotation=90)\n",
    "plt.legend()\n",
    "plt.show()"
   ]
  },
  {
   "cell_type": "markdown",
   "metadata": {
    "id": "GzkoPI-f0zKO"
   },
   "source": [
    "For the above, the life expectance if farly distributed."
   ]
  },
  {
   "cell_type": "code",
   "execution_count": null,
   "metadata": {
    "id": "zTvbiNzZlR55"
   },
   "outputs": [],
   "source": []
  }
 ],
 "metadata": {
  "colab": {
   "provenance": []
  },
  "kernelspec": {
   "display_name": "Python 3 (ipykernel)",
   "language": "python",
   "name": "python3"
  },
  "language_info": {
   "codemirror_mode": {
    "name": "ipython",
    "version": 3
   },
   "file_extension": ".py",
   "mimetype": "text/x-python",
   "name": "python",
   "nbconvert_exporter": "python",
   "pygments_lexer": "ipython3",
   "version": "3.10.7"
  }
 },
 "nbformat": 4,
 "nbformat_minor": 4
}
