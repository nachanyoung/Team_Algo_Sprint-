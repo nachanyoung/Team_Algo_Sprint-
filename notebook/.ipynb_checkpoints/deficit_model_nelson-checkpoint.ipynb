{
 "cells": [
  {
   "cell_type": "code",
   "execution_count": 1,
   "id": "09b5fdfb-4c7b-4781-852b-89afd46fe135",
   "metadata": {},
   "outputs": [],
   "source": [
    "import pandas as pd\n",
    "import numpy as np\n",
    "import seaborn as sns\n",
    "import xgboost as xgb\n",
    "import matplotlib.pyplot as plt\n",
    "from sklearn.model_selection import train_test_split\n",
    "from sklearn.linear_model import LinearRegression\n",
    "from sklearn.preprocessing import LabelEncoder\n",
    "from sklearn.metrics import mean_absolute_error, accuracy_score, mean_squared_error, r2_score"
   ]
  },
  {
   "cell_type": "code",
   "execution_count": 2,
   "id": "72b9a00d-c403-4db4-ab13-f8685b6661a3",
   "metadata": {},
   "outputs": [],
   "source": [
    "df = pd.read_csv(\"../health_infrastructure.csv\")"
   ]
  },
  {
   "cell_type": "code",
   "execution_count": 3,
   "id": "237da49d-40f5-4300-9db1-f57b440ba452",
   "metadata": {},
   "outputs": [
    {
     "data": {
      "text/html": [
       "<div>\n",
       "<style scoped>\n",
       "    .dataframe tbody tr th:only-of-type {\n",
       "        vertical-align: middle;\n",
       "    }\n",
       "\n",
       "    .dataframe tbody tr th {\n",
       "        vertical-align: top;\n",
       "    }\n",
       "\n",
       "    .dataframe thead th {\n",
       "        text-align: right;\n",
       "    }\n",
       "</style>\n",
       "<table border=\"1\" class=\"dataframe\">\n",
       "  <thead>\n",
       "    <tr style=\"text-align: right;\">\n",
       "      <th></th>\n",
       "      <th>Country</th>\n",
       "      <th>Year</th>\n",
       "      <th>Hospital_density</th>\n",
       "      <th>gdp</th>\n",
       "      <th>Communicable_disease</th>\n",
       "      <th>Hospital_Expenditure</th>\n",
       "      <th>Total_Health_Expenditure</th>\n",
       "      <th>Injury Count</th>\n",
       "      <th>life_expectancy</th>\n",
       "      <th>Mortality</th>\n",
       "      <th>Population</th>\n",
       "    </tr>\n",
       "  </thead>\n",
       "  <tbody>\n",
       "    <tr>\n",
       "      <th>0</th>\n",
       "      <td>Australia</td>\n",
       "      <td>2000</td>\n",
       "      <td>6.648</td>\n",
       "      <td>4.158450e+11</td>\n",
       "      <td>35.6</td>\n",
       "      <td>2.987</td>\n",
       "      <td>7.594</td>\n",
       "      <td>138.30</td>\n",
       "      <td>79.2</td>\n",
       "      <td>676.8</td>\n",
       "      <td>19028802.0</td>\n",
       "    </tr>\n",
       "    <tr>\n",
       "      <th>1</th>\n",
       "      <td>Australia</td>\n",
       "      <td>2001</td>\n",
       "      <td>6.656</td>\n",
       "      <td>3.793580e+11</td>\n",
       "      <td>53.3</td>\n",
       "      <td>3.024</td>\n",
       "      <td>7.678</td>\n",
       "      <td>141.76</td>\n",
       "      <td>79.6</td>\n",
       "      <td>667.5</td>\n",
       "      <td>19274701.0</td>\n",
       "    </tr>\n",
       "    <tr>\n",
       "      <th>2</th>\n",
       "      <td>Australia</td>\n",
       "      <td>2002</td>\n",
       "      <td>6.586</td>\n",
       "      <td>3.955730e+11</td>\n",
       "      <td>32.2</td>\n",
       "      <td>3.123</td>\n",
       "      <td>7.876</td>\n",
       "      <td>142.60</td>\n",
       "      <td>79.9</td>\n",
       "      <td>682.5</td>\n",
       "      <td>19495210.0</td>\n",
       "    </tr>\n",
       "    <tr>\n",
       "      <th>3</th>\n",
       "      <td>Australia</td>\n",
       "      <td>2003</td>\n",
       "      <td>6.521</td>\n",
       "      <td>4.674980e+11</td>\n",
       "      <td>29.3</td>\n",
       "      <td>3.157</td>\n",
       "      <td>7.881</td>\n",
       "      <td>143.47</td>\n",
       "      <td>80.2</td>\n",
       "      <td>668.3</td>\n",
       "      <td>19720737.0</td>\n",
       "    </tr>\n",
       "    <tr>\n",
       "      <th>4</th>\n",
       "      <td>Australia</td>\n",
       "      <td>2004</td>\n",
       "      <td>6.477</td>\n",
       "      <td>6.143260e+11</td>\n",
       "      <td>46.4</td>\n",
       "      <td>3.250</td>\n",
       "      <td>8.087</td>\n",
       "      <td>144.10</td>\n",
       "      <td>80.5</td>\n",
       "      <td>663.8</td>\n",
       "      <td>19932722.0</td>\n",
       "    </tr>\n",
       "  </tbody>\n",
       "</table>\n",
       "</div>"
      ],
      "text/plain": [
       "     Country  Year  Hospital_density           gdp  Communicable_disease  \\\n",
       "0  Australia  2000             6.648  4.158450e+11                  35.6   \n",
       "1  Australia  2001             6.656  3.793580e+11                  53.3   \n",
       "2  Australia  2002             6.586  3.955730e+11                  32.2   \n",
       "3  Australia  2003             6.521  4.674980e+11                  29.3   \n",
       "4  Australia  2004             6.477  6.143260e+11                  46.4   \n",
       "\n",
       "   Hospital_Expenditure  Total_Health_Expenditure  Injury Count  \\\n",
       "0                 2.987                     7.594        138.30   \n",
       "1                 3.024                     7.678        141.76   \n",
       "2                 3.123                     7.876        142.60   \n",
       "3                 3.157                     7.881        143.47   \n",
       "4                 3.250                     8.087        144.10   \n",
       "\n",
       "   life_expectancy  Mortality  Population  \n",
       "0             79.2      676.8  19028802.0  \n",
       "1             79.6      667.5  19274701.0  \n",
       "2             79.9      682.5  19495210.0  \n",
       "3             80.2      668.3  19720737.0  \n",
       "4             80.5      663.8  19932722.0  "
      ]
     },
     "execution_count": 3,
     "metadata": {},
     "output_type": "execute_result"
    }
   ],
   "source": [
    "df.head()"
   ]
  },
  {
   "cell_type": "code",
   "execution_count": 4,
   "id": "08be0ea7-0470-4524-ba8b-e99790e12a85",
   "metadata": {},
   "outputs": [
    {
     "name": "stdout",
     "output_type": "stream",
     "text": [
      "<class 'pandas.core.frame.DataFrame'>\n",
      "RangeIndex: 897 entries, 0 to 896\n",
      "Data columns (total 11 columns):\n",
      " #   Column                    Non-Null Count  Dtype  \n",
      "---  ------                    --------------  -----  \n",
      " 0   Country                   897 non-null    object \n",
      " 1   Year                      897 non-null    int64  \n",
      " 2   Hospital_density          897 non-null    float64\n",
      " 3   gdp                       897 non-null    float64\n",
      " 4   Communicable_disease      897 non-null    float64\n",
      " 5   Hospital_Expenditure      897 non-null    float64\n",
      " 6   Total_Health_Expenditure  897 non-null    float64\n",
      " 7   Injury Count              897 non-null    float64\n",
      " 8   life_expectancy           897 non-null    float64\n",
      " 9   Mortality                 897 non-null    float64\n",
      " 10  Population                897 non-null    float64\n",
      "dtypes: float64(9), int64(1), object(1)\n",
      "memory usage: 77.2+ KB\n"
     ]
    }
   ],
   "source": [
    "df.info()"
   ]
  },
  {
   "cell_type": "code",
   "execution_count": null,
   "id": "62f06908-480a-4762-be8f-56171c351f10",
   "metadata": {},
   "outputs": [],
   "source": []
  },
  {
   "cell_type": "code",
   "execution_count": 5,
   "id": "8b9ef8f3-de31-4471-aef4-4d7e4cff3ee0",
   "metadata": {},
   "outputs": [],
   "source": [
    "# encode Country variable to resolve ValueEror when training the model\n",
    "# label_encoder = LabelEncoder()\n",
    "\n",
    "# df['Country'] = label_encoder.fit_transform(df['Country'])"
   ]
  },
  {
   "cell_type": "code",
   "execution_count": 6,
   "id": "b730a622-d269-4e90-b9ae-841db50eab1e",
   "metadata": {},
   "outputs": [],
   "source": [
    "features = df.drop(columns=['Country', 'Hospital_density'])\n",
    "target = df['Hospital_density']"
   ]
  },
  {
   "cell_type": "markdown",
   "id": "50628eda-0146-43fe-bc35-bac8de55ebcd",
   "metadata": {},
   "source": [
    "### ***Correlation***"
   ]
  },
  {
   "cell_type": "code",
   "execution_count": 7,
   "id": "6f7b620a-277d-4120-88cb-50872bd59e37",
   "metadata": {},
   "outputs": [
    {
     "data": {
      "text/plain": [
       "Year                       -0.042157\n",
       "gdp                        -0.021798\n",
       "Communicable_disease        0.089968\n",
       "Hospital_Expenditure        0.500842\n",
       "Total_Health_Expenditure   -0.069142\n",
       "Injury Count               -0.081538\n",
       "life_expectancy            -0.167741\n",
       "Mortality                  -0.202806\n",
       "Population                  0.074867\n",
       "dtype: float64"
      ]
     },
     "execution_count": 7,
     "metadata": {},
     "output_type": "execute_result"
    }
   ],
   "source": [
    "features.corrwith(target)\n"
   ]
  },
  {
   "cell_type": "markdown",
   "id": "7b057033-e8ef-4ae8-b3d4-e209691c89fc",
   "metadata": {},
   "source": [
    "*In the above result there only appear to be a strong correlation between the **Hospital_density** and **Hospital_Expenditure***"
   ]
  },
  {
   "cell_type": "code",
   "execution_count": 8,
   "id": "a42b06d7-bc45-429c-8280-5fc73a192a8a",
   "metadata": {},
   "outputs": [
    {
     "data": {
      "image/png": "[encoded data removed]",
      "text/plain": [
       "<Figure size 640x480 with 1 Axes>"
      ]
     },
     "metadata": {},
     "output_type": "display_data"
    }
   ],
   "source": [
    "# visualising the regression plot for both correlating variables\n",
    "\n",
    "sns.regplot(x='Hospital_density', y='Hospital_Expenditure', data=df)\n",
    "plt.show()"
   ]
  },
  {
   "cell_type": "code",
   "execution_count": 9,
   "id": "ff362777-84bb-45ff-98d5-968b48195daa",
   "metadata": {},
   "outputs": [
    {
     "data": {
      "text/html": [
       "<div>\n",
       "<style scoped>\n",
       "    .dataframe tbody tr th:only-of-type {\n",
       "        vertical-align: middle;\n",
       "    }\n",
       "\n",
       "    .dataframe tbody tr th {\n",
       "        vertical-align: top;\n",
       "    }\n",
       "\n",
       "    .dataframe thead th {\n",
       "        text-align: right;\n",
       "    }\n",
       "</style>\n",
       "<table border=\"1\" class=\"dataframe\">\n",
       "  <thead>\n",
       "    <tr style=\"text-align: right;\">\n",
       "      <th></th>\n",
       "      <th>Year</th>\n",
       "      <th>gdp</th>\n",
       "      <th>Hospital_Expenditure</th>\n",
       "      <th>Total_Health_Expenditure</th>\n",
       "      <th>Injury Count</th>\n",
       "      <th>life_expectancy</th>\n",
       "      <th>Mortality</th>\n",
       "      <th>Population</th>\n",
       "    </tr>\n",
       "  </thead>\n",
       "  <tbody>\n",
       "    <tr>\n",
       "      <th>0</th>\n",
       "      <td>2000</td>\n",
       "      <td>4.158450e+11</td>\n",
       "      <td>2.987</td>\n",
       "      <td>7.594</td>\n",
       "      <td>138.30</td>\n",
       "      <td>79.2</td>\n",
       "      <td>676.8</td>\n",
       "      <td>19028802.0</td>\n",
       "    </tr>\n",
       "    <tr>\n",
       "      <th>1</th>\n",
       "      <td>2001</td>\n",
       "      <td>3.793580e+11</td>\n",
       "      <td>3.024</td>\n",
       "      <td>7.678</td>\n",
       "      <td>141.76</td>\n",
       "      <td>79.6</td>\n",
       "      <td>667.5</td>\n",
       "      <td>19274701.0</td>\n",
       "    </tr>\n",
       "    <tr>\n",
       "      <th>2</th>\n",
       "      <td>2002</td>\n",
       "      <td>3.955730e+11</td>\n",
       "      <td>3.123</td>\n",
       "      <td>7.876</td>\n",
       "      <td>142.60</td>\n",
       "      <td>79.9</td>\n",
       "      <td>682.5</td>\n",
       "      <td>19495210.0</td>\n",
       "    </tr>\n",
       "    <tr>\n",
       "      <th>3</th>\n",
       "      <td>2003</td>\n",
       "      <td>4.674980e+11</td>\n",
       "      <td>3.157</td>\n",
       "      <td>7.881</td>\n",
       "      <td>143.47</td>\n",
       "      <td>80.2</td>\n",
       "      <td>668.3</td>\n",
       "      <td>19720737.0</td>\n",
       "    </tr>\n",
       "    <tr>\n",
       "      <th>4</th>\n",
       "      <td>2004</td>\n",
       "      <td>6.143260e+11</td>\n",
       "      <td>3.250</td>\n",
       "      <td>8.087</td>\n",
       "      <td>144.10</td>\n",
       "      <td>80.5</td>\n",
       "      <td>663.8</td>\n",
       "      <td>19932722.0</td>\n",
       "    </tr>\n",
       "  </tbody>\n",
       "</table>\n",
       "</div>"
      ],
      "text/plain": [
       "   Year           gdp  Hospital_Expenditure  Total_Health_Expenditure  \\\n",
       "0  2000  4.158450e+11                 2.987                     7.594   \n",
       "1  2001  3.793580e+11                 3.024                     7.678   \n",
       "2  2002  3.955730e+11                 3.123                     7.876   \n",
       "3  2003  4.674980e+11                 3.157                     7.881   \n",
       "4  2004  6.143260e+11                 3.250                     8.087   \n",
       "\n",
       "   Injury Count  life_expectancy  Mortality  Population  \n",
       "0        138.30             79.2      676.8  19028802.0  \n",
       "1        141.76             79.6      667.5  19274701.0  \n",
       "2        142.60             79.9      682.5  19495210.0  \n",
       "3        143.47             80.2      668.3  19720737.0  \n",
       "4        144.10             80.5      663.8  19932722.0  "
      ]
     },
     "execution_count": 9,
     "metadata": {},
     "output_type": "execute_result"
    }
   ],
   "source": [
    "# features = df[['Hospital_Expenditure']]\n",
    "features = features.drop(columns=['Communicable_disease'])\n",
    "\n",
    "features.head()"
   ]
  },
  {
   "cell_type": "markdown",
   "id": "3362ec03-29b9-40cb-9c88-9d51a67f8f83",
   "metadata": {},
   "source": [
    "### ***Data splitting***"
   ]
  },
  {
   "cell_type": "code",
   "execution_count": 10,
   "id": "0f4b86c7-38b9-49d2-a7bb-a967a8f3fe6e",
   "metadata": {},
   "outputs": [],
   "source": [
    "x_train, x_test, y_train, y_test = train_test_split(features, target, random_state=24)"
   ]
  },
  {
   "cell_type": "code",
   "execution_count": 11,
   "id": "49af7d8c-866b-4af4-a8d2-497ddae5471a",
   "metadata": {},
   "outputs": [],
   "source": [
    "reg_model = LinearRegression()"
   ]
  },
  {
   "cell_type": "code",
   "execution_count": 12,
   "id": "b33037cd-16b9-4dea-935f-66f2a1548768",
   "metadata": {},
   "outputs": [
    {
     "data": {
      "text/html": [
       "<style>#sk-container-id-1 {color: black;}#sk-container-id-1 pre{padding: 0;}#sk-container-id-1 div.sk-toggleable {background-color: white;}#sk-container-id-1 label.sk-toggleable__label {cursor: pointer;display: block;width: 100%;margin-bottom: 0;padding: 0.3em;box-sizing: border-box;text-align: center;}#sk-container-id-1 label.sk-toggleable__label-arrow:before {content: \"▸\";float: left;margin-right: 0.25em;color: #696969;}#sk-container-id-1 label.sk-toggleable__label-arrow:hover:before {color: black;}#sk-container-id-1 div.sk-estimator:hover label.sk-toggleable__label-arrow:before {color: black;}#sk-container-id-1 div.sk-toggleable__content {max-height: 0;max-width: 0;overflow: hidden;text-align: left;background-color: #f0f8ff;}#sk-container-id-1 div.sk-toggleable__content pre {margin: 0.2em;color: black;border-radius: 0.25em;background-color: #f0f8ff;}#sk-container-id-1 input.sk-toggleable__control:checked~div.sk-toggleable__content {max-height: 200px;max-width: 100%;overflow: auto;}#sk-container-id-1 input.sk-toggleable__control:checked~label.sk-toggleable__label-arrow:before {content: \"▾\";}#sk-container-id-1 div.sk-estimator input.sk-toggleable__control:checked~label.sk-toggleable__label {background-color: #d4ebff;}#sk-container-id-1 div.sk-label input.sk-toggleable__control:checked~label.sk-toggleable__label {background-color: #d4ebff;}#sk-container-id-1 input.sk-hidden--visually {border: 0;clip: rect(1px 1px 1px 1px);clip: rect(1px, 1px, 1px, 1px);height: 1px;margin: -1px;overflow: hidden;padding: 0;position: absolute;width: 1px;}#sk-container-id-1 div.sk-estimator {font-family: monospace;background-color: #f0f8ff;border: 1px dotted black;border-radius: 0.25em;box-sizing: border-box;margin-bottom: 0.5em;}#sk-container-id-1 div.sk-estimator:hover {background-color: #d4ebff;}#sk-container-id-1 div.sk-parallel-item::after {content: \"\";width: 100%;border-bottom: 1px solid gray;flex-grow: 1;}#sk-container-id-1 div.sk-label:hover label.sk-toggleable__label {background-color: #d4ebff;}#sk-container-id-1 div.sk-serial::before {content: \"\";position: absolute;border-left: 1px solid gray;box-sizing: border-box;top: 0;bottom: 0;left: 50%;z-index: 0;}#sk-container-id-1 div.sk-serial {display: flex;flex-direction: column;align-items: center;background-color: white;padding-right: 0.2em;padding-left: 0.2em;position: relative;}#sk-container-id-1 div.sk-item {position: relative;z-index: 1;}#sk-container-id-1 div.sk-parallel {display: flex;align-items: stretch;justify-content: center;background-color: white;position: relative;}#sk-container-id-1 div.sk-item::before, #sk-container-id-1 div.sk-parallel-item::before {content: \"\";position: absolute;border-left: 1px solid gray;box-sizing: border-box;top: 0;bottom: 0;left: 50%;z-index: -1;}#sk-container-id-1 div.sk-parallel-item {display: flex;flex-direction: column;z-index: 1;position: relative;background-color: white;}#sk-container-id-1 div.sk-parallel-item:first-child::after {align-self: flex-end;width: 50%;}#sk-container-id-1 div.sk-parallel-item:last-child::after {align-self: flex-start;width: 50%;}#sk-container-id-1 div.sk-parallel-item:only-child::after {width: 0;}#sk-container-id-1 div.sk-dashed-wrapped {border: 1px dashed gray;margin: 0 0.4em 0.5em 0.4em;box-sizing: border-box;padding-bottom: 0.4em;background-color: white;}#sk-container-id-1 div.sk-label label {font-family: monospace;font-weight: bold;display: inline-block;line-height: 1.2em;}#sk-container-id-1 div.sk-label-container {text-align: center;}#sk-container-id-1 div.sk-container {/* jupyter's `normalize.less` sets `[hidden] { display: none; }` but bootstrap.min.css set `[hidden] { display: none !important; }` so we also need the `!important` here to be able to override the default hidden behavior on the sphinx rendered scikit-learn.org. See: https://github.com/scikit-learn/scikit-learn/issues/21755 */display: inline-block !important;position: relative;}#sk-container-id-1 div.sk-text-repr-fallback {display: none;}</style><div id=\"sk-container-id-1\" class=\"sk-top-container\"><div class=\"sk-text-repr-fallback\"><pre>LinearRegression()</pre><b>In a Jupyter environment, please rerun this cell to show the HTML representation or trust the notebook. <br />On GitHub, the HTML representation is unable to render, please try loading this page with nbviewer.org.</b></div><div class=\"sk-container\" hidden><div class=\"sk-item\"><div class=\"sk-estimator sk-toggleable\"><input class=\"sk-toggleable__control sk-hidden--visually\" id=\"sk-estimator-id-1\" type=\"checkbox\" checked><label for=\"sk-estimator-id-1\" class=\"sk-toggleable__label sk-toggleable__label-arrow\">LinearRegression</label><div class=\"sk-toggleable__content\"><pre>LinearRegression()</pre></div></div></div></div></div>"
      ],
      "text/plain": [
       "LinearRegression()"
      ]
     },
     "execution_count": 12,
     "metadata": {},
     "output_type": "execute_result"
    }
   ],
   "source": [
    "reg_model.fit(x_train, y_train)"
   ]
  },
  {
   "cell_type": "code",
   "execution_count": 13,
   "id": "e25931cd-bb29-4ea2-b026-55847bf18b1a",
   "metadata": {},
   "outputs": [
    {
     "data": {
      "text/plain": [
       "array([ 4.89509647,  2.4814478 ,  4.60015872,  3.18872498, 18.36927016,\n",
       "        2.55638412,  1.82309347,  0.10882157,  1.27749698,  3.48898919])"
      ]
     },
     "execution_count": 13,
     "metadata": {},
     "output_type": "execute_result"
    }
   ],
   "source": [
    "reg_pred = reg_model.predict(x_test)\n",
    "\n",
    "reg_pred[:10]"
   ]
  },
  {
   "cell_type": "markdown",
   "id": "d76ae528-1e95-4162-a072-f61463abfa01",
   "metadata": {},
   "source": [
    "### ***Evaluating and measuring model's performance***"
   ]
  },
  {
   "cell_type": "code",
   "execution_count": 14,
   "id": "0374d11b-26d6-447d-9fd4-b58ea04c3124",
   "metadata": {},
   "outputs": [
    {
     "data": {
      "text/plain": [
       "1.819"
      ]
     },
     "execution_count": 14,
     "metadata": {},
     "output_type": "execute_result"
    }
   ],
   "source": [
    "# using Mean absolute error\n",
    "\n",
    "mae = mean_absolute_error(y_test, reg_pred)\n",
    "round(mae, 3)"
   ]
  },
  {
   "cell_type": "markdown",
   "id": "cf9399c7-ed16-460b-a90e-2bfa178da4e4",
   "metadata": {},
   "source": [
    "*This **mae** value indicates that the prediction is close to the true value*"
   ]
  },
  {
   "cell_type": "code",
   "execution_count": 15,
   "id": "49a1a392-e7bb-42f1-bcc8-3e1b5933fc88",
   "metadata": {},
   "outputs": [
    {
     "data": {
      "text/plain": [
       "2.286"
      ]
     },
     "execution_count": 15,
     "metadata": {},
     "output_type": "execute_result"
    }
   ],
   "source": [
    "# using Residual sum of squares\n",
    "\n",
    "rss = np.sqrt(mean_squared_error(y_test, reg_pred))\n",
    "\n",
    "round(rss, 3)"
   ]
  },
  {
   "cell_type": "code",
   "execution_count": 16,
   "id": "c54f370c-b8c7-4f56-b8bd-1f1388cde1dc",
   "metadata": {},
   "outputs": [
    {
     "data": {
      "text/plain": [
       "0.612"
      ]
     },
     "execution_count": 16,
     "metadata": {},
     "output_type": "execute_result"
    }
   ],
   "source": [
    "# r-squared\n",
    "\n",
    "rsquared = r2_score(y_test, reg_pred)\n",
    "\n",
    "round(rsquared, 3)"
   ]
  },
  {
   "cell_type": "markdown",
   "id": "b6e5ea4d-9577-4fee-b222-246e099ffb1b",
   "metadata": {},
   "source": [
    "*This r-squared value indicates that roughly **30%** variaton in our data was explained by our model*"
   ]
  },
  {
   "cell_type": "code",
   "execution_count": 17,
   "id": "4446fe04-d5df-4ae9-8706-ac6892b22fbb",
   "metadata": {},
   "outputs": [],
   "source": [
    "# accuracy = accuracy_score(y_true=y_test, y_pred=predictions) #fixing same ValueError\n",
    "\n",
    "# print(\"Accuracy: {}\".format(round(accuracy*100), 2))"
   ]
  },
  {
   "cell_type": "code",
   "execution_count": 18,
   "id": "4d091fe1-84b0-46ba-97f5-5df0b51bda20",
   "metadata": {},
   "outputs": [],
   "source": [
    "xgb_model = xgb.XGBRegressor()"
   ]
  },
  {
   "cell_type": "code",
   "execution_count": 19,
   "id": "9b5fe53c-51f4-4829-a2c7-2d14b8f1ba2d",
   "metadata": {},
   "outputs": [
    {
     "data": {
      "text/html": [
       "<style>#sk-container-id-2 {color: black;}#sk-container-id-2 pre{padding: 0;}#sk-container-id-2 div.sk-toggleable {background-color: white;}#sk-container-id-2 label.sk-toggleable__label {cursor: pointer;display: block;width: 100%;margin-bottom: 0;padding: 0.3em;box-sizing: border-box;text-align: center;}#sk-container-id-2 label.sk-toggleable__label-arrow:before {content: \"▸\";float: left;margin-right: 0.25em;color: #696969;}#sk-container-id-2 label.sk-toggleable__label-arrow:hover:before {color: black;}#sk-container-id-2 div.sk-estimator:hover label.sk-toggleable__label-arrow:before {color: black;}#sk-container-id-2 div.sk-toggleable__content {max-height: 0;max-width: 0;overflow: hidden;text-align: left;background-color: #f0f8ff;}#sk-container-id-2 div.sk-toggleable__content pre {margin: 0.2em;color: black;border-radius: 0.25em;background-color: #f0f8ff;}#sk-container-id-2 input.sk-toggleable__control:checked~div.sk-toggleable__content {max-height: 200px;max-width: 100%;overflow: auto;}#sk-container-id-2 input.sk-toggleable__control:checked~label.sk-toggleable__label-arrow:before {content: \"▾\";}#sk-container-id-2 div.sk-estimator input.sk-toggleable__control:checked~label.sk-toggleable__label {background-color: #d4ebff;}#sk-container-id-2 div.sk-label input.sk-toggleable__control:checked~label.sk-toggleable__label {background-color: #d4ebff;}#sk-container-id-2 input.sk-hidden--visually {border: 0;clip: rect(1px 1px 1px 1px);clip: rect(1px, 1px, 1px, 1px);height: 1px;margin: -1px;overflow: hidden;padding: 0;position: absolute;width: 1px;}#sk-container-id-2 div.sk-estimator {font-family: monospace;background-color: #f0f8ff;border: 1px dotted black;border-radius: 0.25em;box-sizing: border-box;margin-bottom: 0.5em;}#sk-container-id-2 div.sk-estimator:hover {background-color: #d4ebff;}#sk-container-id-2 div.sk-parallel-item::after {content: \"\";width: 100%;border-bottom: 1px solid gray;flex-grow: 1;}#sk-container-id-2 div.sk-label:hover label.sk-toggleable__label {background-color: #d4ebff;}#sk-container-id-2 div.sk-serial::before {content: \"\";position: absolute;border-left: 1px solid gray;box-sizing: border-box;top: 0;bottom: 0;left: 50%;z-index: 0;}#sk-container-id-2 div.sk-serial {display: flex;flex-direction: column;align-items: center;background-color: white;padding-right: 0.2em;padding-left: 0.2em;position: relative;}#sk-container-id-2 div.sk-item {position: relative;z-index: 1;}#sk-container-id-2 div.sk-parallel {display: flex;align-items: stretch;justify-content: center;background-color: white;position: relative;}#sk-container-id-2 div.sk-item::before, #sk-container-id-2 div.sk-parallel-item::before {content: \"\";position: absolute;border-left: 1px solid gray;box-sizing: border-box;top: 0;bottom: 0;left: 50%;z-index: -1;}#sk-container-id-2 div.sk-parallel-item {display: flex;flex-direction: column;z-index: 1;position: relative;background-color: white;}#sk-container-id-2 div.sk-parallel-item:first-child::after {align-self: flex-end;width: 50%;}#sk-container-id-2 div.sk-parallel-item:last-child::after {align-self: flex-start;width: 50%;}#sk-container-id-2 div.sk-parallel-item:only-child::after {width: 0;}#sk-container-id-2 div.sk-dashed-wrapped {border: 1px dashed gray;margin: 0 0.4em 0.5em 0.4em;box-sizing: border-box;padding-bottom: 0.4em;background-color: white;}#sk-container-id-2 div.sk-label label {font-family: monospace;font-weight: bold;display: inline-block;line-height: 1.2em;}#sk-container-id-2 div.sk-label-container {text-align: center;}#sk-container-id-2 div.sk-container {/* jupyter's `normalize.less` sets `[hidden] { display: none; }` but bootstrap.min.css set `[hidden] { display: none !important; }` so we also need the `!important` here to be able to override the default hidden behavior on the sphinx rendered scikit-learn.org. See: https://github.com/scikit-learn/scikit-learn/issues/21755 */display: inline-block !important;position: relative;}#sk-container-id-2 div.sk-text-repr-fallback {display: none;}</style><div id=\"sk-container-id-2\" class=\"sk-top-container\"><div class=\"sk-text-repr-fallback\"><pre>XGBRegressor(base_score=None, booster=None, callbacks=None,\n",
       "             colsample_bylevel=None, colsample_bynode=None,\n",
       "             colsample_bytree=None, device=None, early_stopping_rounds=None,\n",
       "             enable_categorical=False, eval_metric=None, feature_types=None,\n",
       "             gamma=None, grow_policy=None, importance_type=None,\n",
       "             interaction_constraints=None, learning_rate=None, max_bin=None,\n",
       "             max_cat_threshold=None, max_cat_to_onehot=None,\n",
       "             max_delta_step=None, max_depth=None, max_leaves=None,\n",
       "             min_child_weight=None, missing=nan, monotone_constraints=None,\n",
       "             multi_strategy=None, n_estimators=None, n_jobs=None,\n",
       "             num_parallel_tree=None, random_state=None, ...)</pre><b>In a Jupyter environment, please rerun this cell to show the HTML representation or trust the notebook. <br />On GitHub, the HTML representation is unable to render, please try loading this page with nbviewer.org.</b></div><div class=\"sk-container\" hidden><div class=\"sk-item\"><div class=\"sk-estimator sk-toggleable\"><input class=\"sk-toggleable__control sk-hidden--visually\" id=\"sk-estimator-id-2\" type=\"checkbox\" checked><label for=\"sk-estimator-id-2\" class=\"sk-toggleable__label sk-toggleable__label-arrow\">XGBRegressor</label><div class=\"sk-toggleable__content\"><pre>XGBRegressor(base_score=None, booster=None, callbacks=None,\n",
       "             colsample_bylevel=None, colsample_bynode=None,\n",
       "             colsample_bytree=None, device=None, early_stopping_rounds=None,\n",
       "             enable_categorical=False, eval_metric=None, feature_types=None,\n",
       "             gamma=None, grow_policy=None, importance_type=None,\n",
       "             interaction_constraints=None, learning_rate=None, max_bin=None,\n",
       "             max_cat_threshold=None, max_cat_to_onehot=None,\n",
       "             max_delta_step=None, max_depth=None, max_leaves=None,\n",
       "             min_child_weight=None, missing=nan, monotone_constraints=None,\n",
       "             multi_strategy=None, n_estimators=None, n_jobs=None,\n",
       "             num_parallel_tree=None, random_state=None, ...)</pre></div></div></div></div></div>"
      ],
      "text/plain": [
       "XGBRegressor(base_score=None, booster=None, callbacks=None,\n",
       "             colsample_bylevel=None, colsample_bynode=None,\n",
       "             colsample_bytree=None, device=None, early_stopping_rounds=None,\n",
       "             enable_categorical=False, eval_metric=None, feature_types=None,\n",
       "             gamma=None, grow_policy=None, importance_type=None,\n",
       "             interaction_constraints=None, learning_rate=None, max_bin=None,\n",
       "             max_cat_threshold=None, max_cat_to_onehot=None,\n",
       "             max_delta_step=None, max_depth=None, max_leaves=None,\n",
       "             min_child_weight=None, missing=nan, monotone_constraints=None,\n",
       "             multi_strategy=None, n_estimators=None, n_jobs=None,\n",
       "             num_parallel_tree=None, random_state=None, ...)"
      ]
     },
     "execution_count": 19,
     "metadata": {},
     "output_type": "execute_result"
    }
   ],
   "source": [
    "xgb_model.fit(x_train, y_train)"
   ]
  },
  {
   "cell_type": "code",
   "execution_count": 20,
   "id": "9f27d1a5-e72f-4d01-afcb-6d1def2c74d7",
   "metadata": {},
   "outputs": [
    {
     "data": {
      "text/plain": [
       "array([ 2.138767 ,  2.7689104,  1.3850176,  2.4122217, 21.073627 ,\n",
       "        4.6143966,  4.7807755,  1.6700609,  2.2871528,  7.0670557],\n",
       "      dtype=float32)"
      ]
     },
     "execution_count": 20,
     "metadata": {},
     "output_type": "execute_result"
    }
   ],
   "source": [
    "xgb_pred = xgb_model.predict(x_test)\n",
    "\n",
    "xgb_pred[:10]"
   ]
  },
  {
   "cell_type": "code",
   "execution_count": 21,
   "id": "a6e91f3f-2d40-4896-9b76-9cea9b2af751",
   "metadata": {},
   "outputs": [],
   "source": [
    "# accuracy = accuracy_score(y_true=y_test, y_pred=xgb_pred) "
   ]
  },
  {
   "cell_type": "code",
   "execution_count": 37,
   "id": "bdef9c87-d7b8-4e36-a91c-5a00e41c9a6a",
   "metadata": {},
   "outputs": [
    {
     "name": "stdout",
     "output_type": "stream",
     "text": [
      "For 2025 year, the predicted health density is 2.492\n"
     ]
    }
   ],
   "source": [
    "# Let's say we want to predict the hospital density for the year 2025\n",
    "\n",
    "def predict_health_density(features):\n",
    "    pred = xgb_model.predict(future_data)\n",
    "    print(\"For {} year, the predicted health density is {}\".format(features.iloc[0, 0], round(float(pred[0]), 3)))\n",
    "\n",
    "\n",
    "future_data = pd.DataFrame({\n",
    "    'Year': [2025],\n",
    "    'gdp': 3.793580e+11,\n",
    "    'Hospital_Expenditure': 3.250,\n",
    "    'Total_Health_Expenditure': 8.475,\n",
    "    'Injury Count': 546.2\t,\n",
    "    'life_expectancy': 80.7,\n",
    "    'Mortality': 1026.4,\n",
    "    'Population': 19274701.0\n",
    "})\n",
    "\n",
    "predict_health_density(future_data)\n",
    "# future_prediction\n",
    "# f'Predicted Hospital Density for 2025: {future_prediction[0]}'"
   ]
  }
 ],
 "metadata": {
  "kernelspec": {
   "display_name": "Python 3 (ipykernel)",
   "language": "python",
   "name": "python3"
  },
  "language_info": {
   "codemirror_mode": {
    "name": "ipython",
    "version": 3
   },
   "file_extension": ".py",
   "mimetype": "text/x-python",
   "name": "python",
   "nbconvert_exporter": "python",
   "pygments_lexer": "ipython3",
   "version": "3.10.7"
  }
 },
 "nbformat": 4,
 "nbformat_minor": 5
}
