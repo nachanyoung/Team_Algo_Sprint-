{
 "cells": [
  {
   "cell_type": "markdown",
   "metadata": {
    "colab_type": "text",
    "id": "view-in-github"
   },
   "source": [
    "<a href=\"https://colab.research.google.com/github/nachanyoung/Team_Algo_Sprint-/blob/main/Ben_Algo_sprint.ipynb\" target=\"_parent\"><img src=\"https://colab.research.google.com/assets/colab-badge.svg\" alt=\"Open In Colab\"/></a>"
   ]
  },
  {
   "cell_type": "code",
   "execution_count": 1,
   "metadata": {
    "id": "dspuRnXzgHfH"
   },
   "outputs": [],
   "source": [
    "#import the libraries\n",
    "import numpy as np\n",
    "import pandas as pd"
   ]
  },
  {
   "cell_type": "code",
   "execution_count": 2,
   "metadata": {
    "colab": {
     "base_uri": "https://localhost:8080/",
     "height": 244
    },
    "id": "ikcud5HTgRcC",
    "outputId": "5bc71d50-92e3-478f-8cfa-d72abe3ac7e4"
   },
   "outputs": [
    {
     "data": {
      "text/html": [
       "<div>\n",
       "<style scoped>\n",
       "    .dataframe tbody tr th:only-of-type {\n",
       "        vertical-align: middle;\n",
       "    }\n",
       "\n",
       "    .dataframe tbody tr th {\n",
       "        vertical-align: top;\n",
       "    }\n",
       "\n",
       "    .dataframe thead th {\n",
       "        text-align: right;\n",
       "    }\n",
       "</style>\n",
       "<table border=\"1\" class=\"dataframe\">\n",
       "  <thead>\n",
       "    <tr style=\"text-align: right;\">\n",
       "      <th></th>\n",
       "      <th>Country</th>\n",
       "      <th>Year</th>\n",
       "      <th>Hospital_density</th>\n",
       "      <th>gdp</th>\n",
       "      <th>Communicable_disease</th>\n",
       "      <th>Hospital_Expenditure</th>\n",
       "      <th>Total_Health_Expenditure</th>\n",
       "      <th>Injury Count</th>\n",
       "      <th>life_expectancy</th>\n",
       "      <th>Mortality</th>\n",
       "      <th>Population</th>\n",
       "    </tr>\n",
       "  </thead>\n",
       "  <tbody>\n",
       "    <tr>\n",
       "      <th>0</th>\n",
       "      <td>Australia</td>\n",
       "      <td>2000</td>\n",
       "      <td>6.648</td>\n",
       "      <td>4.158450e+11</td>\n",
       "      <td>35.6</td>\n",
       "      <td>2.987</td>\n",
       "      <td>7.594</td>\n",
       "      <td>138.30</td>\n",
       "      <td>79.2</td>\n",
       "      <td>676.8</td>\n",
       "      <td>19028802.0</td>\n",
       "    </tr>\n",
       "    <tr>\n",
       "      <th>1</th>\n",
       "      <td>Australia</td>\n",
       "      <td>2001</td>\n",
       "      <td>6.656</td>\n",
       "      <td>3.793580e+11</td>\n",
       "      <td>53.3</td>\n",
       "      <td>3.024</td>\n",
       "      <td>7.678</td>\n",
       "      <td>141.76</td>\n",
       "      <td>79.6</td>\n",
       "      <td>667.5</td>\n",
       "      <td>19274701.0</td>\n",
       "    </tr>\n",
       "    <tr>\n",
       "      <th>2</th>\n",
       "      <td>Australia</td>\n",
       "      <td>2002</td>\n",
       "      <td>6.586</td>\n",
       "      <td>3.955730e+11</td>\n",
       "      <td>32.2</td>\n",
       "      <td>3.123</td>\n",
       "      <td>7.876</td>\n",
       "      <td>142.60</td>\n",
       "      <td>79.9</td>\n",
       "      <td>682.5</td>\n",
       "      <td>19495210.0</td>\n",
       "    </tr>\n",
       "    <tr>\n",
       "      <th>3</th>\n",
       "      <td>Australia</td>\n",
       "      <td>2003</td>\n",
       "      <td>6.521</td>\n",
       "      <td>4.674980e+11</td>\n",
       "      <td>29.3</td>\n",
       "      <td>3.157</td>\n",
       "      <td>7.881</td>\n",
       "      <td>143.47</td>\n",
       "      <td>80.2</td>\n",
       "      <td>668.3</td>\n",
       "      <td>19720737.0</td>\n",
       "    </tr>\n",
       "    <tr>\n",
       "      <th>4</th>\n",
       "      <td>Australia</td>\n",
       "      <td>2004</td>\n",
       "      <td>6.477</td>\n",
       "      <td>6.143260e+11</td>\n",
       "      <td>46.4</td>\n",
       "      <td>3.250</td>\n",
       "      <td>8.087</td>\n",
       "      <td>144.10</td>\n",
       "      <td>80.5</td>\n",
       "      <td>663.8</td>\n",
       "      <td>19932722.0</td>\n",
       "    </tr>\n",
       "  </tbody>\n",
       "</table>\n",
       "</div>"
      ],
      "text/plain": [
       "     Country  Year  Hospital_density           gdp  Communicable_disease  \\\n",
       "0  Australia  2000             6.648  4.158450e+11                  35.6   \n",
       "1  Australia  2001             6.656  3.793580e+11                  53.3   \n",
       "2  Australia  2002             6.586  3.955730e+11                  32.2   \n",
       "3  Australia  2003             6.521  4.674980e+11                  29.3   \n",
       "4  Australia  2004             6.477  6.143260e+11                  46.4   \n",
       "\n",
       "   Hospital_Expenditure  Total_Health_Expenditure  Injury Count  \\\n",
       "0                 2.987                     7.594        138.30   \n",
       "1                 3.024                     7.678        141.76   \n",
       "2                 3.123                     7.876        142.60   \n",
       "3                 3.157                     7.881        143.47   \n",
       "4                 3.250                     8.087        144.10   \n",
       "\n",
       "   life_expectancy  Mortality  Population  \n",
       "0             79.2      676.8  19028802.0  \n",
       "1             79.6      667.5  19274701.0  \n",
       "2             79.9      682.5  19495210.0  \n",
       "3             80.2      668.3  19720737.0  \n",
       "4             80.5      663.8  19932722.0  "
      ]
     },
     "execution_count": 2,
     "metadata": {},
     "output_type": "execute_result"
    }
   ],
   "source": [
    "#load the dataset\n",
    "df = pd.read_csv('./health_infrastructure.csv', encoding = \"latin\")\n",
    "df.head()"
   ]
  },
  {
   "cell_type": "code",
   "execution_count": 3,
   "metadata": {
    "colab": {
     "base_uri": "https://localhost:8080/",
     "height": 330
    },
    "id": "eYU8HzbkghlB",
    "outputId": "ceab7e0b-701f-4dfb-f146-1eff919be45d"
   },
   "outputs": [
    {
     "data": {
      "text/html": [
       "<div>\n",
       "<style scoped>\n",
       "    .dataframe tbody tr th:only-of-type {\n",
       "        vertical-align: middle;\n",
       "    }\n",
       "\n",
       "    .dataframe tbody tr th {\n",
       "        vertical-align: top;\n",
       "    }\n",
       "\n",
       "    .dataframe thead th {\n",
       "        text-align: right;\n",
       "    }\n",
       "</style>\n",
       "<table border=\"1\" class=\"dataframe\">\n",
       "  <thead>\n",
       "    <tr style=\"text-align: right;\">\n",
       "      <th></th>\n",
       "      <th>Country</th>\n",
       "      <th>Year</th>\n",
       "      <th>Hospital_density</th>\n",
       "      <th>gdp</th>\n",
       "      <th>Communicable_disease</th>\n",
       "      <th>Hospital_Expenditure</th>\n",
       "      <th>Total_Health_Expenditure</th>\n",
       "      <th>Injury Count</th>\n",
       "      <th>life_expectancy</th>\n",
       "      <th>Mortality</th>\n",
       "      <th>Population</th>\n",
       "    </tr>\n",
       "  </thead>\n",
       "  <tbody>\n",
       "    <tr>\n",
       "      <th>892</th>\n",
       "      <td>United Kingdom</td>\n",
       "      <td>2003</td>\n",
       "      <td>2.960</td>\n",
       "      <td>2.056700e+12</td>\n",
       "      <td>3.0</td>\n",
       "      <td>5.036</td>\n",
       "      <td>7.988</td>\n",
       "      <td>498.5</td>\n",
       "      <td>78.3</td>\n",
       "      <td>1026.4</td>\n",
       "      <td>59636662.0</td>\n",
       "    </tr>\n",
       "    <tr>\n",
       "      <th>893</th>\n",
       "      <td>United Kingdom</td>\n",
       "      <td>2011</td>\n",
       "      <td>2.960</td>\n",
       "      <td>2.666400e+12</td>\n",
       "      <td>5.5</td>\n",
       "      <td>5.036</td>\n",
       "      <td>9.724</td>\n",
       "      <td>333.0</td>\n",
       "      <td>80.7</td>\n",
       "      <td>872.6</td>\n",
       "      <td>63285145.0</td>\n",
       "    </tr>\n",
       "    <tr>\n",
       "      <th>894</th>\n",
       "      <td>United Kingdom</td>\n",
       "      <td>2006</td>\n",
       "      <td>2.960</td>\n",
       "      <td>2.709980e+12</td>\n",
       "      <td>4.5</td>\n",
       "      <td>5.036</td>\n",
       "      <td>8.475</td>\n",
       "      <td>434.5</td>\n",
       "      <td>79.3</td>\n",
       "      <td>940.7</td>\n",
       "      <td>60827067.0</td>\n",
       "    </tr>\n",
       "    <tr>\n",
       "      <th>895</th>\n",
       "      <td>United Kingdom</td>\n",
       "      <td>2001</td>\n",
       "      <td>2.960</td>\n",
       "      <td>1.648770e+12</td>\n",
       "      <td>1.9</td>\n",
       "      <td>5.036</td>\n",
       "      <td>7.413</td>\n",
       "      <td>546.2</td>\n",
       "      <td>78.0</td>\n",
       "      <td>1022.4</td>\n",
       "      <td>59113016.0</td>\n",
       "    </tr>\n",
       "    <tr>\n",
       "      <th>896</th>\n",
       "      <td>United States</td>\n",
       "      <td>2022</td>\n",
       "      <td>1.847</td>\n",
       "      <td>2.546270e+13</td>\n",
       "      <td>5.1</td>\n",
       "      <td>5.678</td>\n",
       "      <td>16.634</td>\n",
       "      <td>748.3</td>\n",
       "      <td>76.4</td>\n",
       "      <td>1020.7</td>\n",
       "      <td>333287557.0</td>\n",
       "    </tr>\n",
       "  </tbody>\n",
       "</table>\n",
       "</div>"
      ],
      "text/plain": [
       "            Country  Year  Hospital_density           gdp  \\\n",
       "892  United Kingdom  2003             2.960  2.056700e+12   \n",
       "893  United Kingdom  2011             2.960  2.666400e+12   \n",
       "894  United Kingdom  2006             2.960  2.709980e+12   \n",
       "895  United Kingdom  2001             2.960  1.648770e+12   \n",
       "896   United States  2022             1.847  2.546270e+13   \n",
       "\n",
       "     Communicable_disease  Hospital_Expenditure  Total_Health_Expenditure  \\\n",
       "892                   3.0                 5.036                     7.988   \n",
       "893                   5.5                 5.036                     9.724   \n",
       "894                   4.5                 5.036                     8.475   \n",
       "895                   1.9                 5.036                     7.413   \n",
       "896                   5.1                 5.678                    16.634   \n",
       "\n",
       "     Injury Count  life_expectancy  Mortality   Population  \n",
       "892         498.5             78.3     1026.4   59636662.0  \n",
       "893         333.0             80.7      872.6   63285145.0  \n",
       "894         434.5             79.3      940.7   60827067.0  \n",
       "895         546.2             78.0     1022.4   59113016.0  \n",
       "896         748.3             76.4     1020.7  333287557.0  "
      ]
     },
     "execution_count": 3,
     "metadata": {},
     "output_type": "execute_result"
    }
   ],
   "source": [
    "df.tail()"
   ]
  },
  {
   "cell_type": "code",
   "execution_count": 4,
   "metadata": {
    "colab": {
     "base_uri": "https://localhost:8080/"
    },
    "id": "zTYPDbungoez",
    "outputId": "9d30d335-ee35-42b1-ec7c-43889633c7f3"
   },
   "outputs": [
    {
     "data": {
      "text/plain": [
       "(897, 11)"
      ]
     },
     "execution_count": 4,
     "metadata": {},
     "output_type": "execute_result"
    }
   ],
   "source": [
    "df.shape"
   ]
  },
  {
   "cell_type": "code",
   "execution_count": 5,
   "metadata": {
    "colab": {
     "base_uri": "https://localhost:8080/"
    },
    "id": "pfNhkOjCgqlV",
    "outputId": "86d1919d-7dd0-4e4c-90e2-eb703d4eb385"
   },
   "outputs": [
    {
     "name": "stdout",
     "output_type": "stream",
     "text": [
      "<class 'pandas.core.frame.DataFrame'>\n",
      "RangeIndex: 897 entries, 0 to 896\n",
      "Data columns (total 11 columns):\n",
      " #   Column                    Non-Null Count  Dtype  \n",
      "---  ------                    --------------  -----  \n",
      " 0   Country                   897 non-null    object \n",
      " 1   Year                      897 non-null    int64  \n",
      " 2   Hospital_density          897 non-null    float64\n",
      " 3   gdp                       897 non-null    float64\n",
      " 4   Communicable_disease      897 non-null    float64\n",
      " 5   Hospital_Expenditure      897 non-null    float64\n",
      " 6   Total_Health_Expenditure  897 non-null    float64\n",
      " 7   Injury Count              897 non-null    float64\n",
      " 8   life_expectancy           897 non-null    float64\n",
      " 9   Mortality                 897 non-null    float64\n",
      " 10  Population                897 non-null    float64\n",
      "dtypes: float64(9), int64(1), object(1)\n",
      "memory usage: 77.2+ KB\n"
     ]
    }
   ],
   "source": [
    "#display information about the dataset\n",
    "df.info()"
   ]
  },
  {
   "cell_type": "code",
   "execution_count": 6,
   "metadata": {
    "colab": {
     "base_uri": "https://localhost:8080/"
    },
    "id": "fgCj1URCgtC3",
    "outputId": "dbfc93ff-80e8-45cb-ba9f-03da752c07ee"
   },
   "outputs": [
    {
     "data": {
      "text/plain": [
       "Index(['Country', 'Year', 'Hospital_density', 'gdp', 'Communicable_disease',\n",
       "       'Hospital_Expenditure', 'Total_Health_Expenditure', 'Injury Count',\n",
       "       'life_expectancy', 'Mortality', 'Population'],\n",
       "      dtype='object')"
      ]
     },
     "execution_count": 6,
     "metadata": {},
     "output_type": "execute_result"
    }
   ],
   "source": [
    "df.columns"
   ]
  },
  {
   "cell_type": "code",
   "execution_count": 7,
   "metadata": {
    "colab": {
     "base_uri": "https://localhost:8080/"
    },
    "id": "HRfsQaFRgzef",
    "outputId": "a1f2fc51-e9a5-42c0-f2cf-50ce97e36e58"
   },
   "outputs": [
    {
     "data": {
      "text/plain": [
       "Country                     0\n",
       "Year                        0\n",
       "Hospital_density            0\n",
       "gdp                         0\n",
       "Communicable_disease        0\n",
       "Hospital_Expenditure        0\n",
       "Total_Health_Expenditure    0\n",
       "Injury Count                0\n",
       "life_expectancy             0\n",
       "Mortality                   0\n",
       "Population                  0\n",
       "dtype: int64"
      ]
     },
     "execution_count": 7,
     "metadata": {},
     "output_type": "execute_result"
    }
   ],
   "source": [
    "df.isna().sum()"
   ]
  },
  {
   "cell_type": "code",
   "execution_count": 8,
   "metadata": {
    "id": "vIFm84zxhTYN"
   },
   "outputs": [],
   "source": [
    "from sklearn.model_selection import train_test_split\n",
    "from sklearn.linear_model import LinearRegression\n",
    "from sklearn.metrics import mean_squared_error, r2_score\n",
    "from sklearn.model_selection import cross_val_score"
   ]
  },
  {
   "cell_type": "code",
   "execution_count": 9,
   "metadata": {
    "colab": {
     "base_uri": "https://localhost:8080/"
    },
    "id": "qHC11MILmQ8r",
    "outputId": "7b3d54dd-2478-4882-e110-2247e15019e8"
   },
   "outputs": [
    {
     "data": {
      "text/plain": [
       "gdp                        -0.021798\n",
       "Communicable_disease        0.089968\n",
       "Hospital_Expenditure        0.500842\n",
       "Total_Health_Expenditure   -0.069142\n",
       "Injury Count               -0.081538\n",
       "life_expectancy            -0.167741\n",
       "Mortality                  -0.202806\n",
       "Population                  0.074867\n",
       "dtype: float64"
      ]
     },
     "execution_count": 9,
     "metadata": {},
     "output_type": "execute_result"
    }
   ],
   "source": [
    "X = df[['gdp', 'Communicable_disease', 'Hospital_Expenditure', 'Total_Health_Expenditure', 'Injury Count', 'life_expectancy', 'Mortality', 'Population']]\n",
    "Y = df['Hospital_density']\n",
    "\n",
    "corr = X.corrwith(Y)\n",
    "corr"
   ]
  },
  {
   "cell_type": "code",
   "execution_count": 10,
   "metadata": {
    "id": "fbzV9nmxmyCF"
   },
   "outputs": [],
   "source": [
    "X_train, X_test, Y_train, Y_test = train_test_split(X, Y, test_size=0.2, random_state=42)"
   ]
  },
  {
   "cell_type": "code",
   "execution_count": 11,
   "metadata": {
    "colab": {
     "base_uri": "https://localhost:8080/",
     "height": 75
    },
    "id": "fkaYqXkGp3RJ",
    "outputId": "c357fa89-5920-44b3-f7e2-509eb6ad5f28"
   },
   "outputs": [
    {
     "data": {
      "text/html": [
       "<style>#sk-container-id-1 {color: black;}#sk-container-id-1 pre{padding: 0;}#sk-container-id-1 div.sk-toggleable {background-color: white;}#sk-container-id-1 label.sk-toggleable__label {cursor: pointer;display: block;width: 100%;margin-bottom: 0;padding: 0.3em;box-sizing: border-box;text-align: center;}#sk-container-id-1 label.sk-toggleable__label-arrow:before {content: \"▸\";float: left;margin-right: 0.25em;color: #696969;}#sk-container-id-1 label.sk-toggleable__label-arrow:hover:before {color: black;}#sk-container-id-1 div.sk-estimator:hover label.sk-toggleable__label-arrow:before {color: black;}#sk-container-id-1 div.sk-toggleable__content {max-height: 0;max-width: 0;overflow: hidden;text-align: left;background-color: #f0f8ff;}#sk-container-id-1 div.sk-toggleable__content pre {margin: 0.2em;color: black;border-radius: 0.25em;background-color: #f0f8ff;}#sk-container-id-1 input.sk-toggleable__control:checked~div.sk-toggleable__content {max-height: 200px;max-width: 100%;overflow: auto;}#sk-container-id-1 input.sk-toggleable__control:checked~label.sk-toggleable__label-arrow:before {content: \"▾\";}#sk-container-id-1 div.sk-estimator input.sk-toggleable__control:checked~label.sk-toggleable__label {background-color: #d4ebff;}#sk-container-id-1 div.sk-label input.sk-toggleable__control:checked~label.sk-toggleable__label {background-color: #d4ebff;}#sk-container-id-1 input.sk-hidden--visually {border: 0;clip: rect(1px 1px 1px 1px);clip: rect(1px, 1px, 1px, 1px);height: 1px;margin: -1px;overflow: hidden;padding: 0;position: absolute;width: 1px;}#sk-container-id-1 div.sk-estimator {font-family: monospace;background-color: #f0f8ff;border: 1px dotted black;border-radius: 0.25em;box-sizing: border-box;margin-bottom: 0.5em;}#sk-container-id-1 div.sk-estimator:hover {background-color: #d4ebff;}#sk-container-id-1 div.sk-parallel-item::after {content: \"\";width: 100%;border-bottom: 1px solid gray;flex-grow: 1;}#sk-container-id-1 div.sk-label:hover label.sk-toggleable__label {background-color: #d4ebff;}#sk-container-id-1 div.sk-serial::before {content: \"\";position: absolute;border-left: 1px solid gray;box-sizing: border-box;top: 0;bottom: 0;left: 50%;z-index: 0;}#sk-container-id-1 div.sk-serial {display: flex;flex-direction: column;align-items: center;background-color: white;padding-right: 0.2em;padding-left: 0.2em;position: relative;}#sk-container-id-1 div.sk-item {position: relative;z-index: 1;}#sk-container-id-1 div.sk-parallel {display: flex;align-items: stretch;justify-content: center;background-color: white;position: relative;}#sk-container-id-1 div.sk-item::before, #sk-container-id-1 div.sk-parallel-item::before {content: \"\";position: absolute;border-left: 1px solid gray;box-sizing: border-box;top: 0;bottom: 0;left: 50%;z-index: -1;}#sk-container-id-1 div.sk-parallel-item {display: flex;flex-direction: column;z-index: 1;position: relative;background-color: white;}#sk-container-id-1 div.sk-parallel-item:first-child::after {align-self: flex-end;width: 50%;}#sk-container-id-1 div.sk-parallel-item:last-child::after {align-self: flex-start;width: 50%;}#sk-container-id-1 div.sk-parallel-item:only-child::after {width: 0;}#sk-container-id-1 div.sk-dashed-wrapped {border: 1px dashed gray;margin: 0 0.4em 0.5em 0.4em;box-sizing: border-box;padding-bottom: 0.4em;background-color: white;}#sk-container-id-1 div.sk-label label {font-family: monospace;font-weight: bold;display: inline-block;line-height: 1.2em;}#sk-container-id-1 div.sk-label-container {text-align: center;}#sk-container-id-1 div.sk-container {/* jupyter's `normalize.less` sets `[hidden] { display: none; }` but bootstrap.min.css set `[hidden] { display: none !important; }` so we also need the `!important` here to be able to override the default hidden behavior on the sphinx rendered scikit-learn.org. See: https://github.com/scikit-learn/scikit-learn/issues/21755 */display: inline-block !important;position: relative;}#sk-container-id-1 div.sk-text-repr-fallback {display: none;}</style><div id=\"sk-container-id-1\" class=\"sk-top-container\"><div class=\"sk-text-repr-fallback\"><pre>LinearRegression()</pre><b>In a Jupyter environment, please rerun this cell to show the HTML representation or trust the notebook. <br />On GitHub, the HTML representation is unable to render, please try loading this page with nbviewer.org.</b></div><div class=\"sk-container\" hidden><div class=\"sk-item\"><div class=\"sk-estimator sk-toggleable\"><input class=\"sk-toggleable__control sk-hidden--visually\" id=\"sk-estimator-id-1\" type=\"checkbox\" checked><label for=\"sk-estimator-id-1\" class=\"sk-toggleable__label sk-toggleable__label-arrow\">LinearRegression</label><div class=\"sk-toggleable__content\"><pre>LinearRegression()</pre></div></div></div></div></div>"
      ],
      "text/plain": [
       "LinearRegression()"
      ]
     },
     "execution_count": 11,
     "metadata": {},
     "output_type": "execute_result"
    }
   ],
   "source": [
    "model = LinearRegression()\n",
    "model.fit(X_train, Y_train)"
   ]
  },
  {
   "cell_type": "code",
   "execution_count": 12,
   "metadata": {
    "colab": {
     "base_uri": "https://localhost:8080/"
    },
    "id": "mvF8Vsxsp_ZK",
    "outputId": "5caef46d-91a4-49d4-bac0-071d2de0949c"
   },
   "outputs": [
    {
     "data": {
      "text/plain": [
       "array([-0.49849687,  2.46198701,  0.69591541,  0.7626606 ,  3.10160944,\n",
       "        0.4176273 ,  3.17866987, -0.40791699,  2.33365508,  3.31852062,\n",
       "        3.76707533,  5.10556343,  4.18352685,  1.86948729,  2.95736595,\n",
       "        4.3507125 ,  4.73022137,  2.69438837,  7.41941111,  2.36773911,\n",
       "        2.83515653,  1.56813553,  3.69478006,  2.93312204, 15.03759246,\n",
       "        5.4131113 ,  3.11400564,  1.84636275,  4.30841746,  1.55068019,\n",
       "        2.95526066,  3.53973255,  3.03528897,  1.74007972,  2.14010813,\n",
       "        1.6134665 ,  3.17188004,  3.2158034 ,  4.02777572,  3.21394313,\n",
       "        1.81260385,  3.20248488,  2.87121055,  3.78414679,  1.69267684,\n",
       "        0.63655306,  1.48250374,  4.29919799,  2.29974253,  4.16973137,\n",
       "        1.59187323,  2.94117307,  4.16418377, -0.04824393,  4.25455538,\n",
       "        3.89168936,  1.34156098,  3.31328104,  2.24403368,  2.13647836,\n",
       "        2.78937293,  3.68752812,  1.8043945 ,  0.42735597,  3.23751492,\n",
       "        2.84583877,  1.35985792,  2.7594815 ,  4.54862963,  5.06000208,\n",
       "        4.35287544,  2.48096471,  5.57865897,  3.47552986,  3.18456221,\n",
       "        4.09863943,  1.03879653,  3.72978155,  4.6499073 ,  5.53906782,\n",
       "        2.5752004 ,  1.59220324,  5.07199946,  5.95307515,  2.94904506,\n",
       "        3.28593767,  3.35207523, 16.41910553,  2.61670581,  4.71792441,\n",
       "        1.0311891 ,  3.24712659,  2.16330225,  2.33078693,  1.5360411 ,\n",
       "        3.3264617 ,  2.97212349,  3.68741108,  3.654553  ,  2.0230746 ,\n",
       "        4.73770887,  2.00822032,  3.38867602,  3.51221997,  2.44785246,\n",
       "        1.63706076,  2.15784966,  4.29205342,  3.78994991,  2.32677044,\n",
       "        1.95311877,  3.45184681,  3.63572016,  6.03391008,  3.16690642,\n",
       "        2.24716906,  3.55755005,  2.46352297,  2.4855944 ,  2.18906177,\n",
       "        4.10537878,  3.62653082,  2.73067819,  1.31027252,  3.44585736,\n",
       "        1.96064822, 17.01807039,  3.79720014,  5.6471205 ,  3.74405813,\n",
       "        4.58373152,  3.32691558,  3.27993558,  3.08191948,  5.24372459,\n",
       "        2.65873425,  3.37089679,  5.51266353,  5.05669085,  1.48962875,\n",
       "        2.4716107 ,  4.86769761,  4.5981332 ,  3.09962356,  6.96346786,\n",
       "       16.537805  ,  1.79026539,  3.04061188,  3.14017701,  3.14211793,\n",
       "       15.32248319,  5.34124531,  1.58363801,  2.37822411,  1.36065239,\n",
       "        2.36308187,  2.47245069,  1.12018765,  3.08236341,  3.03095136,\n",
       "        5.88697728,  1.94430002,  3.08845819,  6.11172483,  4.03992964,\n",
       "        2.61629249,  3.14719   ,  4.33310903,  3.34992071,  3.81843194,\n",
       "        3.80473033, 14.21384699,  2.63328834,  1.87191805,  7.87814828,\n",
       "        3.73250704,  2.94648819,  0.81667124,  6.03038956, -0.61701317])"
      ]
     },
     "execution_count": 12,
     "metadata": {},
     "output_type": "execute_result"
    }
   ],
   "source": [
    "y_pred = model.predict(X_test)\n",
    "y_pred"
   ]
  },
  {
   "cell_type": "code",
   "execution_count": null,
   "metadata": {
    "id": "FCiJjIPAqF3E"
   },
   "outputs": [],
   "source": []
  },
  {
   "cell_type": "code",
   "execution_count": null,
   "metadata": {
    "id": "gE5Ci79grPjZ"
   },
   "outputs": [],
   "source": []
  }
 ],
 "metadata": {
  "colab": {
   "authorship_tag": "ABX9TyMyH9UTKNJj0PvnBH6iylw1",
   "include_colab_link": true,
   "provenance": []
  },
  "kernelspec": {
   "display_name": "Python 3 (ipykernel)",
   "language": "python",
   "name": "python3"
  },
  "language_info": {
   "codemirror_mode": {
    "name": "ipython",
    "version": 3
   },
   "file_extension": ".py",
   "mimetype": "text/x-python",
   "name": "python",
   "nbconvert_exporter": "python",
   "pygments_lexer": "ipython3",
   "version": "3.10.7"
  }
 },
 "nbformat": 4,
 "nbformat_minor": 4
}
