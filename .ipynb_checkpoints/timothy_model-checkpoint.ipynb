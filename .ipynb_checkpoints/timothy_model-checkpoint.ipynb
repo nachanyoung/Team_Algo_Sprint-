{
 "cells": [
  {
   "cell_type": "code",
   "execution_count": 1,
   "id": "97d79ebf",
   "metadata": {},
   "outputs": [],
   "source": [
    "import pandas as pd\n",
    "from sklearn.model_selection import train_test_split\n",
    "from sklearn.linear_model import LinearRegression\n",
    "from sklearn.metrics import mean_squared_error, r2_score\n",
    "from sklearn.model_selection import cross_val_score\n"
   ]
  },
  {
   "cell_type": "markdown",
   "id": "87ea5205",
   "metadata": {},
   "source": [
    "# Loading the Dataset"
   ]
  },
  {
   "cell_type": "code",
   "execution_count": 2,
   "id": "5d7dcc8a",
   "metadata": {},
   "outputs": [
    {
     "name": "stdout",
     "output_type": "stream",
     "text": [
      "     Country  Year  Hospital_density           gdp  Communicable_disease  \\\n",
      "0  Australia  2000             6.648  4.158450e+11                  35.6   \n",
      "1  Australia  2001             6.656  3.793580e+11                  53.3   \n",
      "2  Australia  2002             6.586  3.955730e+11                  32.2   \n",
      "3  Australia  2003             6.521  4.674980e+11                  29.3   \n",
      "4  Australia  2004             6.477  6.143260e+11                  46.4   \n",
      "\n",
      "   Hospital_Expenditure  Total_Health_Expenditure  Injury Count  \\\n",
      "0                 2.987                     7.594        138.30   \n",
      "1                 3.024                     7.678        141.76   \n",
      "2                 3.123                     7.876        142.60   \n",
      "3                 3.157                     7.881        143.47   \n",
      "4                 3.250                     8.087        144.10   \n",
      "\n",
      "   life_expectancy  Mortality  Population  \n",
      "0             79.2      676.8  19028802.0  \n",
      "1             79.6      667.5  19274701.0  \n",
      "2             79.9      682.5  19495210.0  \n",
      "3             80.2      668.3  19720737.0  \n",
      "4             80.5      663.8  19932722.0  \n"
     ]
    }
   ],
   "source": [
    "df = pd.read_csv('dataset.csv')\n",
    "print(df.head())"
   ]
  },
  {
   "cell_type": "markdown",
   "id": "7c544969",
   "metadata": {},
   "source": [
    "# Checking for missing values"
   ]
  },
  {
   "cell_type": "code",
   "execution_count": 3,
   "id": "8361989b",
   "metadata": {},
   "outputs": [
    {
     "data": {
      "text/plain": [
       "Country                     0\n",
       "Year                        0\n",
       "Hospital_density            0\n",
       "gdp                         0\n",
       "Communicable_disease        0\n",
       "Hospital_Expenditure        0\n",
       "Total_Health_Expenditure    0\n",
       "Injury Count                0\n",
       "life_expectancy             0\n",
       "Mortality                   0\n",
       "Population                  0\n",
       "dtype: int64"
      ]
     },
     "execution_count": 3,
     "metadata": {},
     "output_type": "execute_result"
    }
   ],
   "source": [
    "df.isna().sum()"
   ]
  },
  {
   "cell_type": "markdown",
   "id": "ef957c72",
   "metadata": {},
   "source": [
    "#### Checking the correlation of the target variable with the features to make sure they are independent of one another."
   ]
  },
  {
   "cell_type": "code",
   "execution_count": 4,
   "id": "b145d1ce",
   "metadata": {},
   "outputs": [],
   "source": [
    "features = df[['Year', 'gdp', 'Communicable_disease', 'Hospital_Expenditure', 'Total_Health_Expenditure', 'Injury Count', 'life_expectancy', 'Mortality', 'Population']]\n",
    "target_variable = df['Hospital_density']\n",
    "\n",
    "# Calculating the correlation\n",
    "cor_of_var = features.corrwith(target_variable)"
   ]
  },
  {
   "cell_type": "code",
   "execution_count": 5,
   "id": "946b57ed",
   "metadata": {},
   "outputs": [
    {
     "data": {
      "text/plain": [
       "Year                       -0.042157\n",
       "gdp                        -0.021798\n",
       "Communicable_disease        0.089968\n",
       "Hospital_Expenditure        0.500842\n",
       "Total_Health_Expenditure   -0.069142\n",
       "Injury Count               -0.081538\n",
       "life_expectancy            -0.167741\n",
       "Mortality                  -0.202806\n",
       "Population                  0.074867\n",
       "dtype: float64"
      ]
     },
     "execution_count": 5,
     "metadata": {},
     "output_type": "execute_result"
    }
   ],
   "source": [
    "cor_of_var"
   ]
  },
  {
   "cell_type": "markdown",
   "id": "d5674582",
   "metadata": {},
   "source": [
    "As seen above,there is no strong correlation between the features and the target variable"
   ]
  },
  {
   "cell_type": "markdown",
   "id": "617fa5bd",
   "metadata": {},
   "source": [
    "# Separating the features and target variable"
   ]
  },
  {
   "cell_type": "code",
   "execution_count": 6,
   "id": "b788e767",
   "metadata": {},
   "outputs": [],
   "source": [
    "X = df[['Year', 'gdp', 'Communicable_disease', 'Hospital_Expenditure', 'Total_Health_Expenditure', 'Injury Count', 'life_expectancy', 'Mortality', 'Population']]\n",
    "y = df['Hospital_density']"
   ]
  },
  {
   "cell_type": "markdown",
   "id": "a0779c33",
   "metadata": {},
   "source": [
    "# Splitting the Data into Training and Testing Sets"
   ]
  },
  {
   "cell_type": "code",
   "execution_count": 7,
   "id": "df9ce0b3",
   "metadata": {},
   "outputs": [],
   "source": [
    "X_train, X_test, y_train, y_test = train_test_split(X, y, test_size=0.2, random_state=42)\n"
   ]
  },
  {
   "cell_type": "markdown",
   "id": "fc82a550",
   "metadata": {},
   "source": [
    "# Training the model"
   ]
  },
  {
   "cell_type": "code",
   "execution_count": 8,
   "id": "49936db4",
   "metadata": {},
   "outputs": [
    {
     "data": {
      "text/html": [
       "<style>#sk-container-id-1 {color: black;}#sk-container-id-1 pre{padding: 0;}#sk-container-id-1 div.sk-toggleable {background-color: white;}#sk-container-id-1 label.sk-toggleable__label {cursor: pointer;display: block;width: 100%;margin-bottom: 0;padding: 0.3em;box-sizing: border-box;text-align: center;}#sk-container-id-1 label.sk-toggleable__label-arrow:before {content: \"▸\";float: left;margin-right: 0.25em;color: #696969;}#sk-container-id-1 label.sk-toggleable__label-arrow:hover:before {color: black;}#sk-container-id-1 div.sk-estimator:hover label.sk-toggleable__label-arrow:before {color: black;}#sk-container-id-1 div.sk-toggleable__content {max-height: 0;max-width: 0;overflow: hidden;text-align: left;background-color: #f0f8ff;}#sk-container-id-1 div.sk-toggleable__content pre {margin: 0.2em;color: black;border-radius: 0.25em;background-color: #f0f8ff;}#sk-container-id-1 input.sk-toggleable__control:checked~div.sk-toggleable__content {max-height: 200px;max-width: 100%;overflow: auto;}#sk-container-id-1 input.sk-toggleable__control:checked~label.sk-toggleable__label-arrow:before {content: \"▾\";}#sk-container-id-1 div.sk-estimator input.sk-toggleable__control:checked~label.sk-toggleable__label {background-color: #d4ebff;}#sk-container-id-1 div.sk-label input.sk-toggleable__control:checked~label.sk-toggleable__label {background-color: #d4ebff;}#sk-container-id-1 input.sk-hidden--visually {border: 0;clip: rect(1px 1px 1px 1px);clip: rect(1px, 1px, 1px, 1px);height: 1px;margin: -1px;overflow: hidden;padding: 0;position: absolute;width: 1px;}#sk-container-id-1 div.sk-estimator {font-family: monospace;background-color: #f0f8ff;border: 1px dotted black;border-radius: 0.25em;box-sizing: border-box;margin-bottom: 0.5em;}#sk-container-id-1 div.sk-estimator:hover {background-color: #d4ebff;}#sk-container-id-1 div.sk-parallel-item::after {content: \"\";width: 100%;border-bottom: 1px solid gray;flex-grow: 1;}#sk-container-id-1 div.sk-label:hover label.sk-toggleable__label {background-color: #d4ebff;}#sk-container-id-1 div.sk-serial::before {content: \"\";position: absolute;border-left: 1px solid gray;box-sizing: border-box;top: 0;bottom: 0;left: 50%;z-index: 0;}#sk-container-id-1 div.sk-serial {display: flex;flex-direction: column;align-items: center;background-color: white;padding-right: 0.2em;padding-left: 0.2em;position: relative;}#sk-container-id-1 div.sk-item {position: relative;z-index: 1;}#sk-container-id-1 div.sk-parallel {display: flex;align-items: stretch;justify-content: center;background-color: white;position: relative;}#sk-container-id-1 div.sk-item::before, #sk-container-id-1 div.sk-parallel-item::before {content: \"\";position: absolute;border-left: 1px solid gray;box-sizing: border-box;top: 0;bottom: 0;left: 50%;z-index: -1;}#sk-container-id-1 div.sk-parallel-item {display: flex;flex-direction: column;z-index: 1;position: relative;background-color: white;}#sk-container-id-1 div.sk-parallel-item:first-child::after {align-self: flex-end;width: 50%;}#sk-container-id-1 div.sk-parallel-item:last-child::after {align-self: flex-start;width: 50%;}#sk-container-id-1 div.sk-parallel-item:only-child::after {width: 0;}#sk-container-id-1 div.sk-dashed-wrapped {border: 1px dashed gray;margin: 0 0.4em 0.5em 0.4em;box-sizing: border-box;padding-bottom: 0.4em;background-color: white;}#sk-container-id-1 div.sk-label label {font-family: monospace;font-weight: bold;display: inline-block;line-height: 1.2em;}#sk-container-id-1 div.sk-label-container {text-align: center;}#sk-container-id-1 div.sk-container {/* jupyter's `normalize.less` sets `[hidden] { display: none; }` but bootstrap.min.css set `[hidden] { display: none !important; }` so we also need the `!important` here to be able to override the default hidden behavior on the sphinx rendered scikit-learn.org. See: https://github.com/scikit-learn/scikit-learn/issues/21755 */display: inline-block !important;position: relative;}#sk-container-id-1 div.sk-text-repr-fallback {display: none;}</style><div id=\"sk-container-id-1\" class=\"sk-top-container\"><div class=\"sk-text-repr-fallback\"><pre>LinearRegression()</pre><b>In a Jupyter environment, please rerun this cell to show the HTML representation or trust the notebook. <br />On GitHub, the HTML representation is unable to render, please try loading this page with nbviewer.org.</b></div><div class=\"sk-container\" hidden><div class=\"sk-item\"><div class=\"sk-estimator sk-toggleable\"><input class=\"sk-toggleable__control sk-hidden--visually\" id=\"sk-estimator-id-1\" type=\"checkbox\" checked><label for=\"sk-estimator-id-1\" class=\"sk-toggleable__label sk-toggleable__label-arrow\">LinearRegression</label><div class=\"sk-toggleable__content\"><pre>LinearRegression()</pre></div></div></div></div></div>"
      ],
      "text/plain": [
       "LinearRegression()"
      ]
     },
     "execution_count": 8,
     "metadata": {},
     "output_type": "execute_result"
    }
   ],
   "source": [
    "model = LinearRegression()\n",
    "model.fit(X_train, y_train)\n"
   ]
  },
  {
   "cell_type": "markdown",
   "id": "588cedbb",
   "metadata": {},
   "source": [
    "# Making Predictions"
   ]
  },
  {
   "cell_type": "code",
   "execution_count": 9,
   "id": "b5ef5c6f",
   "metadata": {},
   "outputs": [],
   "source": [
    "y_pred = model.predict(X_test)"
   ]
  },
  {
   "cell_type": "markdown",
   "id": "8c347ec5",
   "metadata": {},
   "source": [
    "# Evaluating the model"
   ]
  },
  {
   "cell_type": "code",
   "execution_count": 10,
   "id": "7c87bcc5",
   "metadata": {},
   "outputs": [],
   "source": [
    "mse = mean_squared_error(y_test, y_pred)\n",
    "r2 = r2_score(y_test, y_pred)"
   ]
  },
  {
   "cell_type": "code",
   "execution_count": 11,
   "id": "8c78fe4a",
   "metadata": {},
   "outputs": [
    {
     "data": {
      "text/plain": [
       "'R-squared: 0.6134290803082998'"
      ]
     },
     "execution_count": 11,
     "metadata": {},
     "output_type": "execute_result"
    }
   ],
   "source": [
    "f'R-squared: {r2}'"
   ]
  },
  {
   "cell_type": "code",
   "execution_count": 12,
   "id": "69cf182c",
   "metadata": {},
   "outputs": [
    {
     "data": {
      "text/plain": [
       "'Mean Squared Error: 5.41548821223706'"
      ]
     },
     "execution_count": 12,
     "metadata": {},
     "output_type": "execute_result"
    }
   ],
   "source": [
    "f\"Mean Squared Error: {mse}\""
   ]
  },
  {
   "cell_type": "markdown",
   "id": "2d979c03",
   "metadata": {},
   "source": [
    "##### Applying cross-validation to the MSE"
   ]
  },
  {
   "cell_type": "code",
   "execution_count": 13,
   "id": "673fc17f",
   "metadata": {},
   "outputs": [
    {
     "name": "stdout",
     "output_type": "stream",
     "text": [
      "Cross-Validated MSE: 17.855392150029378\n"
     ]
    }
   ],
   "source": [
    "cv_scores = cross_val_score(model, X, y, cv=5, scoring='neg_mean_squared_error')\n",
    "\n",
    "# Converting negative MSE to positive and calculate the average\n",
    "average_mse = -cv_scores.mean()\n",
    "\n",
    "print(f'Cross-Validated MSE: {average_mse}')"
   ]
  },
  {
   "cell_type": "markdown",
   "id": "53649e9c",
   "metadata": {},
   "source": [
    "#### Making the hospital density prediction for a particular year"
   ]
  },
  {
   "cell_type": "code",
   "execution_count": 14,
   "id": "bec62497",
   "metadata": {},
   "outputs": [],
   "source": [
    "# Let's say we want to predict the hospital density for the year 2025\n",
    "# future_data = pd.DataFrame({\n",
    "#     'Year': [2025],\n",
    "#     'gdp': [your_value],\n",
    "#     'Communicable_disease': [your_value],\n",
    "#     'Hospital_Expenditure': [your_value],\n",
    "#     'Total_Health_Expenditure': [your_value],\n",
    "#     'Injury Count': [your_value],\n",
    "#     'life_expectancy': [your_value],\n",
    "#     'Mortality': [your_value],\n",
    "#     'Population': [your_value]\n",
    "# })\n",
    "\n",
    "# future_prediction = model.predict(future_data)\n",
    "# f'Predicted Hospital Density for 2025: {future_prediction[0]}'"
   ]
  },
  {
   "cell_type": "code",
   "execution_count": null,
   "id": "4d7dbdaa",
   "metadata": {},
   "outputs": [],
   "source": []
  }
 ],
 "metadata": {
  "kernelspec": {
   "display_name": "Python 3 (ipykernel)",
   "language": "python",
   "name": "python3"
  },
  "language_info": {
   "codemirror_mode": {
    "name": "ipython",
    "version": 3
   },
   "file_extension": ".py",
   "mimetype": "text/x-python",
   "name": "python",
   "nbconvert_exporter": "python",
   "pygments_lexer": "ipython3",
   "version": "3.11.4"
  }
 },
 "nbformat": 4,
 "nbformat_minor": 5
}
