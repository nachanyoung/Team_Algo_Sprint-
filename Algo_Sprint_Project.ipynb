{
 "cells": [
  {
   "cell_type": "markdown",
   "metadata": {
    "colab_type": "text",
    "id": "view-in-github"
   },
   "source": [
    "<a href=\"https://colab.research.google.com/github/nachanyoung/Team_Algo_Sprint-/blob/main/Algo_Sprint_Project.ipynb\" target=\"_parent\"><img src=\"https://colab.research.google.com/assets/colab-badge.svg\" alt=\"Open In Colab\"/></a>"
   ]
  },
  {
   "cell_type": "markdown",
   "metadata": {
    "id": "iKQp6XoSOuZO"
   },
   "source": [
    "**TEAM  ALGO - SPRINT**"
   ]
  },
  {
   "cell_type": "markdown",
   "metadata": {
    "id": "AGkfI7jPidns"
   },
   "source": [
    "**Gathering the Dataset**"
   ]
  },
  {
   "cell_type": "code",
   "execution_count": 46,
   "metadata": {
    "id": "GviN_ZoqihAe"
   },
   "outputs": [],
   "source": [
    "#import machine learning libraries\n",
    "import numpy as np\n",
    "import pandas as pd\n",
    "import matplotlib.pyplot as plt\n",
    "import seaborn as sns\n",
    "from scipy import stats"
   ]
  },
  {
   "cell_type": "code",
   "execution_count": 2,
   "metadata": {
    "colab": {
     "base_uri": "https://localhost:8080/",
     "height": 244
    },
    "id": "OziDoS42io8s",
    "outputId": "fc3c5a3b-a5f2-4ea0-cf47-77bab7fe24e0"
   },
   "outputs": [
    {
     "data": {
      "text/html": [
       "\n",
       "  <div id=\"df-a574630d-1a58-40eb-90e0-abbafe577c56\" class=\"colab-df-container\">\n",
       "    <div>\n",
       "<style scoped>\n",
       "    .dataframe tbody tr th:only-of-type {\n",
       "        vertical-align: middle;\n",
       "    }\n",
       "\n",
       "    .dataframe tbody tr th {\n",
       "        vertical-align: top;\n",
       "    }\n",
       "\n",
       "    .dataframe thead th {\n",
       "        text-align: right;\n",
       "    }\n",
       "</style>\n",
       "<table border=\"1\" class=\"dataframe\">\n",
       "  <thead>\n",
       "    <tr style=\"text-align: right;\">\n",
       "      <th></th>\n",
       "      <th>Country</th>\n",
       "      <th>Year</th>\n",
       "      <th>Hospital_density</th>\n",
       "      <th>gdp</th>\n",
       "      <th>Communicable_disease</th>\n",
       "      <th>Hospital_Expenditure</th>\n",
       "      <th>Total_Health_Expenditure</th>\n",
       "      <th>Injury Count</th>\n",
       "      <th>life_expectancy</th>\n",
       "      <th>Mortality</th>\n",
       "      <th>Population</th>\n",
       "    </tr>\n",
       "  </thead>\n",
       "  <tbody>\n",
       "    <tr>\n",
       "      <th>0</th>\n",
       "      <td>Australia</td>\n",
       "      <td>2000</td>\n",
       "      <td>6.648</td>\n",
       "      <td>415845000000</td>\n",
       "      <td>35.6</td>\n",
       "      <td>2.987</td>\n",
       "      <td>7.594</td>\n",
       "      <td>138.30</td>\n",
       "      <td>79.2</td>\n",
       "      <td>676.8</td>\n",
       "      <td>19028802.0</td>\n",
       "    </tr>\n",
       "    <tr>\n",
       "      <th>1</th>\n",
       "      <td>Australia</td>\n",
       "      <td>2001</td>\n",
       "      <td>6.656</td>\n",
       "      <td>379358000000</td>\n",
       "      <td>53.3</td>\n",
       "      <td>3.024</td>\n",
       "      <td>7.678</td>\n",
       "      <td>141.76</td>\n",
       "      <td>79.6</td>\n",
       "      <td>667.5</td>\n",
       "      <td>19274701.0</td>\n",
       "    </tr>\n",
       "    <tr>\n",
       "      <th>2</th>\n",
       "      <td>Australia</td>\n",
       "      <td>2002</td>\n",
       "      <td>6.586</td>\n",
       "      <td>395573000000</td>\n",
       "      <td>32.2</td>\n",
       "      <td>3.123</td>\n",
       "      <td>7.876</td>\n",
       "      <td>142.60</td>\n",
       "      <td>79.9</td>\n",
       "      <td>682.5</td>\n",
       "      <td>19495210.0</td>\n",
       "    </tr>\n",
       "    <tr>\n",
       "      <th>3</th>\n",
       "      <td>Australia</td>\n",
       "      <td>2003</td>\n",
       "      <td>6.521</td>\n",
       "      <td>467498000000</td>\n",
       "      <td>29.3</td>\n",
       "      <td>3.157</td>\n",
       "      <td>7.881</td>\n",
       "      <td>143.47</td>\n",
       "      <td>80.2</td>\n",
       "      <td>668.3</td>\n",
       "      <td>19720737.0</td>\n",
       "    </tr>\n",
       "    <tr>\n",
       "      <th>4</th>\n",
       "      <td>Australia</td>\n",
       "      <td>2004</td>\n",
       "      <td>6.477</td>\n",
       "      <td>614326000000</td>\n",
       "      <td>46.4</td>\n",
       "      <td>3.250</td>\n",
       "      <td>8.087</td>\n",
       "      <td>144.10</td>\n",
       "      <td>80.5</td>\n",
       "      <td>663.8</td>\n",
       "      <td>19932722.0</td>\n",
       "    </tr>\n",
       "  </tbody>\n",
       "</table>\n",
       "</div>\n",
       "    <div class=\"colab-df-buttons\">\n",
       "\n",
       "  <div class=\"colab-df-container\">\n",
       "    <button class=\"colab-df-convert\" onclick=\"convertToInteractive('df-a574630d-1a58-40eb-90e0-abbafe577c56')\"\n",
       "            title=\"Convert this dataframe to an interactive table.\"\n",
       "            style=\"display:none;\">\n",
       "\n",
       "  <svg xmlns=\"http://www.w3.org/2000/svg\" height=\"24px\" viewBox=\"0 -960 960 960\">\n",
       "    <path d=\"M120-120v-720h720v720H120Zm60-500h600v-160H180v160Zm220 220h160v-160H400v160Zm0 220h160v-160H400v160ZM180-400h160v-160H180v160Zm440 0h160v-160H620v160ZM180-180h160v-160H180v160Zm440 0h160v-160H620v160Z\"/>\n",
       "  </svg>\n",
       "    </button>\n",
       "\n",
       "  <style>\n",
       "    .colab-df-container {\n",
       "      display:flex;\n",
       "      gap: 12px;\n",
       "    }\n",
       "\n",
       "    .colab-df-convert {\n",
       "      background-color: #E8F0FE;\n",
       "      border: none;\n",
       "      border-radius: 50%;\n",
       "      cursor: pointer;\n",
       "      display: none;\n",
       "      fill: #1967D2;\n",
       "      height: 32px;\n",
       "      padding: 0 0 0 0;\n",
       "      width: 32px;\n",
       "    }\n",
       "\n",
       "    .colab-df-convert:hover {\n",
       "      background-color: #E2EBFA;\n",
       "      box-shadow: 0px 1px 2px rgba(60, 64, 67, 0.3), 0px 1px 3px 1px rgba(60, 64, 67, 0.15);\n",
       "      fill: #174EA6;\n",
       "    }\n",
       "\n",
       "    .colab-df-buttons div {\n",
       "      margin-bottom: 4px;\n",
       "    }\n",
       "\n",
       "    [theme=dark] .colab-df-convert {\n",
       "      background-color: #3B4455;\n",
       "      fill: #D2E3FC;\n",
       "    }\n",
       "\n",
       "    [theme=dark] .colab-df-convert:hover {\n",
       "      background-color: #434B5C;\n",
       "      box-shadow: 0px 1px 3px 1px rgba(0, 0, 0, 0.15);\n",
       "      filter: drop-shadow(0px 1px 2px rgba(0, 0, 0, 0.3));\n",
       "      fill: #FFFFFF;\n",
       "    }\n",
       "  </style>\n",
       "\n",
       "    <script>\n",
       "      const buttonEl =\n",
       "        document.querySelector('#df-a574630d-1a58-40eb-90e0-abbafe577c56 button.colab-df-convert');\n",
       "      buttonEl.style.display =\n",
       "        google.colab.kernel.accessAllowed ? 'block' : 'none';\n",
       "\n",
       "      async function convertToInteractive(key) {\n",
       "        const element = document.querySelector('#df-a574630d-1a58-40eb-90e0-abbafe577c56');\n",
       "        const dataTable =\n",
       "          await google.colab.kernel.invokeFunction('convertToInteractive',\n",
       "                                                    [key], {});\n",
       "        if (!dataTable) return;\n",
       "\n",
       "        const docLinkHtml = 'Like what you see? Visit the ' +\n",
       "          '<a target=\"_blank\" href=https://colab.research.google.com/notebooks/data_table.ipynb>data table notebook</a>'\n",
       "          + ' to learn more about interactive tables.';\n",
       "        element.innerHTML = '';\n",
       "        dataTable['output_type'] = 'display_data';\n",
       "        await google.colab.output.renderOutput(dataTable, element);\n",
       "        const docLink = document.createElement('div');\n",
       "        docLink.innerHTML = docLinkHtml;\n",
       "        element.appendChild(docLink);\n",
       "      }\n",
       "    </script>\n",
       "  </div>\n",
       "\n",
       "\n",
       "<div id=\"df-79af80c6-21bf-4dce-8214-7e8469c58616\">\n",
       "  <button class=\"colab-df-quickchart\" onclick=\"quickchart('df-79af80c6-21bf-4dce-8214-7e8469c58616')\"\n",
       "            title=\"Suggest charts\"\n",
       "            style=\"display:none;\">\n",
       "\n",
       "<svg xmlns=\"http://www.w3.org/2000/svg\" height=\"24px\"viewBox=\"0 0 24 24\"\n",
       "     width=\"24px\">\n",
       "    <g>\n",
       "        <path d=\"M19 3H5c-1.1 0-2 .9-2 2v14c0 1.1.9 2 2 2h14c1.1 0 2-.9 2-2V5c0-1.1-.9-2-2-2zM9 17H7v-7h2v7zm4 0h-2V7h2v10zm4 0h-2v-4h2v4z\"/>\n",
       "    </g>\n",
       "</svg>\n",
       "  </button>\n",
       "\n",
       "<style>\n",
       "  .colab-df-quickchart {\n",
       "      --bg-color: #E8F0FE;\n",
       "      --fill-color: #1967D2;\n",
       "      --hover-bg-color: #E2EBFA;\n",
       "      --hover-fill-color: #174EA6;\n",
       "      --disabled-fill-color: #AAA;\n",
       "      --disabled-bg-color: #DDD;\n",
       "  }\n",
       "\n",
       "  [theme=dark] .colab-df-quickchart {\n",
       "      --bg-color: #3B4455;\n",
       "      --fill-color: #D2E3FC;\n",
       "      --hover-bg-color: #434B5C;\n",
       "      --hover-fill-color: #FFFFFF;\n",
       "      --disabled-bg-color: #3B4455;\n",
       "      --disabled-fill-color: #666;\n",
       "  }\n",
       "\n",
       "  .colab-df-quickchart {\n",
       "    background-color: var(--bg-color);\n",
       "    border: none;\n",
       "    border-radius: 50%;\n",
       "    cursor: pointer;\n",
       "    display: none;\n",
       "    fill: var(--fill-color);\n",
       "    height: 32px;\n",
       "    padding: 0;\n",
       "    width: 32px;\n",
       "  }\n",
       "\n",
       "  .colab-df-quickchart:hover {\n",
       "    background-color: var(--hover-bg-color);\n",
       "    box-shadow: 0 1px 2px rgba(60, 64, 67, 0.3), 0 1px 3px 1px rgba(60, 64, 67, 0.15);\n",
       "    fill: var(--button-hover-fill-color);\n",
       "  }\n",
       "\n",
       "  .colab-df-quickchart-complete:disabled,\n",
       "  .colab-df-quickchart-complete:disabled:hover {\n",
       "    background-color: var(--disabled-bg-color);\n",
       "    fill: var(--disabled-fill-color);\n",
       "    box-shadow: none;\n",
       "  }\n",
       "\n",
       "  .colab-df-spinner {\n",
       "    border: 2px solid var(--fill-color);\n",
       "    border-color: transparent;\n",
       "    border-bottom-color: var(--fill-color);\n",
       "    animation:\n",
       "      spin 1s steps(1) infinite;\n",
       "  }\n",
       "\n",
       "  @keyframes spin {\n",
       "    0% {\n",
       "      border-color: transparent;\n",
       "      border-bottom-color: var(--fill-color);\n",
       "      border-left-color: var(--fill-color);\n",
       "    }\n",
       "    20% {\n",
       "      border-color: transparent;\n",
       "      border-left-color: var(--fill-color);\n",
       "      border-top-color: var(--fill-color);\n",
       "    }\n",
       "    30% {\n",
       "      border-color: transparent;\n",
       "      border-left-color: var(--fill-color);\n",
       "      border-top-color: var(--fill-color);\n",
       "      border-right-color: var(--fill-color);\n",
       "    }\n",
       "    40% {\n",
       "      border-color: transparent;\n",
       "      border-right-color: var(--fill-color);\n",
       "      border-top-color: var(--fill-color);\n",
       "    }\n",
       "    60% {\n",
       "      border-color: transparent;\n",
       "      border-right-color: var(--fill-color);\n",
       "    }\n",
       "    80% {\n",
       "      border-color: transparent;\n",
       "      border-right-color: var(--fill-color);\n",
       "      border-bottom-color: var(--fill-color);\n",
       "    }\n",
       "    90% {\n",
       "      border-color: transparent;\n",
       "      border-bottom-color: var(--fill-color);\n",
       "    }\n",
       "  }\n",
       "</style>\n",
       "\n",
       "  <script>\n",
       "    async function quickchart(key) {\n",
       "      const quickchartButtonEl =\n",
       "        document.querySelector('#' + key + ' button');\n",
       "      quickchartButtonEl.disabled = true;  // To prevent multiple clicks.\n",
       "      quickchartButtonEl.classList.add('colab-df-spinner');\n",
       "      try {\n",
       "        const charts = await google.colab.kernel.invokeFunction(\n",
       "            'suggestCharts', [key], {});\n",
       "      } catch (error) {\n",
       "        console.error('Error during call to suggestCharts:', error);\n",
       "      }\n",
       "      quickchartButtonEl.classList.remove('colab-df-spinner');\n",
       "      quickchartButtonEl.classList.add('colab-df-quickchart-complete');\n",
       "    }\n",
       "    (() => {\n",
       "      let quickchartButtonEl =\n",
       "        document.querySelector('#df-79af80c6-21bf-4dce-8214-7e8469c58616 button');\n",
       "      quickchartButtonEl.style.display =\n",
       "        google.colab.kernel.accessAllowed ? 'block' : 'none';\n",
       "    })();\n",
       "  </script>\n",
       "</div>\n",
       "    </div>\n",
       "  </div>\n"
      ],
      "text/plain": [
       "     Country  Year  Hospital_density           gdp  Communicable_disease  \\\n",
       "0  Australia  2000             6.648  415845000000                  35.6   \n",
       "1  Australia  2001             6.656  379358000000                  53.3   \n",
       "2  Australia  2002             6.586  395573000000                  32.2   \n",
       "3  Australia  2003             6.521  467498000000                  29.3   \n",
       "4  Australia  2004             6.477  614326000000                  46.4   \n",
       "\n",
       "   Hospital_Expenditure  Total_Health_Expenditure  Injury Count  \\\n",
       "0                 2.987                     7.594        138.30   \n",
       "1                 3.024                     7.678        141.76   \n",
       "2                 3.123                     7.876        142.60   \n",
       "3                 3.157                     7.881        143.47   \n",
       "4                 3.250                     8.087        144.10   \n",
       "\n",
       "   life_expectancy  Mortality  Population  \n",
       "0             79.2      676.8  19028802.0  \n",
       "1             79.6      667.5  19274701.0  \n",
       "2             79.9      682.5  19495210.0  \n",
       "3             80.2      668.3  19720737.0  \n",
       "4             80.5      663.8  19932722.0  "
      ]
     },
     "execution_count": 2,
     "metadata": {},
     "output_type": "execute_result"
    }
   ],
   "source": [
    "#load the dataset\n",
    "df = pd.read_csv(\"/content/Algo-sprint.csv\")\n",
    "df.head()"
   ]
  },
  {
   "cell_type": "code",
   "execution_count": 172,
   "metadata": {
    "colab": {
     "base_uri": "https://localhost:8080/",
     "height": 244
    },
    "id": "sXY2M3wqi1Mh",
    "outputId": "338827ba-2433-4f21-f61d-a79424a15832"
   },
   "outputs": [
    {
     "data": {
      "text/html": [
       "\n",
       "  <div id=\"df-5537efe1-80f9-4003-8df6-21ab9a5a3775\" class=\"colab-df-container\">\n",
       "    <div>\n",
       "<style scoped>\n",
       "    .dataframe tbody tr th:only-of-type {\n",
       "        vertical-align: middle;\n",
       "    }\n",
       "\n",
       "    .dataframe tbody tr th {\n",
       "        vertical-align: top;\n",
       "    }\n",
       "\n",
       "    .dataframe thead th {\n",
       "        text-align: right;\n",
       "    }\n",
       "</style>\n",
       "<table border=\"1\" class=\"dataframe\">\n",
       "  <thead>\n",
       "    <tr style=\"text-align: right;\">\n",
       "      <th></th>\n",
       "      <th>Hospital_density</th>\n",
       "      <th>gdp</th>\n",
       "      <th>Communicable_disease</th>\n",
       "      <th>Hospital_Expenditure</th>\n",
       "      <th>Total_Health_Expenditure</th>\n",
       "      <th>Injury Count</th>\n",
       "      <th>life_expectancy</th>\n",
       "      <th>Mortality</th>\n",
       "      <th>Population</th>\n",
       "    </tr>\n",
       "  </thead>\n",
       "  <tbody>\n",
       "    <tr>\n",
       "      <th>892</th>\n",
       "      <td>2.960</td>\n",
       "      <td>2056700000000</td>\n",
       "      <td>3.0</td>\n",
       "      <td>5.036</td>\n",
       "      <td>7.988</td>\n",
       "      <td>498.5</td>\n",
       "      <td>78.3</td>\n",
       "      <td>1026.4</td>\n",
       "      <td>59636662.0</td>\n",
       "    </tr>\n",
       "    <tr>\n",
       "      <th>893</th>\n",
       "      <td>2.960</td>\n",
       "      <td>2666400000000</td>\n",
       "      <td>5.5</td>\n",
       "      <td>5.036</td>\n",
       "      <td>9.724</td>\n",
       "      <td>333.0</td>\n",
       "      <td>80.7</td>\n",
       "      <td>872.6</td>\n",
       "      <td>63285145.0</td>\n",
       "    </tr>\n",
       "    <tr>\n",
       "      <th>894</th>\n",
       "      <td>2.960</td>\n",
       "      <td>2709980000000</td>\n",
       "      <td>4.5</td>\n",
       "      <td>5.036</td>\n",
       "      <td>8.475</td>\n",
       "      <td>434.5</td>\n",
       "      <td>79.3</td>\n",
       "      <td>940.7</td>\n",
       "      <td>60827067.0</td>\n",
       "    </tr>\n",
       "    <tr>\n",
       "      <th>895</th>\n",
       "      <td>2.960</td>\n",
       "      <td>1648770000000</td>\n",
       "      <td>1.9</td>\n",
       "      <td>5.036</td>\n",
       "      <td>7.413</td>\n",
       "      <td>546.2</td>\n",
       "      <td>78.0</td>\n",
       "      <td>1022.4</td>\n",
       "      <td>59113016.0</td>\n",
       "    </tr>\n",
       "    <tr>\n",
       "      <th>896</th>\n",
       "      <td>1.847</td>\n",
       "      <td>25462700000000</td>\n",
       "      <td>5.1</td>\n",
       "      <td>5.678</td>\n",
       "      <td>16.634</td>\n",
       "      <td>748.3</td>\n",
       "      <td>76.4</td>\n",
       "      <td>1020.7</td>\n",
       "      <td>333287557.0</td>\n",
       "    </tr>\n",
       "  </tbody>\n",
       "</table>\n",
       "</div>\n",
       "    <div class=\"colab-df-buttons\">\n",
       "\n",
       "  <div class=\"colab-df-container\">\n",
       "    <button class=\"colab-df-convert\" onclick=\"convertToInteractive('df-5537efe1-80f9-4003-8df6-21ab9a5a3775')\"\n",
       "            title=\"Convert this dataframe to an interactive table.\"\n",
       "            style=\"display:none;\">\n",
       "\n",
       "  <svg xmlns=\"http://www.w3.org/2000/svg\" height=\"24px\" viewBox=\"0 -960 960 960\">\n",
       "    <path d=\"M120-120v-720h720v720H120Zm60-500h600v-160H180v160Zm220 220h160v-160H400v160Zm0 220h160v-160H400v160ZM180-400h160v-160H180v160Zm440 0h160v-160H620v160ZM180-180h160v-160H180v160Zm440 0h160v-160H620v160Z\"/>\n",
       "  </svg>\n",
       "    </button>\n",
       "\n",
       "  <style>\n",
       "    .colab-df-container {\n",
       "      display:flex;\n",
       "      gap: 12px;\n",
       "    }\n",
       "\n",
       "    .colab-df-convert {\n",
       "      background-color: #E8F0FE;\n",
       "      border: none;\n",
       "      border-radius: 50%;\n",
       "      cursor: pointer;\n",
       "      display: none;\n",
       "      fill: #1967D2;\n",
       "      height: 32px;\n",
       "      padding: 0 0 0 0;\n",
       "      width: 32px;\n",
       "    }\n",
       "\n",
       "    .colab-df-convert:hover {\n",
       "      background-color: #E2EBFA;\n",
       "      box-shadow: 0px 1px 2px rgba(60, 64, 67, 0.3), 0px 1px 3px 1px rgba(60, 64, 67, 0.15);\n",
       "      fill: #174EA6;\n",
       "    }\n",
       "\n",
       "    .colab-df-buttons div {\n",
       "      margin-bottom: 4px;\n",
       "    }\n",
       "\n",
       "    [theme=dark] .colab-df-convert {\n",
       "      background-color: #3B4455;\n",
       "      fill: #D2E3FC;\n",
       "    }\n",
       "\n",
       "    [theme=dark] .colab-df-convert:hover {\n",
       "      background-color: #434B5C;\n",
       "      box-shadow: 0px 1px 3px 1px rgba(0, 0, 0, 0.15);\n",
       "      filter: drop-shadow(0px 1px 2px rgba(0, 0, 0, 0.3));\n",
       "      fill: #FFFFFF;\n",
       "    }\n",
       "  </style>\n",
       "\n",
       "    <script>\n",
       "      const buttonEl =\n",
       "        document.querySelector('#df-5537efe1-80f9-4003-8df6-21ab9a5a3775 button.colab-df-convert');\n",
       "      buttonEl.style.display =\n",
       "        google.colab.kernel.accessAllowed ? 'block' : 'none';\n",
       "\n",
       "      async function convertToInteractive(key) {\n",
       "        const element = document.querySelector('#df-5537efe1-80f9-4003-8df6-21ab9a5a3775');\n",
       "        const dataTable =\n",
       "          await google.colab.kernel.invokeFunction('convertToInteractive',\n",
       "                                                    [key], {});\n",
       "        if (!dataTable) return;\n",
       "\n",
       "        const docLinkHtml = 'Like what you see? Visit the ' +\n",
       "          '<a target=\"_blank\" href=https://colab.research.google.com/notebooks/data_table.ipynb>data table notebook</a>'\n",
       "          + ' to learn more about interactive tables.';\n",
       "        element.innerHTML = '';\n",
       "        dataTable['output_type'] = 'display_data';\n",
       "        await google.colab.output.renderOutput(dataTable, element);\n",
       "        const docLink = document.createElement('div');\n",
       "        docLink.innerHTML = docLinkHtml;\n",
       "        element.appendChild(docLink);\n",
       "      }\n",
       "    </script>\n",
       "  </div>\n",
       "\n",
       "\n",
       "<div id=\"df-891f7738-1766-469e-876e-7ec51066ee3d\">\n",
       "  <button class=\"colab-df-quickchart\" onclick=\"quickchart('df-891f7738-1766-469e-876e-7ec51066ee3d')\"\n",
       "            title=\"Suggest charts\"\n",
       "            style=\"display:none;\">\n",
       "\n",
       "<svg xmlns=\"http://www.w3.org/2000/svg\" height=\"24px\"viewBox=\"0 0 24 24\"\n",
       "     width=\"24px\">\n",
       "    <g>\n",
       "        <path d=\"M19 3H5c-1.1 0-2 .9-2 2v14c0 1.1.9 2 2 2h14c1.1 0 2-.9 2-2V5c0-1.1-.9-2-2-2zM9 17H7v-7h2v7zm4 0h-2V7h2v10zm4 0h-2v-4h2v4z\"/>\n",
       "    </g>\n",
       "</svg>\n",
       "  </button>\n",
       "\n",
       "<style>\n",
       "  .colab-df-quickchart {\n",
       "      --bg-color: #E8F0FE;\n",
       "      --fill-color: #1967D2;\n",
       "      --hover-bg-color: #E2EBFA;\n",
       "      --hover-fill-color: #174EA6;\n",
       "      --disabled-fill-color: #AAA;\n",
       "      --disabled-bg-color: #DDD;\n",
       "  }\n",
       "\n",
       "  [theme=dark] .colab-df-quickchart {\n",
       "      --bg-color: #3B4455;\n",
       "      --fill-color: #D2E3FC;\n",
       "      --hover-bg-color: #434B5C;\n",
       "      --hover-fill-color: #FFFFFF;\n",
       "      --disabled-bg-color: #3B4455;\n",
       "      --disabled-fill-color: #666;\n",
       "  }\n",
       "\n",
       "  .colab-df-quickchart {\n",
       "    background-color: var(--bg-color);\n",
       "    border: none;\n",
       "    border-radius: 50%;\n",
       "    cursor: pointer;\n",
       "    display: none;\n",
       "    fill: var(--fill-color);\n",
       "    height: 32px;\n",
       "    padding: 0;\n",
       "    width: 32px;\n",
       "  }\n",
       "\n",
       "  .colab-df-quickchart:hover {\n",
       "    background-color: var(--hover-bg-color);\n",
       "    box-shadow: 0 1px 2px rgba(60, 64, 67, 0.3), 0 1px 3px 1px rgba(60, 64, 67, 0.15);\n",
       "    fill: var(--button-hover-fill-color);\n",
       "  }\n",
       "\n",
       "  .colab-df-quickchart-complete:disabled,\n",
       "  .colab-df-quickchart-complete:disabled:hover {\n",
       "    background-color: var(--disabled-bg-color);\n",
       "    fill: var(--disabled-fill-color);\n",
       "    box-shadow: none;\n",
       "  }\n",
       "\n",
       "  .colab-df-spinner {\n",
       "    border: 2px solid var(--fill-color);\n",
       "    border-color: transparent;\n",
       "    border-bottom-color: var(--fill-color);\n",
       "    animation:\n",
       "      spin 1s steps(1) infinite;\n",
       "  }\n",
       "\n",
       "  @keyframes spin {\n",
       "    0% {\n",
       "      border-color: transparent;\n",
       "      border-bottom-color: var(--fill-color);\n",
       "      border-left-color: var(--fill-color);\n",
       "    }\n",
       "    20% {\n",
       "      border-color: transparent;\n",
       "      border-left-color: var(--fill-color);\n",
       "      border-top-color: var(--fill-color);\n",
       "    }\n",
       "    30% {\n",
       "      border-color: transparent;\n",
       "      border-left-color: var(--fill-color);\n",
       "      border-top-color: var(--fill-color);\n",
       "      border-right-color: var(--fill-color);\n",
       "    }\n",
       "    40% {\n",
       "      border-color: transparent;\n",
       "      border-right-color: var(--fill-color);\n",
       "      border-top-color: var(--fill-color);\n",
       "    }\n",
       "    60% {\n",
       "      border-color: transparent;\n",
       "      border-right-color: var(--fill-color);\n",
       "    }\n",
       "    80% {\n",
       "      border-color: transparent;\n",
       "      border-right-color: var(--fill-color);\n",
       "      border-bottom-color: var(--fill-color);\n",
       "    }\n",
       "    90% {\n",
       "      border-color: transparent;\n",
       "      border-bottom-color: var(--fill-color);\n",
       "    }\n",
       "  }\n",
       "</style>\n",
       "\n",
       "  <script>\n",
       "    async function quickchart(key) {\n",
       "      const quickchartButtonEl =\n",
       "        document.querySelector('#' + key + ' button');\n",
       "      quickchartButtonEl.disabled = true;  // To prevent multiple clicks.\n",
       "      quickchartButtonEl.classList.add('colab-df-spinner');\n",
       "      try {\n",
       "        const charts = await google.colab.kernel.invokeFunction(\n",
       "            'suggestCharts', [key], {});\n",
       "      } catch (error) {\n",
       "        console.error('Error during call to suggestCharts:', error);\n",
       "      }\n",
       "      quickchartButtonEl.classList.remove('colab-df-spinner');\n",
       "      quickchartButtonEl.classList.add('colab-df-quickchart-complete');\n",
       "    }\n",
       "    (() => {\n",
       "      let quickchartButtonEl =\n",
       "        document.querySelector('#df-891f7738-1766-469e-876e-7ec51066ee3d button');\n",
       "      quickchartButtonEl.style.display =\n",
       "        google.colab.kernel.accessAllowed ? 'block' : 'none';\n",
       "    })();\n",
       "  </script>\n",
       "</div>\n",
       "    </div>\n",
       "  </div>\n"
      ],
      "text/plain": [
       "     Hospital_density             gdp  Communicable_disease  \\\n",
       "892             2.960   2056700000000                   3.0   \n",
       "893             2.960   2666400000000                   5.5   \n",
       "894             2.960   2709980000000                   4.5   \n",
       "895             2.960   1648770000000                   1.9   \n",
       "896             1.847  25462700000000                   5.1   \n",
       "\n",
       "     Hospital_Expenditure  Total_Health_Expenditure  Injury Count  \\\n",
       "892                 5.036                     7.988         498.5   \n",
       "893                 5.036                     9.724         333.0   \n",
       "894                 5.036                     8.475         434.5   \n",
       "895                 5.036                     7.413         546.2   \n",
       "896                 5.678                    16.634         748.3   \n",
       "\n",
       "     life_expectancy  Mortality   Population  \n",
       "892             78.3     1026.4   59636662.0  \n",
       "893             80.7      872.6   63285145.0  \n",
       "894             79.3      940.7   60827067.0  \n",
       "895             78.0     1022.4   59113016.0  \n",
       "896             76.4     1020.7  333287557.0  "
      ]
     },
     "execution_count": 172,
     "metadata": {},
     "output_type": "execute_result"
    }
   ],
   "source": [
    "df.tail()"
   ]
  },
  {
   "cell_type": "markdown",
   "metadata": {
    "id": "qT0-E0U5i6_8"
   },
   "source": [
    "**EXPLORATORY DATA ANALYSIS**"
   ]
  },
  {
   "cell_type": "code",
   "execution_count": 4,
   "metadata": {
    "colab": {
     "base_uri": "https://localhost:8080/"
    },
    "id": "G9tSeZymi_VJ",
    "outputId": "eed16529-a213-486e-ef8f-b32e4a2dfeb9"
   },
   "outputs": [
    {
     "data": {
      "text/plain": [
       "(897, 11)"
      ]
     },
     "execution_count": 4,
     "metadata": {},
     "output_type": "execute_result"
    }
   ],
   "source": [
    "df.shape"
   ]
  },
  {
   "cell_type": "code",
   "execution_count": 5,
   "metadata": {
    "colab": {
     "base_uri": "https://localhost:8080/"
    },
    "id": "ITGFlFTvjhHr",
    "outputId": "76f28f87-4978-4d44-a248-97b4e5fa6f9e"
   },
   "outputs": [
    {
     "name": "stdout",
     "output_type": "stream",
     "text": [
      "<class 'pandas.core.frame.DataFrame'>\n",
      "RangeIndex: 897 entries, 0 to 896\n",
      "Data columns (total 11 columns):\n",
      " #   Column                    Non-Null Count  Dtype  \n",
      "---  ------                    --------------  -----  \n",
      " 0   Country                   897 non-null    object \n",
      " 1   Year                      897 non-null    int64  \n",
      " 2   Hospital_density          897 non-null    float64\n",
      " 3   gdp                       897 non-null    int64  \n",
      " 4   Communicable_disease      897 non-null    float64\n",
      " 5   Hospital_Expenditure      897 non-null    float64\n",
      " 6   Total_Health_Expenditure  897 non-null    float64\n",
      " 7   Injury Count              897 non-null    float64\n",
      " 8   life_expectancy           897 non-null    float64\n",
      " 9   Mortality                 897 non-null    float64\n",
      " 10  Population                897 non-null    float64\n",
      "dtypes: float64(8), int64(2), object(1)\n",
      "memory usage: 77.2+ KB\n"
     ]
    }
   ],
   "source": [
    "df.info()"
   ]
  },
  {
   "cell_type": "code",
   "execution_count": 6,
   "metadata": {
    "colab": {
     "base_uri": "https://localhost:8080/",
     "height": 423
    },
    "id": "a58A5ysjjmm3",
    "outputId": "eda1ac03-8bf7-4f0e-96a7-2db2a21fa397"
   },
   "outputs": [
    {
     "data": {
      "text/plain": [
       "<Axes: >"
      ]
     },
     "execution_count": 6,
     "metadata": {},
     "output_type": "execute_result"
    },
    {
     "data": {
      "image/png": "[encoded data removed]",
      "text/plain": [
       "<Figure size 640x480 with 1 Axes>"
      ]
     },
     "metadata": {},
     "output_type": "display_data"
    }
   ],
   "source": [
    "df.dtypes.value_counts().plot.pie()"
   ]
  },
  {
   "cell_type": "code",
   "execution_count": 13,
   "metadata": {
    "colab": {
     "base_uri": "https://localhost:8080/"
    },
    "id": "YC-m3AQFjvkS",
    "outputId": "fb187463-57da-4e55-a6ce-e55587f0fca2"
   },
   "outputs": [
    {
     "data": {
      "text/plain": [
       "Index(['Country', 'Year', 'Hospital_density', 'gdp', 'Communicable_disease',\n",
       "       'Hospital_Expenditure', 'Total_Health_Expenditure', 'Injury Count',\n",
       "       'life_expectancy', 'Mortality', 'Population'],\n",
       "      dtype='object')"
      ]
     },
     "execution_count": 13,
     "metadata": {},
     "output_type": "execute_result"
    }
   ],
   "source": [
    "df.columns"
   ]
  },
  {
   "cell_type": "code",
   "execution_count": 14,
   "metadata": {
    "colab": {
     "base_uri": "https://localhost:8080/",
     "height": 656
    },
    "id": "i0zK_swAkFNk",
    "outputId": "1b363e3c-2235-4edb-baa7-321509234c1d"
   },
   "outputs": [
    {
     "name": "stderr",
     "output_type": "stream",
     "text": [
      "<ipython-input-14-f46323e1b7ed>:2: UserWarning: \n",
      "\n",
      "`distplot` is a deprecated function and will be removed in seaborn v0.14.0.\n",
      "\n",
      "Please adapt your code to use either `displot` (a figure-level function with\n",
      "similar flexibility) or `histplot` (an axes-level function for histograms).\n",
      "\n",
      "For a guide to updating your code to use the new functions, please see\n",
      "https://gist.github.com/mwaskom/de44147ed2974457ad6372750bbe5751\n",
      "\n",
      "  sns.distplot(df['Hospital_density'],hist = True, label = 'Price')\n"
     ]
    },
    {
     "data": {
      "image/png": "[encoded data removed]",
      "text/plain": [
       "<Figure size 800x500 with 1 Axes>"
      ]
     },
     "metadata": {},
     "output_type": "display_data"
    }
   ],
   "source": [
    "plt.figure(figsize = (8,5))\n",
    "sns.distplot(df['Hospital_density'],hist = True, label = 'Price')\n",
    "plt.show()"
   ]
  },
  {
   "cell_type": "code",
   "execution_count": 15,
   "metadata": {
    "colab": {
     "base_uri": "https://localhost:8080/",
     "height": 671
    },
    "id": "WsaZdebIkm7M",
    "outputId": "bd003ca5-8746-44ff-ae02-73ab84c6da83"
   },
   "outputs": [
    {
     "name": "stderr",
     "output_type": "stream",
     "text": [
      "<ipython-input-15-e6e7785d19c4>:2: UserWarning: \n",
      "\n",
      "`distplot` is a deprecated function and will be removed in seaborn v0.14.0.\n",
      "\n",
      "Please adapt your code to use either `displot` (a figure-level function with\n",
      "similar flexibility) or `histplot` (an axes-level function for histograms).\n",
      "\n",
      "For a guide to updating your code to use the new functions, please see\n",
      "https://gist.github.com/mwaskom/de44147ed2974457ad6372750bbe5751\n",
      "\n",
      "  sns.distplot(df['gdp'],hist = True, label = 'Price')\n"
     ]
    },
    {
     "data": {
      "image/png": "[encoded data removed]",
      "text/plain": [
       "<Figure size 800x500 with 1 Axes>"
      ]
     },
     "metadata": {},
     "output_type": "display_data"
    }
   ],
   "source": [
    "plt.figure(figsize = (8,5))\n",
    "sns.distplot(df['gdp'],hist = True, label = 'Price')\n",
    "plt.show()"
   ]
  },
  {
   "cell_type": "code",
   "execution_count": 16,
   "metadata": {
    "colab": {
     "base_uri": "https://localhost:8080/",
     "height": 656
    },
    "id": "KdGqEU2Ipvgh",
    "outputId": "de8b335e-f9ff-4cb5-948f-36286745d87b"
   },
   "outputs": [
    {
     "name": "stderr",
     "output_type": "stream",
     "text": [
      "<ipython-input-16-916756007455>:2: UserWarning: \n",
      "\n",
      "`distplot` is a deprecated function and will be removed in seaborn v0.14.0.\n",
      "\n",
      "Please adapt your code to use either `displot` (a figure-level function with\n",
      "similar flexibility) or `histplot` (an axes-level function for histograms).\n",
      "\n",
      "For a guide to updating your code to use the new functions, please see\n",
      "https://gist.github.com/mwaskom/de44147ed2974457ad6372750bbe5751\n",
      "\n",
      "  sns.distplot(df['Communicable_disease'],hist = True, label = 'Price')\n"
     ]
    },
    {
     "data": {
      "image/png": "[encoded data removed]",
      "text/plain": [
       "<Figure size 800x500 with 1 Axes>"
      ]
     },
     "metadata": {},
     "output_type": "display_data"
    }
   ],
   "source": [
    "plt.figure(figsize = (8,5))\n",
    "sns.distplot(df['Communicable_disease'],hist = True, label = 'Price')\n",
    "plt.show()"
   ]
  },
  {
   "cell_type": "code",
   "execution_count": 17,
   "metadata": {
    "colab": {
     "base_uri": "https://localhost:8080/",
     "height": 656
    },
    "id": "Lhat9pjcqCb0",
    "outputId": "b11e1d6f-44d9-4e2b-8f06-b9942e44bdc8"
   },
   "outputs": [
    {
     "name": "stderr",
     "output_type": "stream",
     "text": [
      "<ipython-input-17-c110bda745de>:2: UserWarning: \n",
      "\n",
      "`distplot` is a deprecated function and will be removed in seaborn v0.14.0.\n",
      "\n",
      "Please adapt your code to use either `displot` (a figure-level function with\n",
      "similar flexibility) or `histplot` (an axes-level function for histograms).\n",
      "\n",
      "For a guide to updating your code to use the new functions, please see\n",
      "https://gist.github.com/mwaskom/de44147ed2974457ad6372750bbe5751\n",
      "\n",
      "  sns.distplot(df['Hospital_Expenditure'],hist = True, label = 'Price')\n"
     ]
    },
    {
     "data": {
      "image/png": "[encoded data removed]",
      "text/plain": [
       "<Figure size 800x500 with 1 Axes>"
      ]
     },
     "metadata": {},
     "output_type": "display_data"
    }
   ],
   "source": [
    "plt.figure(figsize = (8,5))\n",
    "sns.distplot(df['Hospital_Expenditure'],hist = True, label = 'Price')\n",
    "plt.show()"
   ]
  },
  {
   "cell_type": "code",
   "execution_count": 19,
   "metadata": {
    "colab": {
     "base_uri": "https://localhost:8080/",
     "height": 656
    },
    "id": "aGewDXyZqKFY",
    "outputId": "fa64501b-9eef-4330-9be9-ed2b95931a87"
   },
   "outputs": [
    {
     "name": "stderr",
     "output_type": "stream",
     "text": [
      "<ipython-input-19-b61bf176431b>:2: UserWarning: \n",
      "\n",
      "`distplot` is a deprecated function and will be removed in seaborn v0.14.0.\n",
      "\n",
      "Please adapt your code to use either `displot` (a figure-level function with\n",
      "similar flexibility) or `histplot` (an axes-level function for histograms).\n",
      "\n",
      "For a guide to updating your code to use the new functions, please see\n",
      "https://gist.github.com/mwaskom/de44147ed2974457ad6372750bbe5751\n",
      "\n",
      "  sns.distplot(df['Total_Health_Expenditure'],hist = True, label = 'Price')\n"
     ]
    },
    {
     "data": {
      "image/png": "[encoded data removed]",
      "text/plain": [
       "<Figure size 800x500 with 1 Axes>"
      ]
     },
     "metadata": {},
     "output_type": "display_data"
    }
   ],
   "source": [
    "plt.figure(figsize = (8,5))\n",
    "sns.distplot(df['Total_Health_Expenditure'],hist = True, label = 'Price')\n",
    "plt.show()"
   ]
  },
  {
   "cell_type": "code",
   "execution_count": 20,
   "metadata": {
    "colab": {
     "base_uri": "https://localhost:8080/",
     "height": 656
    },
    "id": "rmrz2QyXqVFH",
    "outputId": "a8f2127d-f672-4c12-819f-f9fce6c3619e"
   },
   "outputs": [
    {
     "name": "stderr",
     "output_type": "stream",
     "text": [
      "<ipython-input-20-f3a6f780ead9>:2: UserWarning: \n",
      "\n",
      "`distplot` is a deprecated function and will be removed in seaborn v0.14.0.\n",
      "\n",
      "Please adapt your code to use either `displot` (a figure-level function with\n",
      "similar flexibility) or `histplot` (an axes-level function for histograms).\n",
      "\n",
      "For a guide to updating your code to use the new functions, please see\n",
      "https://gist.github.com/mwaskom/de44147ed2974457ad6372750bbe5751\n",
      "\n",
      "  sns.distplot(df['Injury Count'],hist = True, label = 'Price')\n"
     ]
    },
    {
     "data": {
      "image/png": "[encoded data removed]",
      "text/plain": [
       "<Figure size 800x500 with 1 Axes>"
      ]
     },
     "metadata": {},
     "output_type": "display_data"
    }
   ],
   "source": [
    "plt.figure(figsize = (8,5))\n",
    "sns.distplot(df['Injury Count'],hist = True, label = 'Price')\n",
    "plt.show()"
   ]
  },
  {
   "cell_type": "code",
   "execution_count": 21,
   "metadata": {
    "colab": {
     "base_uri": "https://localhost:8080/",
     "height": 656
    },
    "id": "mtQxO3sAqjNk",
    "outputId": "2e9f2ac7-6ec2-40e4-dc07-4c673801a50d"
   },
   "outputs": [
    {
     "name": "stderr",
     "output_type": "stream",
     "text": [
      "<ipython-input-21-b60a0a9c5784>:2: UserWarning: \n",
      "\n",
      "`distplot` is a deprecated function and will be removed in seaborn v0.14.0.\n",
      "\n",
      "Please adapt your code to use either `displot` (a figure-level function with\n",
      "similar flexibility) or `histplot` (an axes-level function for histograms).\n",
      "\n",
      "For a guide to updating your code to use the new functions, please see\n",
      "https://gist.github.com/mwaskom/de44147ed2974457ad6372750bbe5751\n",
      "\n",
      "  sns.distplot(df['life_expectancy'],hist = True, label = 'Price')\n"
     ]
    },
    {
     "data": {
      "image/png": "[encoded data removed]",
      "text/plain": [
       "<Figure size 800x500 with 1 Axes>"
      ]
     },
     "metadata": {},
     "output_type": "display_data"
    }
   ],
   "source": [
    "plt.figure(figsize = (8,5))\n",
    "sns.distplot(df['life_expectancy'],hist = True, label = 'Price')\n",
    "plt.show()"
   ]
  },
  {
   "cell_type": "code",
   "execution_count": 22,
   "metadata": {
    "colab": {
     "base_uri": "https://localhost:8080/",
     "height": 656
    },
    "id": "7Cs2Eu_Mq5Ig",
    "outputId": "a2007fb1-28fa-4be6-ad56-c63afd56cf1f"
   },
   "outputs": [
    {
     "name": "stderr",
     "output_type": "stream",
     "text": [
      "<ipython-input-22-e2c56a5b55fe>:2: UserWarning: \n",
      "\n",
      "`distplot` is a deprecated function and will be removed in seaborn v0.14.0.\n",
      "\n",
      "Please adapt your code to use either `displot` (a figure-level function with\n",
      "similar flexibility) or `histplot` (an axes-level function for histograms).\n",
      "\n",
      "For a guide to updating your code to use the new functions, please see\n",
      "https://gist.github.com/mwaskom/de44147ed2974457ad6372750bbe5751\n",
      "\n",
      "  sns.distplot(df['Mortality'],hist = True, label = 'Price')\n"
     ]
    },
    {
     "data": {
      "image/png": "[encoded data removed]",
      "text/plain": [
       "<Figure size 800x500 with 1 Axes>"
      ]
     },
     "metadata": {},
     "output_type": "display_data"
    }
   ],
   "source": [
    "plt.figure(figsize = (8,5))\n",
    "sns.distplot(df['Mortality'],hist = True, label = 'Price')\n",
    "plt.show()"
   ]
  },
  {
   "cell_type": "code",
   "execution_count": 23,
   "metadata": {
    "colab": {
     "base_uri": "https://localhost:8080/",
     "height": 671
    },
    "id": "eiywsflhq_7J",
    "outputId": "3622171d-0144-4830-de2e-4a49af2a78ea"
   },
   "outputs": [
    {
     "name": "stderr",
     "output_type": "stream",
     "text": [
      "<ipython-input-23-0020b315303e>:2: UserWarning: \n",
      "\n",
      "`distplot` is a deprecated function and will be removed in seaborn v0.14.0.\n",
      "\n",
      "Please adapt your code to use either `displot` (a figure-level function with\n",
      "similar flexibility) or `histplot` (an axes-level function for histograms).\n",
      "\n",
      "For a guide to updating your code to use the new functions, please see\n",
      "https://gist.github.com/mwaskom/de44147ed2974457ad6372750bbe5751\n",
      "\n",
      "  sns.distplot(df['Population'],hist = True, label = 'Price')\n"
     ]
    },
    {
     "data": {
      "image/png": "[encoded data removed]",
      "text/plain": [
       "<Figure size 800x500 with 1 Axes>"
      ]
     },
     "metadata": {},
     "output_type": "display_data"
    }
   ],
   "source": [
    "plt.figure(figsize = (8,5))\n",
    "sns.distplot(df['Population'],hist = True, label = 'Price')\n",
    "plt.show()"
   ]
  },
  {
   "cell_type": "code",
   "execution_count": 33,
   "metadata": {
    "colab": {
     "base_uri": "https://localhost:8080/",
     "height": 431
    },
    "id": "qiIS2bnKrDuK",
    "outputId": "906575c6-61bd-4a2b-a807-44c16eb36bc4"
   },
   "outputs": [
    {
     "data": {
      "image/png": "[encoded data removed]",
      "text/plain": [
       "<Figure size 640x480 with 1 Axes>"
      ]
     },
     "metadata": {},
     "output_type": "display_data"
    }
   ],
   "source": [
    "sns.boxplot(df['Hospital_density'])\n",
    "plt.show()"
   ]
  },
  {
   "cell_type": "code",
   "execution_count": 36,
   "metadata": {
    "colab": {
     "base_uri": "https://localhost:8080/",
     "height": 445
    },
    "id": "bUQUY16fwPQq",
    "outputId": "2b23bc40-d9ed-4efb-f9a7-f5dc7d77c3ba"
   },
   "outputs": [
    {
     "data": {
      "image/png": "[encoded data removed]",
      "text/plain": [
       "<Figure size 640x480 with 1 Axes>"
      ]
     },
     "metadata": {},
     "output_type": "display_data"
    }
   ],
   "source": [
    "sns.boxplot(df['gdp'])\n",
    "plt.show()"
   ]
  },
  {
   "cell_type": "code",
   "execution_count": 35,
   "metadata": {
    "colab": {
     "base_uri": "https://localhost:8080/",
     "height": 430
    },
    "id": "F4hbhFT7xdta",
    "outputId": "bc4cadb2-f5f0-4c12-a8fb-797025682b1f"
   },
   "outputs": [
    {
     "data": {
      "image/png": "[encoded data removed]",
      "text/plain": [
       "<Figure size 640x480 with 1 Axes>"
      ]
     },
     "metadata": {},
     "output_type": "display_data"
    }
   ],
   "source": [
    "sns.boxplot(df['Communicable_disease'])\n",
    "plt.show()"
   ]
  },
  {
   "cell_type": "code",
   "execution_count": 42,
   "metadata": {
    "colab": {
     "base_uri": "https://localhost:8080/",
     "height": 430
    },
    "id": "PuGKn3ocxhgY",
    "outputId": "ba0b265b-b819-4b90-989e-51555189efbc"
   },
   "outputs": [
    {
     "data": {
      "image/png": "[encoded data removed]",
      "text/plain": [
       "<Figure size 640x480 with 1 Axes>"
      ]
     },
     "metadata": {},
     "output_type": "display_data"
    }
   ],
   "source": [
    "sns.boxplot(df['Hospital_Expenditure'])\n",
    "plt.show()"
   ]
  },
  {
   "cell_type": "code",
   "execution_count": 41,
   "metadata": {
    "colab": {
     "base_uri": "https://localhost:8080/",
     "height": 430
    },
    "id": "TsfMVcm4xuUo",
    "outputId": "4e1ea503-dc79-4019-abcd-804712bb7ff2"
   },
   "outputs": [
    {
     "data": {
      "image/png": "[encoded data removed]",
      "text/plain": [
       "<Figure size 640x480 with 1 Axes>"
      ]
     },
     "metadata": {},
     "output_type": "display_data"
    }
   ],
   "source": [
    "sns.boxplot(df['Total_Health_Expenditure'])\n",
    "plt.show()"
   ]
  },
  {
   "cell_type": "code",
   "execution_count": 40,
   "metadata": {
    "colab": {
     "base_uri": "https://localhost:8080/",
     "height": 430
    },
    "id": "4rdMKI72xzLb",
    "outputId": "054957d5-af1f-4e98-8767-bf9ecec64969"
   },
   "outputs": [
    {
     "data": {
      "image/png": "[encoded data removed]",
      "text/plain": [
       "<Figure size 640x480 with 1 Axes>"
      ]
     },
     "metadata": {},
     "output_type": "display_data"
    }
   ],
   "source": [
    "sns.boxplot(df['life_expectancy'])\n",
    "plt.show()"
   ]
  },
  {
   "cell_type": "code",
   "execution_count": 43,
   "metadata": {
    "colab": {
     "base_uri": "https://localhost:8080/",
     "height": 447
    },
    "id": "aoPjyKhhzNpN",
    "outputId": "5935cc2c-4450-48bd-83eb-718842a90f66"
   },
   "outputs": [
    {
     "data": {
      "text/plain": [
       "<Axes: >"
      ]
     },
     "execution_count": 43,
     "metadata": {},
     "output_type": "execute_result"
    },
    {
     "data": {
      "image/png": "[encoded data removed]",
      "text/plain": [
       "<Figure size 640x480 with 1 Axes>"
      ]
     },
     "metadata": {},
     "output_type": "display_data"
    }
   ],
   "source": [
    "sns.boxplot(df['Injury Count'])"
   ]
  },
  {
   "cell_type": "code",
   "execution_count": 44,
   "metadata": {
    "colab": {
     "base_uri": "https://localhost:8080/",
     "height": 447
    },
    "id": "NZBvyY4bzn3x",
    "outputId": "9a900a89-f908-4a68-c1a5-1040af30bb8b"
   },
   "outputs": [
    {
     "data": {
      "text/plain": [
       "<Axes: >"
      ]
     },
     "execution_count": 44,
     "metadata": {},
     "output_type": "execute_result"
    },
    {
     "data": {
      "image/png": "[encoded data removed]",
      "text/plain": [
       "<Figure size 640x480 with 1 Axes>"
      ]
     },
     "metadata": {},
     "output_type": "display_data"
    }
   ],
   "source": [
    "sns.boxplot(df['Mortality'])"
   ]
  },
  {
   "cell_type": "code",
   "execution_count": 45,
   "metadata": {
    "colab": {
     "base_uri": "https://localhost:8080/",
     "height": 462
    },
    "id": "6KqJKgt7zqqz",
    "outputId": "a74d1901-6f1b-4e89-ff9f-28594d0947f3"
   },
   "outputs": [
    {
     "data": {
      "text/plain": [
       "<Axes: >"
      ]
     },
     "execution_count": 45,
     "metadata": {},
     "output_type": "execute_result"
    },
    {
     "data": {
      "image/png": "[encoded data removed]",
      "text/plain": [
       "<Figure size 640x480 with 1 Axes>"
      ]
     },
     "metadata": {},
     "output_type": "display_data"
    }
   ],
   "source": [
    "sns.boxplot(df['Population'])"
   ]
  },
  {
   "cell_type": "code",
   "execution_count": 48,
   "metadata": {
    "id": "cwZ5u7dqzu3J"
   },
   "outputs": [],
   "source": [
    "df1 = df.drop(['Country', 'Year'], axis =1, inplace = True)"
   ]
  },
  {
   "cell_type": "code",
   "execution_count": 173,
   "metadata": {
    "colab": {
     "base_uri": "https://localhost:8080/",
     "height": 461
    },
    "id": "ObCq1iPY0iT1",
    "outputId": "5236b516-a9f1-41cb-bd17-52b55d6a0f78"
   },
   "outputs": [
    {
     "data": {
      "text/html": [
       "\n",
       "  <div id=\"df-7cd25c15-57e3-4a8e-a228-5bef762a3b7b\" class=\"colab-df-container\">\n",
       "    <div>\n",
       "<style scoped>\n",
       "    .dataframe tbody tr th:only-of-type {\n",
       "        vertical-align: middle;\n",
       "    }\n",
       "\n",
       "    .dataframe tbody tr th {\n",
       "        vertical-align: top;\n",
       "    }\n",
       "\n",
       "    .dataframe thead th {\n",
       "        text-align: right;\n",
       "    }\n",
       "</style>\n",
       "<table border=\"1\" class=\"dataframe\">\n",
       "  <thead>\n",
       "    <tr style=\"text-align: right;\">\n",
       "      <th></th>\n",
       "      <th>Hospital_density</th>\n",
       "      <th>gdp</th>\n",
       "      <th>Communicable_disease</th>\n",
       "      <th>Hospital_Expenditure</th>\n",
       "      <th>Total_Health_Expenditure</th>\n",
       "      <th>Injury Count</th>\n",
       "      <th>life_expectancy</th>\n",
       "      <th>Mortality</th>\n",
       "      <th>Population</th>\n",
       "    </tr>\n",
       "  </thead>\n",
       "  <tbody>\n",
       "    <tr>\n",
       "      <th>0</th>\n",
       "      <td>6.648</td>\n",
       "      <td>NaN</td>\n",
       "      <td>35.6</td>\n",
       "      <td>2.987</td>\n",
       "      <td>7.594</td>\n",
       "      <td>138.30</td>\n",
       "      <td>79.2</td>\n",
       "      <td>676.8</td>\n",
       "      <td>19028802.0</td>\n",
       "    </tr>\n",
       "    <tr>\n",
       "      <th>1</th>\n",
       "      <td>6.656</td>\n",
       "      <td>NaN</td>\n",
       "      <td>53.3</td>\n",
       "      <td>3.024</td>\n",
       "      <td>7.678</td>\n",
       "      <td>141.76</td>\n",
       "      <td>79.6</td>\n",
       "      <td>667.5</td>\n",
       "      <td>19274701.0</td>\n",
       "    </tr>\n",
       "    <tr>\n",
       "      <th>2</th>\n",
       "      <td>6.586</td>\n",
       "      <td>NaN</td>\n",
       "      <td>32.2</td>\n",
       "      <td>3.123</td>\n",
       "      <td>7.876</td>\n",
       "      <td>142.60</td>\n",
       "      <td>79.9</td>\n",
       "      <td>682.5</td>\n",
       "      <td>19495210.0</td>\n",
       "    </tr>\n",
       "    <tr>\n",
       "      <th>3</th>\n",
       "      <td>6.521</td>\n",
       "      <td>NaN</td>\n",
       "      <td>29.3</td>\n",
       "      <td>3.157</td>\n",
       "      <td>7.881</td>\n",
       "      <td>143.47</td>\n",
       "      <td>80.2</td>\n",
       "      <td>668.3</td>\n",
       "      <td>19720737.0</td>\n",
       "    </tr>\n",
       "    <tr>\n",
       "      <th>4</th>\n",
       "      <td>6.477</td>\n",
       "      <td>NaN</td>\n",
       "      <td>46.4</td>\n",
       "      <td>3.250</td>\n",
       "      <td>8.087</td>\n",
       "      <td>144.10</td>\n",
       "      <td>80.5</td>\n",
       "      <td>663.8</td>\n",
       "      <td>19932722.0</td>\n",
       "    </tr>\n",
       "    <tr>\n",
       "      <th>...</th>\n",
       "      <td>...</td>\n",
       "      <td>...</td>\n",
       "      <td>...</td>\n",
       "      <td>...</td>\n",
       "      <td>...</td>\n",
       "      <td>...</td>\n",
       "      <td>...</td>\n",
       "      <td>...</td>\n",
       "      <td>...</td>\n",
       "    </tr>\n",
       "    <tr>\n",
       "      <th>892</th>\n",
       "      <td>2.960</td>\n",
       "      <td>NaN</td>\n",
       "      <td>3.0</td>\n",
       "      <td>5.036</td>\n",
       "      <td>7.988</td>\n",
       "      <td>498.50</td>\n",
       "      <td>78.3</td>\n",
       "      <td>1026.4</td>\n",
       "      <td>59636662.0</td>\n",
       "    </tr>\n",
       "    <tr>\n",
       "      <th>893</th>\n",
       "      <td>2.960</td>\n",
       "      <td>NaN</td>\n",
       "      <td>5.5</td>\n",
       "      <td>5.036</td>\n",
       "      <td>9.724</td>\n",
       "      <td>333.00</td>\n",
       "      <td>80.7</td>\n",
       "      <td>872.6</td>\n",
       "      <td>63285145.0</td>\n",
       "    </tr>\n",
       "    <tr>\n",
       "      <th>894</th>\n",
       "      <td>2.960</td>\n",
       "      <td>NaN</td>\n",
       "      <td>4.5</td>\n",
       "      <td>5.036</td>\n",
       "      <td>8.475</td>\n",
       "      <td>434.50</td>\n",
       "      <td>79.3</td>\n",
       "      <td>940.7</td>\n",
       "      <td>60827067.0</td>\n",
       "    </tr>\n",
       "    <tr>\n",
       "      <th>895</th>\n",
       "      <td>2.960</td>\n",
       "      <td>NaN</td>\n",
       "      <td>1.9</td>\n",
       "      <td>5.036</td>\n",
       "      <td>7.413</td>\n",
       "      <td>546.20</td>\n",
       "      <td>78.0</td>\n",
       "      <td>1022.4</td>\n",
       "      <td>59113016.0</td>\n",
       "    </tr>\n",
       "    <tr>\n",
       "      <th>896</th>\n",
       "      <td>1.847</td>\n",
       "      <td>NaN</td>\n",
       "      <td>5.1</td>\n",
       "      <td>5.678</td>\n",
       "      <td>16.634</td>\n",
       "      <td>748.30</td>\n",
       "      <td>76.4</td>\n",
       "      <td>1020.7</td>\n",
       "      <td>333287557.0</td>\n",
       "    </tr>\n",
       "  </tbody>\n",
       "</table>\n",
       "<p>897 rows × 9 columns</p>\n",
       "</div>\n",
       "    <div class=\"colab-df-buttons\">\n",
       "\n",
       "  <div class=\"colab-df-container\">\n",
       "    <button class=\"colab-df-convert\" onclick=\"convertToInteractive('df-7cd25c15-57e3-4a8e-a228-5bef762a3b7b')\"\n",
       "            title=\"Convert this dataframe to an interactive table.\"\n",
       "            style=\"display:none;\">\n",
       "\n",
       "  <svg xmlns=\"http://www.w3.org/2000/svg\" height=\"24px\" viewBox=\"0 -960 960 960\">\n",
       "    <path d=\"M120-120v-720h720v720H120Zm60-500h600v-160H180v160Zm220 220h160v-160H400v160Zm0 220h160v-160H400v160ZM180-400h160v-160H180v160Zm440 0h160v-160H620v160ZM180-180h160v-160H180v160Zm440 0h160v-160H620v160Z\"/>\n",
       "  </svg>\n",
       "    </button>\n",
       "\n",
       "  <style>\n",
       "    .colab-df-container {\n",
       "      display:flex;\n",
       "      gap: 12px;\n",
       "    }\n",
       "\n",
       "    .colab-df-convert {\n",
       "      background-color: #E8F0FE;\n",
       "      border: none;\n",
       "      border-radius: 50%;\n",
       "      cursor: pointer;\n",
       "      display: none;\n",
       "      fill: #1967D2;\n",
       "      height: 32px;\n",
       "      padding: 0 0 0 0;\n",
       "      width: 32px;\n",
       "    }\n",
       "\n",
       "    .colab-df-convert:hover {\n",
       "      background-color: #E2EBFA;\n",
       "      box-shadow: 0px 1px 2px rgba(60, 64, 67, 0.3), 0px 1px 3px 1px rgba(60, 64, 67, 0.15);\n",
       "      fill: #174EA6;\n",
       "    }\n",
       "\n",
       "    .colab-df-buttons div {\n",
       "      margin-bottom: 4px;\n",
       "    }\n",
       "\n",
       "    [theme=dark] .colab-df-convert {\n",
       "      background-color: #3B4455;\n",
       "      fill: #D2E3FC;\n",
       "    }\n",
       "\n",
       "    [theme=dark] .colab-df-convert:hover {\n",
       "      background-color: #434B5C;\n",
       "      box-shadow: 0px 1px 3px 1px rgba(0, 0, 0, 0.15);\n",
       "      filter: drop-shadow(0px 1px 2px rgba(0, 0, 0, 0.3));\n",
       "      fill: #FFFFFF;\n",
       "    }\n",
       "  </style>\n",
       "\n",
       "    <script>\n",
       "      const buttonEl =\n",
       "        document.querySelector('#df-7cd25c15-57e3-4a8e-a228-5bef762a3b7b button.colab-df-convert');\n",
       "      buttonEl.style.display =\n",
       "        google.colab.kernel.accessAllowed ? 'block' : 'none';\n",
       "\n",
       "      async function convertToInteractive(key) {\n",
       "        const element = document.querySelector('#df-7cd25c15-57e3-4a8e-a228-5bef762a3b7b');\n",
       "        const dataTable =\n",
       "          await google.colab.kernel.invokeFunction('convertToInteractive',\n",
       "                                                    [key], {});\n",
       "        if (!dataTable) return;\n",
       "\n",
       "        const docLinkHtml = 'Like what you see? Visit the ' +\n",
       "          '<a target=\"_blank\" href=https://colab.research.google.com/notebooks/data_table.ipynb>data table notebook</a>'\n",
       "          + ' to learn more about interactive tables.';\n",
       "        element.innerHTML = '';\n",
       "        dataTable['output_type'] = 'display_data';\n",
       "        await google.colab.output.renderOutput(dataTable, element);\n",
       "        const docLink = document.createElement('div');\n",
       "        docLink.innerHTML = docLinkHtml;\n",
       "        element.appendChild(docLink);\n",
       "      }\n",
       "    </script>\n",
       "  </div>\n",
       "\n",
       "\n",
       "<div id=\"df-ee4b95f3-2f7c-4791-953f-80119486c929\">\n",
       "  <button class=\"colab-df-quickchart\" onclick=\"quickchart('df-ee4b95f3-2f7c-4791-953f-80119486c929')\"\n",
       "            title=\"Suggest charts\"\n",
       "            style=\"display:none;\">\n",
       "\n",
       "<svg xmlns=\"http://www.w3.org/2000/svg\" height=\"24px\"viewBox=\"0 0 24 24\"\n",
       "     width=\"24px\">\n",
       "    <g>\n",
       "        <path d=\"M19 3H5c-1.1 0-2 .9-2 2v14c0 1.1.9 2 2 2h14c1.1 0 2-.9 2-2V5c0-1.1-.9-2-2-2zM9 17H7v-7h2v7zm4 0h-2V7h2v10zm4 0h-2v-4h2v4z\"/>\n",
       "    </g>\n",
       "</svg>\n",
       "  </button>\n",
       "\n",
       "<style>\n",
       "  .colab-df-quickchart {\n",
       "      --bg-color: #E8F0FE;\n",
       "      --fill-color: #1967D2;\n",
       "      --hover-bg-color: #E2EBFA;\n",
       "      --hover-fill-color: #174EA6;\n",
       "      --disabled-fill-color: #AAA;\n",
       "      --disabled-bg-color: #DDD;\n",
       "  }\n",
       "\n",
       "  [theme=dark] .colab-df-quickchart {\n",
       "      --bg-color: #3B4455;\n",
       "      --fill-color: #D2E3FC;\n",
       "      --hover-bg-color: #434B5C;\n",
       "      --hover-fill-color: #FFFFFF;\n",
       "      --disabled-bg-color: #3B4455;\n",
       "      --disabled-fill-color: #666;\n",
       "  }\n",
       "\n",
       "  .colab-df-quickchart {\n",
       "    background-color: var(--bg-color);\n",
       "    border: none;\n",
       "    border-radius: 50%;\n",
       "    cursor: pointer;\n",
       "    display: none;\n",
       "    fill: var(--fill-color);\n",
       "    height: 32px;\n",
       "    padding: 0;\n",
       "    width: 32px;\n",
       "  }\n",
       "\n",
       "  .colab-df-quickchart:hover {\n",
       "    background-color: var(--hover-bg-color);\n",
       "    box-shadow: 0 1px 2px rgba(60, 64, 67, 0.3), 0 1px 3px 1px rgba(60, 64, 67, 0.15);\n",
       "    fill: var(--button-hover-fill-color);\n",
       "  }\n",
       "\n",
       "  .colab-df-quickchart-complete:disabled,\n",
       "  .colab-df-quickchart-complete:disabled:hover {\n",
       "    background-color: var(--disabled-bg-color);\n",
       "    fill: var(--disabled-fill-color);\n",
       "    box-shadow: none;\n",
       "  }\n",
       "\n",
       "  .colab-df-spinner {\n",
       "    border: 2px solid var(--fill-color);\n",
       "    border-color: transparent;\n",
       "    border-bottom-color: var(--fill-color);\n",
       "    animation:\n",
       "      spin 1s steps(1) infinite;\n",
       "  }\n",
       "\n",
       "  @keyframes spin {\n",
       "    0% {\n",
       "      border-color: transparent;\n",
       "      border-bottom-color: var(--fill-color);\n",
       "      border-left-color: var(--fill-color);\n",
       "    }\n",
       "    20% {\n",
       "      border-color: transparent;\n",
       "      border-left-color: var(--fill-color);\n",
       "      border-top-color: var(--fill-color);\n",
       "    }\n",
       "    30% {\n",
       "      border-color: transparent;\n",
       "      border-left-color: var(--fill-color);\n",
       "      border-top-color: var(--fill-color);\n",
       "      border-right-color: var(--fill-color);\n",
       "    }\n",
       "    40% {\n",
       "      border-color: transparent;\n",
       "      border-right-color: var(--fill-color);\n",
       "      border-top-color: var(--fill-color);\n",
       "    }\n",
       "    60% {\n",
       "      border-color: transparent;\n",
       "      border-right-color: var(--fill-color);\n",
       "    }\n",
       "    80% {\n",
       "      border-color: transparent;\n",
       "      border-right-color: var(--fill-color);\n",
       "      border-bottom-color: var(--fill-color);\n",
       "    }\n",
       "    90% {\n",
       "      border-color: transparent;\n",
       "      border-bottom-color: var(--fill-color);\n",
       "    }\n",
       "  }\n",
       "</style>\n",
       "\n",
       "  <script>\n",
       "    async function quickchart(key) {\n",
       "      const quickchartButtonEl =\n",
       "        document.querySelector('#' + key + ' button');\n",
       "      quickchartButtonEl.disabled = true;  // To prevent multiple clicks.\n",
       "      quickchartButtonEl.classList.add('colab-df-spinner');\n",
       "      try {\n",
       "        const charts = await google.colab.kernel.invokeFunction(\n",
       "            'suggestCharts', [key], {});\n",
       "      } catch (error) {\n",
       "        console.error('Error during call to suggestCharts:', error);\n",
       "      }\n",
       "      quickchartButtonEl.classList.remove('colab-df-spinner');\n",
       "      quickchartButtonEl.classList.add('colab-df-quickchart-complete');\n",
       "    }\n",
       "    (() => {\n",
       "      let quickchartButtonEl =\n",
       "        document.querySelector('#df-ee4b95f3-2f7c-4791-953f-80119486c929 button');\n",
       "      quickchartButtonEl.style.display =\n",
       "        google.colab.kernel.accessAllowed ? 'block' : 'none';\n",
       "    })();\n",
       "  </script>\n",
       "</div>\n",
       "    </div>\n",
       "  </div>\n"
      ],
      "text/plain": [
       "     Hospital_density  gdp  Communicable_disease  Hospital_Expenditure  \\\n",
       "0               6.648  NaN                  35.6                 2.987   \n",
       "1               6.656  NaN                  53.3                 3.024   \n",
       "2               6.586  NaN                  32.2                 3.123   \n",
       "3               6.521  NaN                  29.3                 3.157   \n",
       "4               6.477  NaN                  46.4                 3.250   \n",
       "..                ...  ...                   ...                   ...   \n",
       "892             2.960  NaN                   3.0                 5.036   \n",
       "893             2.960  NaN                   5.5                 5.036   \n",
       "894             2.960  NaN                   4.5                 5.036   \n",
       "895             2.960  NaN                   1.9                 5.036   \n",
       "896             1.847  NaN                   5.1                 5.678   \n",
       "\n",
       "     Total_Health_Expenditure  Injury Count  life_expectancy  Mortality  \\\n",
       "0                       7.594        138.30             79.2      676.8   \n",
       "1                       7.678        141.76             79.6      667.5   \n",
       "2                       7.876        142.60             79.9      682.5   \n",
       "3                       7.881        143.47             80.2      668.3   \n",
       "4                       8.087        144.10             80.5      663.8   \n",
       "..                        ...           ...              ...        ...   \n",
       "892                     7.988        498.50             78.3     1026.4   \n",
       "893                     9.724        333.00             80.7      872.6   \n",
       "894                     8.475        434.50             79.3      940.7   \n",
       "895                     7.413        546.20             78.0     1022.4   \n",
       "896                    16.634        748.30             76.4     1020.7   \n",
       "\n",
       "      Population  \n",
       "0     19028802.0  \n",
       "1     19274701.0  \n",
       "2     19495210.0  \n",
       "3     19720737.0  \n",
       "4     19932722.0  \n",
       "..           ...  \n",
       "892   59636662.0  \n",
       "893   63285145.0  \n",
       "894   60827067.0  \n",
       "895   59113016.0  \n",
       "896  333287557.0  \n",
       "\n",
       "[897 rows x 9 columns]"
      ]
     },
     "execution_count": 173,
     "metadata": {},
     "output_type": "execute_result"
    }
   ],
   "source": [
    "#remove outliers\n",
    "lower_percentile = 5\n",
    "upper_percentile = 95\n",
    "lower_bound = np.percentile(df, lower_percentile)\n",
    "upper_bound = np.percentile(df, upper_percentile)\n",
    "df_new = df[(df >= lower_bound) & (df <= upper_bound)]\n",
    "df_new"
   ]
  },
  {
   "cell_type": "code",
   "execution_count": 68,
   "metadata": {
    "colab": {
     "base_uri": "https://localhost:8080/"
    },
    "id": "4aA6yEYD1OO4",
    "outputId": "46f5fb18-6eb8-41bc-f3f4-2c7ac93d3318"
   },
   "outputs": [
    {
     "name": "stdout",
     "output_type": "stream",
     "text": [
      "<class 'pandas.core.frame.DataFrame'>\n",
      "RangeIndex: 897 entries, 0 to 896\n",
      "Data columns (total 9 columns):\n",
      " #   Column                    Non-Null Count  Dtype  \n",
      "---  ------                    --------------  -----  \n",
      " 0   Hospital_density          723 non-null    float64\n",
      " 1   gdp                       493 non-null    float64\n",
      " 2   Communicable_disease      712 non-null    float64\n",
      " 3   Hospital_Expenditure      852 non-null    float64\n",
      " 4   Total_Health_Expenditure  897 non-null    float64\n",
      " 5   Injury Count              897 non-null    float64\n",
      " 6   life_expectancy           897 non-null    float64\n",
      " 7   Mortality                 897 non-null    float64\n",
      " 8   Population                897 non-null    float64\n",
      "dtypes: float64(9)\n",
      "memory usage: 63.2 KB\n"
     ]
    }
   ],
   "source": [
    "df_new.info()"
   ]
  },
  {
   "cell_type": "code",
   "execution_count": 174,
   "metadata": {
    "colab": {
     "base_uri": "https://localhost:8080/"
    },
    "id": "xFRn715U2BX0",
    "outputId": "4f437fa3-7950-45c4-eec3-8ba9474a3a39"
   },
   "outputs": [
    {
     "data": {
      "text/plain": [
       "Hospital_density            174\n",
       "gdp                         404\n",
       "Communicable_disease        185\n",
       "Hospital_Expenditure         45\n",
       "Total_Health_Expenditure      0\n",
       "Injury Count                  0\n",
       "life_expectancy               0\n",
       "Mortality                     0\n",
       "Population                    0\n",
       "dtype: int64"
      ]
     },
     "execution_count": 174,
     "metadata": {},
     "output_type": "execute_result"
    }
   ],
   "source": [
    "#fill in missing values\n",
    "df_new.isna().sum()"
   ]
  },
  {
   "cell_type": "code",
   "execution_count": 85,
   "metadata": {
    "colab": {
     "base_uri": "https://localhost:8080/"
    },
    "id": "K4Sf491z2K8k",
    "outputId": "75755184-1ed7-4f96-9130-dc0ea2097929"
   },
   "outputs": [
    {
     "data": {
      "text/plain": [
       "3.381"
      ]
     },
     "execution_count": 85,
     "metadata": {},
     "output_type": "execute_result"
    }
   ],
   "source": [
    "round(df_new['Hospital_density'].mean(), 3)\n",
    "round(df_new['gdp'].mean(), 0)\n",
    "round(df_new['Communicable_disease'].mean(), 1)\n",
    "round(df_new['Hospital_Expenditure'].mean(), 3)"
   ]
  },
  {
   "cell_type": "code",
   "execution_count": 91,
   "metadata": {
    "id": "f-YiDOuE40uL"
   },
   "outputs": [],
   "source": [
    "df_new['Hospital_density'].fillna(round(df_new['Hospital_density'].mean(), 3), inplace = True)\n",
    "df_new['gdp'].fillna(round(df_new['gdp'].mean(), 0), inplace = True)\n",
    "df_new['Communicable_disease'].fillna(round(df_new['Communicable_disease'].mean(), 1), inplace = True)\n",
    "df_new['Hospital_Expenditure'].fillna(round(df_new['Hospital_Expenditure'].mean(), 3), inplace = True)"
   ]
  },
  {
   "cell_type": "code",
   "execution_count": 92,
   "metadata": {
    "colab": {
     "base_uri": "https://localhost:8080/"
    },
    "id": "xlEQEtqZ55MA",
    "outputId": "00f7cb5d-8e6a-4a16-b9bb-06fb51a68a08"
   },
   "outputs": [
    {
     "data": {
      "text/plain": [
       "Hospital_density            0\n",
       "gdp                         0\n",
       "Communicable_disease        0\n",
       "Hospital_Expenditure        0\n",
       "Total_Health_Expenditure    0\n",
       "Injury Count                0\n",
       "life_expectancy             0\n",
       "Mortality                   0\n",
       "Population                  0\n",
       "dtype: int64"
      ]
     },
     "execution_count": 92,
     "metadata": {},
     "output_type": "execute_result"
    }
   ],
   "source": [
    "df_new.isna().sum()"
   ]
  },
  {
   "cell_type": "code",
   "execution_count": 175,
   "metadata": {
    "colab": {
     "base_uri": "https://localhost:8080/",
     "height": 369
    },
    "id": "O1NoZVVtBPpf",
    "outputId": "829f8cee-8e1b-4462-816f-5381da59585b"
   },
   "outputs": [
    {
     "data": {
      "text/html": [
       "\n",
       "  <div id=\"df-7fd85512-0f9e-434d-84b0-89b83e25cc5d\" class=\"colab-df-container\">\n",
       "    <div>\n",
       "<style scoped>\n",
       "    .dataframe tbody tr th:only-of-type {\n",
       "        vertical-align: middle;\n",
       "    }\n",
       "\n",
       "    .dataframe tbody tr th {\n",
       "        vertical-align: top;\n",
       "    }\n",
       "\n",
       "    .dataframe thead th {\n",
       "        text-align: right;\n",
       "    }\n",
       "</style>\n",
       "<table border=\"1\" class=\"dataframe\">\n",
       "  <thead>\n",
       "    <tr style=\"text-align: right;\">\n",
       "      <th></th>\n",
       "      <th>Hospital_density</th>\n",
       "      <th>gdp</th>\n",
       "      <th>Communicable_disease</th>\n",
       "      <th>Hospital_Expenditure</th>\n",
       "      <th>Total_Health_Expenditure</th>\n",
       "      <th>Injury Count</th>\n",
       "      <th>life_expectancy</th>\n",
       "      <th>Mortality</th>\n",
       "      <th>Population</th>\n",
       "    </tr>\n",
       "  </thead>\n",
       "  <tbody>\n",
       "    <tr>\n",
       "      <th>Hospital_density</th>\n",
       "      <td>1.000000</td>\n",
       "      <td>0.158936</td>\n",
       "      <td>0.087251</td>\n",
       "      <td>0.593288</td>\n",
       "      <td>-0.082615</td>\n",
       "      <td>-0.095095</td>\n",
       "      <td>-0.117376</td>\n",
       "      <td>-0.285770</td>\n",
       "      <td>0.015303</td>\n",
       "    </tr>\n",
       "    <tr>\n",
       "      <th>gdp</th>\n",
       "      <td>0.158936</td>\n",
       "      <td>1.000000</td>\n",
       "      <td>0.077151</td>\n",
       "      <td>0.375979</td>\n",
       "      <td>0.404814</td>\n",
       "      <td>0.003376</td>\n",
       "      <td>0.324883</td>\n",
       "      <td>-0.262347</td>\n",
       "      <td>0.490515</td>\n",
       "    </tr>\n",
       "    <tr>\n",
       "      <th>Communicable_disease</th>\n",
       "      <td>0.087251</td>\n",
       "      <td>0.077151</td>\n",
       "      <td>1.000000</td>\n",
       "      <td>0.006419</td>\n",
       "      <td>0.056241</td>\n",
       "      <td>0.063920</td>\n",
       "      <td>0.124787</td>\n",
       "      <td>-0.140811</td>\n",
       "      <td>-0.049538</td>\n",
       "    </tr>\n",
       "    <tr>\n",
       "      <th>Hospital_Expenditure</th>\n",
       "      <td>0.593288</td>\n",
       "      <td>0.375979</td>\n",
       "      <td>0.006419</td>\n",
       "      <td>1.000000</td>\n",
       "      <td>0.544204</td>\n",
       "      <td>0.154273</td>\n",
       "      <td>0.293074</td>\n",
       "      <td>-0.274752</td>\n",
       "      <td>0.371781</td>\n",
       "    </tr>\n",
       "    <tr>\n",
       "      <th>Total_Health_Expenditure</th>\n",
       "      <td>-0.082615</td>\n",
       "      <td>0.404814</td>\n",
       "      <td>0.056241</td>\n",
       "      <td>0.544204</td>\n",
       "      <td>1.000000</td>\n",
       "      <td>0.326098</td>\n",
       "      <td>0.538798</td>\n",
       "      <td>-0.003324</td>\n",
       "      <td>0.480633</td>\n",
       "    </tr>\n",
       "    <tr>\n",
       "      <th>Injury Count</th>\n",
       "      <td>-0.095095</td>\n",
       "      <td>0.003376</td>\n",
       "      <td>0.063920</td>\n",
       "      <td>0.154273</td>\n",
       "      <td>0.326098</td>\n",
       "      <td>1.000000</td>\n",
       "      <td>0.248627</td>\n",
       "      <td>-0.203022</td>\n",
       "      <td>0.373117</td>\n",
       "    </tr>\n",
       "    <tr>\n",
       "      <th>life_expectancy</th>\n",
       "      <td>-0.117376</td>\n",
       "      <td>0.324883</td>\n",
       "      <td>0.124787</td>\n",
       "      <td>0.293074</td>\n",
       "      <td>0.538798</td>\n",
       "      <td>0.248627</td>\n",
       "      <td>1.000000</td>\n",
       "      <td>-0.375352</td>\n",
       "      <td>0.032228</td>\n",
       "    </tr>\n",
       "    <tr>\n",
       "      <th>Mortality</th>\n",
       "      <td>-0.285770</td>\n",
       "      <td>-0.262347</td>\n",
       "      <td>-0.140811</td>\n",
       "      <td>-0.274752</td>\n",
       "      <td>-0.003324</td>\n",
       "      <td>-0.203022</td>\n",
       "      <td>-0.375352</td>\n",
       "      <td>1.000000</td>\n",
       "      <td>-0.159901</td>\n",
       "    </tr>\n",
       "    <tr>\n",
       "      <th>Population</th>\n",
       "      <td>0.015303</td>\n",
       "      <td>0.490515</td>\n",
       "      <td>-0.049538</td>\n",
       "      <td>0.371781</td>\n",
       "      <td>0.480633</td>\n",
       "      <td>0.373117</td>\n",
       "      <td>0.032228</td>\n",
       "      <td>-0.159901</td>\n",
       "      <td>1.000000</td>\n",
       "    </tr>\n",
       "  </tbody>\n",
       "</table>\n",
       "</div>\n",
       "    <div class=\"colab-df-buttons\">\n",
       "\n",
       "  <div class=\"colab-df-container\">\n",
       "    <button class=\"colab-df-convert\" onclick=\"convertToInteractive('df-7fd85512-0f9e-434d-84b0-89b83e25cc5d')\"\n",
       "            title=\"Convert this dataframe to an interactive table.\"\n",
       "            style=\"display:none;\">\n",
       "\n",
       "  <svg xmlns=\"http://www.w3.org/2000/svg\" height=\"24px\" viewBox=\"0 -960 960 960\">\n",
       "    <path d=\"M120-120v-720h720v720H120Zm60-500h600v-160H180v160Zm220 220h160v-160H400v160Zm0 220h160v-160H400v160ZM180-400h160v-160H180v160Zm440 0h160v-160H620v160ZM180-180h160v-160H180v160Zm440 0h160v-160H620v160Z\"/>\n",
       "  </svg>\n",
       "    </button>\n",
       "\n",
       "  <style>\n",
       "    .colab-df-container {\n",
       "      display:flex;\n",
       "      gap: 12px;\n",
       "    }\n",
       "\n",
       "    .colab-df-convert {\n",
       "      background-color: #E8F0FE;\n",
       "      border: none;\n",
       "      border-radius: 50%;\n",
       "      cursor: pointer;\n",
       "      display: none;\n",
       "      fill: #1967D2;\n",
       "      height: 32px;\n",
       "      padding: 0 0 0 0;\n",
       "      width: 32px;\n",
       "    }\n",
       "\n",
       "    .colab-df-convert:hover {\n",
       "      background-color: #E2EBFA;\n",
       "      box-shadow: 0px 1px 2px rgba(60, 64, 67, 0.3), 0px 1px 3px 1px rgba(60, 64, 67, 0.15);\n",
       "      fill: #174EA6;\n",
       "    }\n",
       "\n",
       "    .colab-df-buttons div {\n",
       "      margin-bottom: 4px;\n",
       "    }\n",
       "\n",
       "    [theme=dark] .colab-df-convert {\n",
       "      background-color: #3B4455;\n",
       "      fill: #D2E3FC;\n",
       "    }\n",
       "\n",
       "    [theme=dark] .colab-df-convert:hover {\n",
       "      background-color: #434B5C;\n",
       "      box-shadow: 0px 1px 3px 1px rgba(0, 0, 0, 0.15);\n",
       "      filter: drop-shadow(0px 1px 2px rgba(0, 0, 0, 0.3));\n",
       "      fill: #FFFFFF;\n",
       "    }\n",
       "  </style>\n",
       "\n",
       "    <script>\n",
       "      const buttonEl =\n",
       "        document.querySelector('#df-7fd85512-0f9e-434d-84b0-89b83e25cc5d button.colab-df-convert');\n",
       "      buttonEl.style.display =\n",
       "        google.colab.kernel.accessAllowed ? 'block' : 'none';\n",
       "\n",
       "      async function convertToInteractive(key) {\n",
       "        const element = document.querySelector('#df-7fd85512-0f9e-434d-84b0-89b83e25cc5d');\n",
       "        const dataTable =\n",
       "          await google.colab.kernel.invokeFunction('convertToInteractive',\n",
       "                                                    [key], {});\n",
       "        if (!dataTable) return;\n",
       "\n",
       "        const docLinkHtml = 'Like what you see? Visit the ' +\n",
       "          '<a target=\"_blank\" href=https://colab.research.google.com/notebooks/data_table.ipynb>data table notebook</a>'\n",
       "          + ' to learn more about interactive tables.';\n",
       "        element.innerHTML = '';\n",
       "        dataTable['output_type'] = 'display_data';\n",
       "        await google.colab.output.renderOutput(dataTable, element);\n",
       "        const docLink = document.createElement('div');\n",
       "        docLink.innerHTML = docLinkHtml;\n",
       "        element.appendChild(docLink);\n",
       "      }\n",
       "    </script>\n",
       "  </div>\n",
       "\n",
       "\n",
       "<div id=\"df-c99a2443-34de-4e15-b570-18f877b728ba\">\n",
       "  <button class=\"colab-df-quickchart\" onclick=\"quickchart('df-c99a2443-34de-4e15-b570-18f877b728ba')\"\n",
       "            title=\"Suggest charts\"\n",
       "            style=\"display:none;\">\n",
       "\n",
       "<svg xmlns=\"http://www.w3.org/2000/svg\" height=\"24px\"viewBox=\"0 0 24 24\"\n",
       "     width=\"24px\">\n",
       "    <g>\n",
       "        <path d=\"M19 3H5c-1.1 0-2 .9-2 2v14c0 1.1.9 2 2 2h14c1.1 0 2-.9 2-2V5c0-1.1-.9-2-2-2zM9 17H7v-7h2v7zm4 0h-2V7h2v10zm4 0h-2v-4h2v4z\"/>\n",
       "    </g>\n",
       "</svg>\n",
       "  </button>\n",
       "\n",
       "<style>\n",
       "  .colab-df-quickchart {\n",
       "      --bg-color: #E8F0FE;\n",
       "      --fill-color: #1967D2;\n",
       "      --hover-bg-color: #E2EBFA;\n",
       "      --hover-fill-color: #174EA6;\n",
       "      --disabled-fill-color: #AAA;\n",
       "      --disabled-bg-color: #DDD;\n",
       "  }\n",
       "\n",
       "  [theme=dark] .colab-df-quickchart {\n",
       "      --bg-color: #3B4455;\n",
       "      --fill-color: #D2E3FC;\n",
       "      --hover-bg-color: #434B5C;\n",
       "      --hover-fill-color: #FFFFFF;\n",
       "      --disabled-bg-color: #3B4455;\n",
       "      --disabled-fill-color: #666;\n",
       "  }\n",
       "\n",
       "  .colab-df-quickchart {\n",
       "    background-color: var(--bg-color);\n",
       "    border: none;\n",
       "    border-radius: 50%;\n",
       "    cursor: pointer;\n",
       "    display: none;\n",
       "    fill: var(--fill-color);\n",
       "    height: 32px;\n",
       "    padding: 0;\n",
       "    width: 32px;\n",
       "  }\n",
       "\n",
       "  .colab-df-quickchart:hover {\n",
       "    background-color: var(--hover-bg-color);\n",
       "    box-shadow: 0 1px 2px rgba(60, 64, 67, 0.3), 0 1px 3px 1px rgba(60, 64, 67, 0.15);\n",
       "    fill: var(--button-hover-fill-color);\n",
       "  }\n",
       "\n",
       "  .colab-df-quickchart-complete:disabled,\n",
       "  .colab-df-quickchart-complete:disabled:hover {\n",
       "    background-color: var(--disabled-bg-color);\n",
       "    fill: var(--disabled-fill-color);\n",
       "    box-shadow: none;\n",
       "  }\n",
       "\n",
       "  .colab-df-spinner {\n",
       "    border: 2px solid var(--fill-color);\n",
       "    border-color: transparent;\n",
       "    border-bottom-color: var(--fill-color);\n",
       "    animation:\n",
       "      spin 1s steps(1) infinite;\n",
       "  }\n",
       "\n",
       "  @keyframes spin {\n",
       "    0% {\n",
       "      border-color: transparent;\n",
       "      border-bottom-color: var(--fill-color);\n",
       "      border-left-color: var(--fill-color);\n",
       "    }\n",
       "    20% {\n",
       "      border-color: transparent;\n",
       "      border-left-color: var(--fill-color);\n",
       "      border-top-color: var(--fill-color);\n",
       "    }\n",
       "    30% {\n",
       "      border-color: transparent;\n",
       "      border-left-color: var(--fill-color);\n",
       "      border-top-color: var(--fill-color);\n",
       "      border-right-color: var(--fill-color);\n",
       "    }\n",
       "    40% {\n",
       "      border-color: transparent;\n",
       "      border-right-color: var(--fill-color);\n",
       "      border-top-color: var(--fill-color);\n",
       "    }\n",
       "    60% {\n",
       "      border-color: transparent;\n",
       "      border-right-color: var(--fill-color);\n",
       "    }\n",
       "    80% {\n",
       "      border-color: transparent;\n",
       "      border-right-color: var(--fill-color);\n",
       "      border-bottom-color: var(--fill-color);\n",
       "    }\n",
       "    90% {\n",
       "      border-color: transparent;\n",
       "      border-bottom-color: var(--fill-color);\n",
       "    }\n",
       "  }\n",
       "</style>\n",
       "\n",
       "  <script>\n",
       "    async function quickchart(key) {\n",
       "      const quickchartButtonEl =\n",
       "        document.querySelector('#' + key + ' button');\n",
       "      quickchartButtonEl.disabled = true;  // To prevent multiple clicks.\n",
       "      quickchartButtonEl.classList.add('colab-df-spinner');\n",
       "      try {\n",
       "        const charts = await google.colab.kernel.invokeFunction(\n",
       "            'suggestCharts', [key], {});\n",
       "      } catch (error) {\n",
       "        console.error('Error during call to suggestCharts:', error);\n",
       "      }\n",
       "      quickchartButtonEl.classList.remove('colab-df-spinner');\n",
       "      quickchartButtonEl.classList.add('colab-df-quickchart-complete');\n",
       "    }\n",
       "    (() => {\n",
       "      let quickchartButtonEl =\n",
       "        document.querySelector('#df-c99a2443-34de-4e15-b570-18f877b728ba button');\n",
       "      quickchartButtonEl.style.display =\n",
       "        google.colab.kernel.accessAllowed ? 'block' : 'none';\n",
       "    })();\n",
       "  </script>\n",
       "</div>\n",
       "    </div>\n",
       "  </div>\n"
      ],
      "text/plain": [
       "                          Hospital_density       gdp  Communicable_disease  \\\n",
       "Hospital_density                  1.000000  0.158936              0.087251   \n",
       "gdp                               0.158936  1.000000              0.077151   \n",
       "Communicable_disease              0.087251  0.077151              1.000000   \n",
       "Hospital_Expenditure              0.593288  0.375979              0.006419   \n",
       "Total_Health_Expenditure         -0.082615  0.404814              0.056241   \n",
       "Injury Count                     -0.095095  0.003376              0.063920   \n",
       "life_expectancy                  -0.117376  0.324883              0.124787   \n",
       "Mortality                        -0.285770 -0.262347             -0.140811   \n",
       "Population                        0.015303  0.490515             -0.049538   \n",
       "\n",
       "                          Hospital_Expenditure  Total_Health_Expenditure  \\\n",
       "Hospital_density                      0.593288                 -0.082615   \n",
       "gdp                                   0.375979                  0.404814   \n",
       "Communicable_disease                  0.006419                  0.056241   \n",
       "Hospital_Expenditure                  1.000000                  0.544204   \n",
       "Total_Health_Expenditure              0.544204                  1.000000   \n",
       "Injury Count                          0.154273                  0.326098   \n",
       "life_expectancy                       0.293074                  0.538798   \n",
       "Mortality                            -0.274752                 -0.003324   \n",
       "Population                            0.371781                  0.480633   \n",
       "\n",
       "                          Injury Count  life_expectancy  Mortality  Population  \n",
       "Hospital_density             -0.095095        -0.117376  -0.285770    0.015303  \n",
       "gdp                           0.003376         0.324883  -0.262347    0.490515  \n",
       "Communicable_disease          0.063920         0.124787  -0.140811   -0.049538  \n",
       "Hospital_Expenditure          0.154273         0.293074  -0.274752    0.371781  \n",
       "Total_Health_Expenditure      0.326098         0.538798  -0.003324    0.480633  \n",
       "Injury Count                  1.000000         0.248627  -0.203022    0.373117  \n",
       "life_expectancy               0.248627         1.000000  -0.375352    0.032228  \n",
       "Mortality                    -0.203022        -0.375352   1.000000   -0.159901  \n",
       "Population                    0.373117         0.032228  -0.159901    1.000000  "
      ]
     },
     "execution_count": 175,
     "metadata": {},
     "output_type": "execute_result"
    }
   ],
   "source": [
    "#correlation matrix\n",
    "df_new.corr()"
   ]
  },
  {
   "cell_type": "code",
   "execution_count": 176,
   "metadata": {
    "colab": {
     "base_uri": "https://localhost:8080/"
    },
    "id": "SIJRCH7l6o8B",
    "outputId": "29707151-da31-4b1c-8cdc-29332aeb1c47"
   },
   "outputs": [
    {
     "data": {
      "text/plain": [
       "Hospital_density            1.000000\n",
       "Hospital_Expenditure        0.500842\n",
       "Communicable_disease        0.089968\n",
       "Population                  0.074867\n",
       "gdp                        -0.021798\n",
       "Total_Health_Expenditure   -0.069142\n",
       "Injury Count               -0.081538\n",
       "life_expectancy            -0.167741\n",
       "Mortality                  -0.202806\n",
       "Name: Hospital_density, dtype: float64"
      ]
     },
     "execution_count": 176,
     "metadata": {},
     "output_type": "execute_result"
    }
   ],
   "source": [
    "#correlation with target variable\n",
    "df.corr()['Hospital_density'].sort_values(ascending = False)"
   ]
  },
  {
   "cell_type": "code",
   "execution_count": 180,
   "metadata": {
    "colab": {
     "base_uri": "https://localhost:8080/",
     "height": 338
    },
    "id": "O-QVPptQ_sh-",
    "outputId": "4911e48d-62ae-48ec-9979-6d11d29e7d91"
   },
   "outputs": [
    {
     "data": {
      "text/html": [
       "\n",
       "  <div id=\"df-0b33c4fb-d13c-4746-8ea5-f9a1d6ae9ea6\" class=\"colab-df-container\">\n",
       "    <div>\n",
       "<style scoped>\n",
       "    .dataframe tbody tr th:only-of-type {\n",
       "        vertical-align: middle;\n",
       "    }\n",
       "\n",
       "    .dataframe tbody tr th {\n",
       "        vertical-align: top;\n",
       "    }\n",
       "\n",
       "    .dataframe thead th {\n",
       "        text-align: right;\n",
       "    }\n",
       "</style>\n",
       "<table border=\"1\" class=\"dataframe\">\n",
       "  <thead>\n",
       "    <tr style=\"text-align: right;\">\n",
       "      <th></th>\n",
       "      <th>Hospital_density</th>\n",
       "      <th>Communicable_disease</th>\n",
       "      <th>Hospital_Expenditure</th>\n",
       "      <th>Total_Health_Expenditure</th>\n",
       "      <th>Injury Count</th>\n",
       "      <th>life_expectancy</th>\n",
       "      <th>Mortality</th>\n",
       "      <th>Population</th>\n",
       "    </tr>\n",
       "  </thead>\n",
       "  <tbody>\n",
       "    <tr>\n",
       "      <th>Hospital_density</th>\n",
       "      <td>1.000000</td>\n",
       "      <td>0.087251</td>\n",
       "      <td>0.593288</td>\n",
       "      <td>-0.082615</td>\n",
       "      <td>-0.095095</td>\n",
       "      <td>-0.117376</td>\n",
       "      <td>-0.285770</td>\n",
       "      <td>0.015303</td>\n",
       "    </tr>\n",
       "    <tr>\n",
       "      <th>Communicable_disease</th>\n",
       "      <td>0.087251</td>\n",
       "      <td>1.000000</td>\n",
       "      <td>0.006419</td>\n",
       "      <td>0.056241</td>\n",
       "      <td>0.063920</td>\n",
       "      <td>0.124787</td>\n",
       "      <td>-0.140811</td>\n",
       "      <td>-0.049538</td>\n",
       "    </tr>\n",
       "    <tr>\n",
       "      <th>Hospital_Expenditure</th>\n",
       "      <td>0.593288</td>\n",
       "      <td>0.006419</td>\n",
       "      <td>1.000000</td>\n",
       "      <td>0.544204</td>\n",
       "      <td>0.154273</td>\n",
       "      <td>0.293074</td>\n",
       "      <td>-0.274752</td>\n",
       "      <td>0.371781</td>\n",
       "    </tr>\n",
       "    <tr>\n",
       "      <th>Total_Health_Expenditure</th>\n",
       "      <td>-0.082615</td>\n",
       "      <td>0.056241</td>\n",
       "      <td>0.544204</td>\n",
       "      <td>1.000000</td>\n",
       "      <td>0.326098</td>\n",
       "      <td>0.538798</td>\n",
       "      <td>-0.003324</td>\n",
       "      <td>0.480633</td>\n",
       "    </tr>\n",
       "    <tr>\n",
       "      <th>Injury Count</th>\n",
       "      <td>-0.095095</td>\n",
       "      <td>0.063920</td>\n",
       "      <td>0.154273</td>\n",
       "      <td>0.326098</td>\n",
       "      <td>1.000000</td>\n",
       "      <td>0.248627</td>\n",
       "      <td>-0.203022</td>\n",
       "      <td>0.373117</td>\n",
       "    </tr>\n",
       "    <tr>\n",
       "      <th>life_expectancy</th>\n",
       "      <td>-0.117376</td>\n",
       "      <td>0.124787</td>\n",
       "      <td>0.293074</td>\n",
       "      <td>0.538798</td>\n",
       "      <td>0.248627</td>\n",
       "      <td>1.000000</td>\n",
       "      <td>-0.375352</td>\n",
       "      <td>0.032228</td>\n",
       "    </tr>\n",
       "    <tr>\n",
       "      <th>Mortality</th>\n",
       "      <td>-0.285770</td>\n",
       "      <td>-0.140811</td>\n",
       "      <td>-0.274752</td>\n",
       "      <td>-0.003324</td>\n",
       "      <td>-0.203022</td>\n",
       "      <td>-0.375352</td>\n",
       "      <td>1.000000</td>\n",
       "      <td>-0.159901</td>\n",
       "    </tr>\n",
       "    <tr>\n",
       "      <th>Population</th>\n",
       "      <td>0.015303</td>\n",
       "      <td>-0.049538</td>\n",
       "      <td>0.371781</td>\n",
       "      <td>0.480633</td>\n",
       "      <td>0.373117</td>\n",
       "      <td>0.032228</td>\n",
       "      <td>-0.159901</td>\n",
       "      <td>1.000000</td>\n",
       "    </tr>\n",
       "  </tbody>\n",
       "</table>\n",
       "</div>\n",
       "    <div class=\"colab-df-buttons\">\n",
       "\n",
       "  <div class=\"colab-df-container\">\n",
       "    <button class=\"colab-df-convert\" onclick=\"convertToInteractive('df-0b33c4fb-d13c-4746-8ea5-f9a1d6ae9ea6')\"\n",
       "            title=\"Convert this dataframe to an interactive table.\"\n",
       "            style=\"display:none;\">\n",
       "\n",
       "  <svg xmlns=\"http://www.w3.org/2000/svg\" height=\"24px\" viewBox=\"0 -960 960 960\">\n",
       "    <path d=\"M120-120v-720h720v720H120Zm60-500h600v-160H180v160Zm220 220h160v-160H400v160Zm0 220h160v-160H400v160ZM180-400h160v-160H180v160Zm440 0h160v-160H620v160ZM180-180h160v-160H180v160Zm440 0h160v-160H620v160Z\"/>\n",
       "  </svg>\n",
       "    </button>\n",
       "\n",
       "  <style>\n",
       "    .colab-df-container {\n",
       "      display:flex;\n",
       "      gap: 12px;\n",
       "    }\n",
       "\n",
       "    .colab-df-convert {\n",
       "      background-color: #E8F0FE;\n",
       "      border: none;\n",
       "      border-radius: 50%;\n",
       "      cursor: pointer;\n",
       "      display: none;\n",
       "      fill: #1967D2;\n",
       "      height: 32px;\n",
       "      padding: 0 0 0 0;\n",
       "      width: 32px;\n",
       "    }\n",
       "\n",
       "    .colab-df-convert:hover {\n",
       "      background-color: #E2EBFA;\n",
       "      box-shadow: 0px 1px 2px rgba(60, 64, 67, 0.3), 0px 1px 3px 1px rgba(60, 64, 67, 0.15);\n",
       "      fill: #174EA6;\n",
       "    }\n",
       "\n",
       "    .colab-df-buttons div {\n",
       "      margin-bottom: 4px;\n",
       "    }\n",
       "\n",
       "    [theme=dark] .colab-df-convert {\n",
       "      background-color: #3B4455;\n",
       "      fill: #D2E3FC;\n",
       "    }\n",
       "\n",
       "    [theme=dark] .colab-df-convert:hover {\n",
       "      background-color: #434B5C;\n",
       "      box-shadow: 0px 1px 3px 1px rgba(0, 0, 0, 0.15);\n",
       "      filter: drop-shadow(0px 1px 2px rgba(0, 0, 0, 0.3));\n",
       "      fill: #FFFFFF;\n",
       "    }\n",
       "  </style>\n",
       "\n",
       "    <script>\n",
       "      const buttonEl =\n",
       "        document.querySelector('#df-0b33c4fb-d13c-4746-8ea5-f9a1d6ae9ea6 button.colab-df-convert');\n",
       "      buttonEl.style.display =\n",
       "        google.colab.kernel.accessAllowed ? 'block' : 'none';\n",
       "\n",
       "      async function convertToInteractive(key) {\n",
       "        const element = document.querySelector('#df-0b33c4fb-d13c-4746-8ea5-f9a1d6ae9ea6');\n",
       "        const dataTable =\n",
       "          await google.colab.kernel.invokeFunction('convertToInteractive',\n",
       "                                                    [key], {});\n",
       "        if (!dataTable) return;\n",
       "\n",
       "        const docLinkHtml = 'Like what you see? Visit the ' +\n",
       "          '<a target=\"_blank\" href=https://colab.research.google.com/notebooks/data_table.ipynb>data table notebook</a>'\n",
       "          + ' to learn more about interactive tables.';\n",
       "        element.innerHTML = '';\n",
       "        dataTable['output_type'] = 'display_data';\n",
       "        await google.colab.output.renderOutput(dataTable, element);\n",
       "        const docLink = document.createElement('div');\n",
       "        docLink.innerHTML = docLinkHtml;\n",
       "        element.appendChild(docLink);\n",
       "      }\n",
       "    </script>\n",
       "  </div>\n",
       "\n",
       "\n",
       "<div id=\"df-336b0c4a-2263-4cfb-bbfc-54b4908d80ef\">\n",
       "  <button class=\"colab-df-quickchart\" onclick=\"quickchart('df-336b0c4a-2263-4cfb-bbfc-54b4908d80ef')\"\n",
       "            title=\"Suggest charts\"\n",
       "            style=\"display:none;\">\n",
       "\n",
       "<svg xmlns=\"http://www.w3.org/2000/svg\" height=\"24px\"viewBox=\"0 0 24 24\"\n",
       "     width=\"24px\">\n",
       "    <g>\n",
       "        <path d=\"M19 3H5c-1.1 0-2 .9-2 2v14c0 1.1.9 2 2 2h14c1.1 0 2-.9 2-2V5c0-1.1-.9-2-2-2zM9 17H7v-7h2v7zm4 0h-2V7h2v10zm4 0h-2v-4h2v4z\"/>\n",
       "    </g>\n",
       "</svg>\n",
       "  </button>\n",
       "\n",
       "<style>\n",
       "  .colab-df-quickchart {\n",
       "      --bg-color: #E8F0FE;\n",
       "      --fill-color: #1967D2;\n",
       "      --hover-bg-color: #E2EBFA;\n",
       "      --hover-fill-color: #174EA6;\n",
       "      --disabled-fill-color: #AAA;\n",
       "      --disabled-bg-color: #DDD;\n",
       "  }\n",
       "\n",
       "  [theme=dark] .colab-df-quickchart {\n",
       "      --bg-color: #3B4455;\n",
       "      --fill-color: #D2E3FC;\n",
       "      --hover-bg-color: #434B5C;\n",
       "      --hover-fill-color: #FFFFFF;\n",
       "      --disabled-bg-color: #3B4455;\n",
       "      --disabled-fill-color: #666;\n",
       "  }\n",
       "\n",
       "  .colab-df-quickchart {\n",
       "    background-color: var(--bg-color);\n",
       "    border: none;\n",
       "    border-radius: 50%;\n",
       "    cursor: pointer;\n",
       "    display: none;\n",
       "    fill: var(--fill-color);\n",
       "    height: 32px;\n",
       "    padding: 0;\n",
       "    width: 32px;\n",
       "  }\n",
       "\n",
       "  .colab-df-quickchart:hover {\n",
       "    background-color: var(--hover-bg-color);\n",
       "    box-shadow: 0 1px 2px rgba(60, 64, 67, 0.3), 0 1px 3px 1px rgba(60, 64, 67, 0.15);\n",
       "    fill: var(--button-hover-fill-color);\n",
       "  }\n",
       "\n",
       "  .colab-df-quickchart-complete:disabled,\n",
       "  .colab-df-quickchart-complete:disabled:hover {\n",
       "    background-color: var(--disabled-bg-color);\n",
       "    fill: var(--disabled-fill-color);\n",
       "    box-shadow: none;\n",
       "  }\n",
       "\n",
       "  .colab-df-spinner {\n",
       "    border: 2px solid var(--fill-color);\n",
       "    border-color: transparent;\n",
       "    border-bottom-color: var(--fill-color);\n",
       "    animation:\n",
       "      spin 1s steps(1) infinite;\n",
       "  }\n",
       "\n",
       "  @keyframes spin {\n",
       "    0% {\n",
       "      border-color: transparent;\n",
       "      border-bottom-color: var(--fill-color);\n",
       "      border-left-color: var(--fill-color);\n",
       "    }\n",
       "    20% {\n",
       "      border-color: transparent;\n",
       "      border-left-color: var(--fill-color);\n",
       "      border-top-color: var(--fill-color);\n",
       "    }\n",
       "    30% {\n",
       "      border-color: transparent;\n",
       "      border-left-color: var(--fill-color);\n",
       "      border-top-color: var(--fill-color);\n",
       "      border-right-color: var(--fill-color);\n",
       "    }\n",
       "    40% {\n",
       "      border-color: transparent;\n",
       "      border-right-color: var(--fill-color);\n",
       "      border-top-color: var(--fill-color);\n",
       "    }\n",
       "    60% {\n",
       "      border-color: transparent;\n",
       "      border-right-color: var(--fill-color);\n",
       "    }\n",
       "    80% {\n",
       "      border-color: transparent;\n",
       "      border-right-color: var(--fill-color);\n",
       "      border-bottom-color: var(--fill-color);\n",
       "    }\n",
       "    90% {\n",
       "      border-color: transparent;\n",
       "      border-bottom-color: var(--fill-color);\n",
       "    }\n",
       "  }\n",
       "</style>\n",
       "\n",
       "  <script>\n",
       "    async function quickchart(key) {\n",
       "      const quickchartButtonEl =\n",
       "        document.querySelector('#' + key + ' button');\n",
       "      quickchartButtonEl.disabled = true;  // To prevent multiple clicks.\n",
       "      quickchartButtonEl.classList.add('colab-df-spinner');\n",
       "      try {\n",
       "        const charts = await google.colab.kernel.invokeFunction(\n",
       "            'suggestCharts', [key], {});\n",
       "      } catch (error) {\n",
       "        console.error('Error during call to suggestCharts:', error);\n",
       "      }\n",
       "      quickchartButtonEl.classList.remove('colab-df-spinner');\n",
       "      quickchartButtonEl.classList.add('colab-df-quickchart-complete');\n",
       "    }\n",
       "    (() => {\n",
       "      let quickchartButtonEl =\n",
       "        document.querySelector('#df-336b0c4a-2263-4cfb-bbfc-54b4908d80ef button');\n",
       "      quickchartButtonEl.style.display =\n",
       "        google.colab.kernel.accessAllowed ? 'block' : 'none';\n",
       "    })();\n",
       "  </script>\n",
       "</div>\n",
       "    </div>\n",
       "  </div>\n"
      ],
      "text/plain": [
       "                          Hospital_density  Communicable_disease  \\\n",
       "Hospital_density                  1.000000              0.087251   \n",
       "Communicable_disease              0.087251              1.000000   \n",
       "Hospital_Expenditure              0.593288              0.006419   \n",
       "Total_Health_Expenditure         -0.082615              0.056241   \n",
       "Injury Count                     -0.095095              0.063920   \n",
       "life_expectancy                  -0.117376              0.124787   \n",
       "Mortality                        -0.285770             -0.140811   \n",
       "Population                        0.015303             -0.049538   \n",
       "\n",
       "                          Hospital_Expenditure  Total_Health_Expenditure  \\\n",
       "Hospital_density                      0.593288                 -0.082615   \n",
       "Communicable_disease                  0.006419                  0.056241   \n",
       "Hospital_Expenditure                  1.000000                  0.544204   \n",
       "Total_Health_Expenditure              0.544204                  1.000000   \n",
       "Injury Count                          0.154273                  0.326098   \n",
       "life_expectancy                       0.293074                  0.538798   \n",
       "Mortality                            -0.274752                 -0.003324   \n",
       "Population                            0.371781                  0.480633   \n",
       "\n",
       "                          Injury Count  life_expectancy  Mortality  Population  \n",
       "Hospital_density             -0.095095        -0.117376  -0.285770    0.015303  \n",
       "Communicable_disease          0.063920         0.124787  -0.140811   -0.049538  \n",
       "Hospital_Expenditure          0.154273         0.293074  -0.274752    0.371781  \n",
       "Total_Health_Expenditure      0.326098         0.538798  -0.003324    0.480633  \n",
       "Injury Count                  1.000000         0.248627  -0.203022    0.373117  \n",
       "life_expectancy               0.248627         1.000000  -0.375352    0.032228  \n",
       "Mortality                    -0.203022        -0.375352   1.000000   -0.159901  \n",
       "Population                    0.373117         0.032228  -0.159901    1.000000  "
      ]
     },
     "execution_count": 180,
     "metadata": {},
     "output_type": "execute_result"
    }
   ],
   "source": [
    "df_new.corr()"
   ]
  },
  {
   "cell_type": "markdown",
   "metadata": {
    "id": "tCefAi6vPx64"
   },
   "source": [
    "*Machine Learning*"
   ]
  },
  {
   "cell_type": "code",
   "execution_count": 122,
   "metadata": {
    "id": "tjKn0jy2DbTx"
   },
   "outputs": [],
   "source": [
    "from sklearn.model_selection import train_test_split\n",
    "from sklearn.preprocessing import MinMaxScaler\n",
    "from sklearn.linear_model import LinearRegression"
   ]
  },
  {
   "cell_type": "code",
   "execution_count": 111,
   "metadata": {
    "id": "syTyFlCDGXU5"
   },
   "outputs": [],
   "source": [
    "X = df_new[['Communicable_disease',\n",
    "       'Hospital_Expenditure', 'Total_Health_Expenditure', 'Injury Count',\n",
    "       'life_expectancy', 'Mortality', 'Population']]"
   ]
  },
  {
   "cell_type": "code",
   "execution_count": 112,
   "metadata": {
    "id": "t9tvUvlGG_r2"
   },
   "outputs": [],
   "source": [
    "Y = df_new['Hospital_density']"
   ]
  },
  {
   "cell_type": "code",
   "execution_count": 114,
   "metadata": {
    "id": "janMKV9YHDhx"
   },
   "outputs": [],
   "source": [
    "X_train, X_test, Y_train, Y_test = train_test_split(X, Y, test_size=0.2, random_state=42)"
   ]
  },
  {
   "cell_type": "code",
   "execution_count": 181,
   "metadata": {
    "id": "tMMdkwjOHOAC"
   },
   "outputs": [],
   "source": [
    "#Scaled features\n",
    "scaler = MinMaxScaler()\n",
    "\n",
    "X_train = scaler.fit_transform(X_train)\n",
    "X_test = scaler.transform(X_test)"
   ]
  },
  {
   "cell_type": "code",
   "execution_count": 119,
   "metadata": {
    "colab": {
     "base_uri": "https://localhost:8080/"
    },
    "id": "GP3tKtc1HgMR",
    "outputId": "b68f9fb6-2c78-4878-f936-488d6d22c4ad"
   },
   "outputs": [
    {
     "data": {
      "text/plain": [
       "(717, 7)"
      ]
     },
     "execution_count": 119,
     "metadata": {},
     "output_type": "execute_result"
    }
   ],
   "source": [
    "X_train.shape"
   ]
  },
  {
   "cell_type": "code",
   "execution_count": 120,
   "metadata": {
    "colab": {
     "base_uri": "https://localhost:8080/"
    },
    "id": "id-QCxZjIIr1",
    "outputId": "d807a6fb-8fe6-44e5-e938-c026a688a1ba"
   },
   "outputs": [
    {
     "data": {
      "text/plain": [
       "(180, 7)"
      ]
     },
     "execution_count": 120,
     "metadata": {},
     "output_type": "execute_result"
    }
   ],
   "source": [
    "X_test.shape"
   ]
  },
  {
   "cell_type": "code",
   "execution_count": 123,
   "metadata": {
    "id": "ZxGycAsEH4F7"
   },
   "outputs": [],
   "source": [
    "model = LinearRegression()"
   ]
  },
  {
   "cell_type": "code",
   "execution_count": 124,
   "metadata": {
    "colab": {
     "base_uri": "https://localhost:8080/",
     "height": 75
    },
    "id": "QzMUDL3kIiFM",
    "outputId": "e46686aa-5c5c-49c6-bc50-4154dfe8d426"
   },
   "outputs": [
    {
     "data": {
      "text/html": [
       "<style>#sk-container-id-1 {color: black;background-color: white;}#sk-container-id-1 pre{padding: 0;}#sk-container-id-1 div.sk-toggleable {background-color: white;}#sk-container-id-1 label.sk-toggleable__label {cursor: pointer;display: block;width: 100%;margin-bottom: 0;padding: 0.3em;box-sizing: border-box;text-align: center;}#sk-container-id-1 label.sk-toggleable__label-arrow:before {content: \"▸\";float: left;margin-right: 0.25em;color: #696969;}#sk-container-id-1 label.sk-toggleable__label-arrow:hover:before {color: black;}#sk-container-id-1 div.sk-estimator:hover label.sk-toggleable__label-arrow:before {color: black;}#sk-container-id-1 div.sk-toggleable__content {max-height: 0;max-width: 0;overflow: hidden;text-align: left;background-color: #f0f8ff;}#sk-container-id-1 div.sk-toggleable__content pre {margin: 0.2em;color: black;border-radius: 0.25em;background-color: #f0f8ff;}#sk-container-id-1 input.sk-toggleable__control:checked~div.sk-toggleable__content {max-height: 200px;max-width: 100%;overflow: auto;}#sk-container-id-1 input.sk-toggleable__control:checked~label.sk-toggleable__label-arrow:before {content: \"▾\";}#sk-container-id-1 div.sk-estimator input.sk-toggleable__control:checked~label.sk-toggleable__label {background-color: #d4ebff;}#sk-container-id-1 div.sk-label input.sk-toggleable__control:checked~label.sk-toggleable__label {background-color: #d4ebff;}#sk-container-id-1 input.sk-hidden--visually {border: 0;clip: rect(1px 1px 1px 1px);clip: rect(1px, 1px, 1px, 1px);height: 1px;margin: -1px;overflow: hidden;padding: 0;position: absolute;width: 1px;}#sk-container-id-1 div.sk-estimator {font-family: monospace;background-color: #f0f8ff;border: 1px dotted black;border-radius: 0.25em;box-sizing: border-box;margin-bottom: 0.5em;}#sk-container-id-1 div.sk-estimator:hover {background-color: #d4ebff;}#sk-container-id-1 div.sk-parallel-item::after {content: \"\";width: 100%;border-bottom: 1px solid gray;flex-grow: 1;}#sk-container-id-1 div.sk-label:hover label.sk-toggleable__label {background-color: #d4ebff;}#sk-container-id-1 div.sk-serial::before {content: \"\";position: absolute;border-left: 1px solid gray;box-sizing: border-box;top: 0;bottom: 0;left: 50%;z-index: 0;}#sk-container-id-1 div.sk-serial {display: flex;flex-direction: column;align-items: center;background-color: white;padding-right: 0.2em;padding-left: 0.2em;position: relative;}#sk-container-id-1 div.sk-item {position: relative;z-index: 1;}#sk-container-id-1 div.sk-parallel {display: flex;align-items: stretch;justify-content: center;background-color: white;position: relative;}#sk-container-id-1 div.sk-item::before, #sk-container-id-1 div.sk-parallel-item::before {content: \"\";position: absolute;border-left: 1px solid gray;box-sizing: border-box;top: 0;bottom: 0;left: 50%;z-index: -1;}#sk-container-id-1 div.sk-parallel-item {display: flex;flex-direction: column;z-index: 1;position: relative;background-color: white;}#sk-container-id-1 div.sk-parallel-item:first-child::after {align-self: flex-end;width: 50%;}#sk-container-id-1 div.sk-parallel-item:last-child::after {align-self: flex-start;width: 50%;}#sk-container-id-1 div.sk-parallel-item:only-child::after {width: 0;}#sk-container-id-1 div.sk-dashed-wrapped {border: 1px dashed gray;margin: 0 0.4em 0.5em 0.4em;box-sizing: border-box;padding-bottom: 0.4em;background-color: white;}#sk-container-id-1 div.sk-label label {font-family: monospace;font-weight: bold;display: inline-block;line-height: 1.2em;}#sk-container-id-1 div.sk-label-container {text-align: center;}#sk-container-id-1 div.sk-container {/* jupyter's `normalize.less` sets `[hidden] { display: none; }` but bootstrap.min.css set `[hidden] { display: none !important; }` so we also need the `!important` here to be able to override the default hidden behavior on the sphinx rendered scikit-learn.org. See: https://github.com/scikit-learn/scikit-learn/issues/21755 */display: inline-block !important;position: relative;}#sk-container-id-1 div.sk-text-repr-fallback {display: none;}</style><div id=\"sk-container-id-1\" class=\"sk-top-container\"><div class=\"sk-text-repr-fallback\"><pre>LinearRegression()</pre><b>In a Jupyter environment, please rerun this cell to show the HTML representation or trust the notebook. <br />On GitHub, the HTML representation is unable to render, please try loading this page with nbviewer.org.</b></div><div class=\"sk-container\" hidden><div class=\"sk-item\"><div class=\"sk-estimator sk-toggleable\"><input class=\"sk-toggleable__control sk-hidden--visually\" id=\"sk-estimator-id-1\" type=\"checkbox\" checked><label for=\"sk-estimator-id-1\" class=\"sk-toggleable__label sk-toggleable__label-arrow\">LinearRegression</label><div class=\"sk-toggleable__content\"><pre>LinearRegression()</pre></div></div></div></div></div>"
      ],
      "text/plain": [
       "LinearRegression()"
      ]
     },
     "execution_count": 124,
     "metadata": {},
     "output_type": "execute_result"
    }
   ],
   "source": [
    "model.fit(X_train, Y_train)"
   ]
  },
  {
   "cell_type": "code",
   "execution_count": 126,
   "metadata": {
    "colab": {
     "base_uri": "https://localhost:8080/"
    },
    "id": "Dk5dB2SzIl1g",
    "outputId": "7ba5a651-4138-46f6-a6d7-97ffe505366b"
   },
   "outputs": [
    {
     "data": {
      "text/plain": [
       "array([ 4.82351249,  3.48952741,  1.78367851,  1.51646621,  4.01715099,\n",
       "        1.4926747 ,  3.58488644,  4.88259459,  2.62005047,  3.70702765,\n",
       "        4.03133904,  4.98799617,  5.9056199 ,  2.98318508,  2.81757306,\n",
       "        3.09708213,  4.26822868,  3.36186398,  7.4515114 ,  2.8491007 ,\n",
       "        3.22401126,  1.68110906,  4.43374145,  3.26482225, 14.51756524,\n",
       "        3.02913294,  4.03533427,  2.57723062,  5.33263869,  3.26455897,\n",
       "        3.2185141 ,  4.07984027,  2.7758393 ,  2.04892693,  2.29499911,\n",
       "        3.03181434,  3.91927113,  3.27456212,  4.92957052,  3.50801484,\n",
       "        2.56969544,  3.63631254,  3.88187348,  3.10854269,  1.92249648,\n",
       "        1.14574062,  1.80091315,  5.97536655,  2.60311244,  4.02223925,\n",
       "        1.72168219,  3.49833289,  0.95878486,  3.94368584,  3.66857157,\n",
       "        4.5118367 ,  1.80449214,  7.25581388,  2.52058435,  2.91037479,\n",
       "        2.19573099,  4.6315356 ,  6.45575269,  0.63716537,  3.2420914 ,\n",
       "        3.79523174,  2.00365888,  3.01078561,  3.35149456,  6.00772879,\n",
       "        1.19694909,  2.94316976,  6.20511333,  2.93752938,  3.64927134,\n",
       "        4.35857079,  2.37695837,  4.06875553,  5.6537262 ,  3.87469561,\n",
       "        5.86919097,  1.89663458,  3.64753225,  4.15875628,  3.59447594,\n",
       "        4.03576672,  3.53915658, 16.44454591,  2.92480781,  3.90220225,\n",
       "        0.94945302,  3.46186111,  6.14822851,  2.99199735,  2.29862447,\n",
       "        3.1835467 ,  4.34893925,  3.3597284 ,  3.95674788,  6.36497953,\n",
       "        1.86669758,  2.55008277,  3.08077141,  3.43581313,  2.1728929 ,\n",
       "        6.47285395,  2.58405881,  3.50807069,  3.96621771,  2.5744262 ,\n",
       "        1.70631195,  4.30726694,  3.83462722,  8.16802733,  3.46511984,\n",
       "        4.11728663,  3.92217272,  3.72588841,  3.40184671,  2.52253694,\n",
       "        2.74427433,  4.68573498,  3.36433384,  2.11147964,  3.95612715,\n",
       "        1.87962335, 13.58961786,  4.10565166,  5.95911724,  4.30627105,\n",
       "        1.32222425,  4.47971878,  3.6714791 ,  3.92560099,  4.95923031,\n",
       "        3.31675686,  3.64616164,  6.19006712,  5.59751269,  2.21085933,\n",
       "        3.42477383,  5.50902727,  4.44982489,  3.93924661,  7.28525964,\n",
       "       16.01515248,  2.12887534,  3.99826903,  4.04453149,  2.78465316,\n",
       "       16.5606872 ,  3.61230096,  3.57165765,  2.83521208,  2.18341514,\n",
       "        3.30799804,  4.25894315,  1.70703837,  3.66735444,  2.54469042,\n",
       "        6.57658382,  2.08921615,  4.13199713,  1.86616779,  4.47019369,\n",
       "        3.47705609,  2.91008345,  4.94103582,  4.21068509,  4.18766967,\n",
       "        4.18348725, 12.90473162,  3.27964976,  3.49963056,  7.72284055,\n",
       "        3.07527669,  3.76731093,  1.47633469,  6.36458095,  4.79995109])"
      ]
     },
     "execution_count": 126,
     "metadata": {},
     "output_type": "execute_result"
    }
   ],
   "source": [
    "y_pred = model.predict(X_test)\n",
    "y_pred"
   ]
  },
  {
   "cell_type": "code",
   "execution_count": 128,
   "metadata": {
    "colab": {
     "base_uri": "https://localhost:8080/"
    },
    "id": "2BvVILWtInEn",
    "outputId": "ee51db37-9d96-4c4c-a55b-b13c6877b1ac"
   },
   "outputs": [
    {
     "data": {
      "text/plain": [
       "(180,)"
      ]
     },
     "execution_count": 128,
     "metadata": {},
     "output_type": "execute_result"
    }
   ],
   "source": [
    "y_pred.shape"
   ]
  },
  {
   "cell_type": "markdown",
   "metadata": {
    "id": "NI1TKpzVP_rP"
   },
   "source": [
    "*Machine learning metrics - RMSE and R2_score*"
   ]
  },
  {
   "cell_type": "code",
   "execution_count": 190,
   "metadata": {
    "id": "RXHFK36QLBmu"
   },
   "outputs": [],
   "source": [
    "from sklearn.metrics import mean_squared_error\n",
    "from sklearn.metrics import r2_score"
   ]
  },
  {
   "cell_type": "code",
   "execution_count": 183,
   "metadata": {
    "colab": {
     "base_uri": "https://localhost:8080/"
    },
    "id": "frZEQ59sI11m",
    "outputId": "f0ba65b3-958b-4258-b7ab-85a5f98a25ac"
   },
   "outputs": [
    {
     "data": {
      "text/plain": [
       "2.3202057934814206"
      ]
     },
     "execution_count": 183,
     "metadata": {},
     "output_type": "execute_result"
    }
   ],
   "source": [
    "mse_lin = mean_squared_error(Y_test,y_pred_lin)\n",
    "rmse_lin = np.sqrt(mse_lin)\n",
    "rmse_lin"
   ]
  },
  {
   "cell_type": "code",
   "execution_count": 185,
   "metadata": {
    "colab": {
     "base_uri": "https://localhost:8080/"
    },
    "id": "h7hli4ObJK4a",
    "outputId": "afbafb6f-a173-4f1f-8dcd-3db79b4ae69e"
   },
   "outputs": [
    {
     "data": {
      "text/plain": [
       "0.9562024105805214"
      ]
     },
     "execution_count": 185,
     "metadata": {},
     "output_type": "execute_result"
    }
   ],
   "source": [
    "#Decision Tree Regression\n",
    "from sklearn.tree import DecisionTreeRegressor\n",
    "\n",
    "from sklearn.metrics import mean_squared_error\n",
    "tree_reg = DecisionTreeRegressor()\n",
    "\n",
    "tree_reg.fit(X_train, Y_train)\n",
    "\n",
    "y_pred_tree = tree_reg.predict(X_test)\n",
    "mse_tree = mean_squared_error(Y_test, y_pred_tree)\n",
    "rmse_tree = np.sqrt(mse_tree)\n",
    "rmse_tree"
   ]
  },
  {
   "cell_type": "code",
   "execution_count": 186,
   "metadata": {
    "colab": {
     "base_uri": "https://localhost:8080/"
    },
    "id": "NwwyZeF0JZC9",
    "outputId": "d82f4c84-24ad-4620-e19b-5fdb96aff78d"
   },
   "outputs": [
    {
     "data": {
      "text/plain": [
       "0.7077287754272665"
      ]
     },
     "execution_count": 186,
     "metadata": {},
     "output_type": "execute_result"
    }
   ],
   "source": [
    "#Random Forest Regression\n",
    "from sklearn.ensemble import RandomForestRegressor\n",
    "forest_reg = RandomForestRegressor()\n",
    "\n",
    "forest_reg.fit(X_train, Y_train)\n",
    "\n",
    "y_pred_forest = forest_reg.predict(X_test)\n",
    "\n",
    "mse_forest = mean_squared_error(Y_test, y_pred_forest)\n",
    "rmse_forest = np.sqrt(mse_forest)\n",
    "rmse_forest"
   ]
  },
  {
   "cell_type": "markdown",
   "metadata": {
    "id": "3v-7eRk-QROm"
   },
   "source": [
    "*Actual vs Prediction values for the Methods*"
   ]
  },
  {
   "cell_type": "code",
   "execution_count": 187,
   "metadata": {
    "colab": {
     "base_uri": "https://localhost:8080/",
     "height": 564
    },
    "id": "MFZRKUlGKhcj",
    "outputId": "60869fe4-ef82-4ed8-c8d3-0ab20538b533"
   },
   "outputs": [
    {
     "data": {
      "image/png": "[encoded data removed]",
      "text/plain": [
       "<Figure size 800x600 with 1 Axes>"
      ]
     },
     "metadata": {},
     "output_type": "display_data"
    }
   ],
   "source": [
    "plt.figure(figsize=(8, 6))\n",
    "plt.scatter(Y_test, Y_test, c='blue', label='Actual')\n",
    "plt.scatter(Y_test, y_pred_lin, c='red', label='Predicted')\n",
    "\n",
    "plt.title('Actual vs. Predicted Values')\n",
    "plt.xlabel('Actual Values')\n",
    "plt.ylabel('Predicted Values')\n",
    "plt.legend(loc='best')\n",
    "plt.grid(True)\n",
    "plt.show()"
   ]
  },
  {
   "cell_type": "code",
   "execution_count": 188,
   "metadata": {
    "colab": {
     "base_uri": "https://localhost:8080/",
     "height": 564
    },
    "id": "HQAz64QQMuzP",
    "outputId": "6bfe75c2-a9c5-4f98-8b43-cdd848c8a98e"
   },
   "outputs": [
    {
     "data": {
      "image/png": "[encoded data removed]",
      "text/plain": [
       "<Figure size 800x600 with 1 Axes>"
      ]
     },
     "metadata": {},
     "output_type": "display_data"
    }
   ],
   "source": [
    "plt.figure(figsize=(8, 6))\n",
    "plt.scatter(Y_test, Y_test, c='blue', label='Actual')\n",
    "plt.scatter(Y_test, y_pred_tree, c='red', label='Predicted')\n",
    "\n",
    "plt.title('Actual vs. Predicted Values')\n",
    "plt.xlabel('Actual Values')\n",
    "plt.ylabel('Predicted Values')\n",
    "plt.legend(loc='best')\n",
    "plt.grid(True)\n",
    "plt.show()"
   ]
  },
  {
   "cell_type": "code",
   "execution_count": 189,
   "metadata": {
    "colab": {
     "base_uri": "https://localhost:8080/",
     "height": 564
    },
    "id": "_ZQVroNMOF65",
    "outputId": "5704fbc1-d6c6-4957-c77b-da628574b764"
   },
   "outputs": [
    {
     "data": {
      "image/png": "[encoded data removed]",
      "text/plain": [
       "<Figure size 800x600 with 1 Axes>"
      ]
     },
     "metadata": {},
     "output_type": "display_data"
    }
   ],
   "source": [
    "plt.figure(figsize=(8, 6))\n",
    "plt.scatter(Y_test, Y_test, c='blue', label='Actual')\n",
    "plt.scatter(Y_test, y_pred_forest, c='red', label='Predicted')\n",
    "\n",
    "plt.title('Actual vs. Predicted Values')\n",
    "plt.xlabel('Actual Values')\n",
    "plt.ylabel('Predicted Values')\n",
    "plt.legend(loc='best')\n",
    "plt.grid(True)\n",
    "plt.show()"
   ]
  },
  {
   "cell_type": "markdown",
   "metadata": {
    "id": "U_ZfNRkLQng0"
   },
   "source": [
    "A lower RMSE suggests that the model's predictions are closer to the actual values, indicating a better fit. From the three methods, the random forest regressor has the smallest rmse which means it is the best performer"
   ]
  },
  {
   "cell_type": "markdown",
   "metadata": {
    "id": "6WVVwHFcR33z"
   },
   "source": [
    "**Find the R-squared**"
   ]
  },
  {
   "cell_type": "code",
   "execution_count": 199,
   "metadata": {
    "colab": {
     "base_uri": "https://localhost:8080/"
    },
    "id": "3OCRwRf5Q1JT",
    "outputId": "99b01c2d-d6b9-47d5-ced2-f9614d29bb5e"
   },
   "outputs": [
    {
     "data": {
      "text/plain": [
       "0.5654167674759212"
      ]
     },
     "execution_count": 199,
     "metadata": {},
     "output_type": "execute_result"
    }
   ],
   "source": [
    "#R squared for Linear Regression\n",
    "r2_lin = r2_score(Y_test,y_pred_lin)\n",
    "r2_lin"
   ]
  },
  {
   "cell_type": "code",
   "execution_count": 197,
   "metadata": {
    "colab": {
     "base_uri": "https://localhost:8080/"
    },
    "id": "cgf9KNTNRYSo",
    "outputId": "a4fe04c3-2df2-4510-ddf7-2935f6c565f0"
   },
   "outputs": [
    {
     "data": {
      "text/plain": [
       "0.9261892495958077"
      ]
     },
     "execution_count": 197,
     "metadata": {},
     "output_type": "execute_result"
    }
   ],
   "source": [
    "#R squared for Descision Tree regression\n",
    "r2_tree = r2_score(Y_test,y_pred_tree)\n",
    "r2_tree"
   ]
  },
  {
   "cell_type": "code",
   "execution_count": 198,
   "metadata": {
    "colab": {
     "base_uri": "https://localhost:8080/"
    },
    "id": "N5rlymdtRcvV",
    "outputId": "350c14b0-3a67-420c-d5a3-80729e9fcf8b"
   },
   "outputs": [
    {
     "data": {
      "text/plain": [
       "0.9595653526324593"
      ]
     },
     "execution_count": 198,
     "metadata": {},
     "output_type": "execute_result"
    }
   ],
   "source": [
    "#R squared for Random forest\n",
    "r2_forest = r2_score(Y_test,y_pred_forest)\n",
    "r2_forest"
   ]
  },
  {
   "cell_type": "markdown",
   "metadata": {
    "id": "FbnbWBn8SeHV"
   },
   "source": [
    "**The random forest R-squared is considered an excellent fit of the model to the data.**"
   ]
  },
  {
   "cell_type": "markdown",
   "metadata": {
    "id": "uDhov2OtTKfz"
   },
   "source": [
    "**Done!**"
   ]
  }
 ],
 "metadata": {
  "colab": {
   "authorship_tag": "ABX9TyOTpctBrgu8MVqG5Q5KFBVp",
   "include_colab_link": true,
   "provenance": []
  },
  "kernelspec": {
   "display_name": "Python 3 (ipykernel)",
   "language": "python",
   "name": "python3"
  },
  "language_info": {
   "codemirror_mode": {
    "name": "ipython",
    "version": 3
   },
   "file_extension": ".py",
   "mimetype": "text/x-python",
   "name": "python",
   "nbconvert_exporter": "python",
   "pygments_lexer": "ipython3",
   "version": "3.10.7"
  }
 },
 "nbformat": 4,
 "nbformat_minor": 4
}
